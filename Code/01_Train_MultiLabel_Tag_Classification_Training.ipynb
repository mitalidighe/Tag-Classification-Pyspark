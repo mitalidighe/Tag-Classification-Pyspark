{
 "cells": [
  {
   "cell_type": "code",
   "execution_count": 1,
   "id": "19a96440-eab9-48f3-b8f1-f41b2fbf9e8a",
   "metadata": {},
   "outputs": [],
   "source": [
    "from pyspark.sql import SparkSession\n",
    "from pyspark.sql import functions as F\n",
    "\n",
    "import matplotlib.pyplot as plt\n",
    "%matplotlib inline"
   ]
  },
  {
   "cell_type": "code",
   "execution_count": 2,
   "id": "81c3818f-3fab-4eb3-a98b-2b27d56cd447",
   "metadata": {},
   "outputs": [],
   "source": [
    "#create Spark session\n",
    "spark = SparkSession.builder.appName('Stackoverflow_Project').getOrCreate()\n",
    "\n",
    "#change configuration settings on Spark \n",
    "conf = spark.sparkContext._conf.setAll([('spark.executor.memory', '5g'), \n",
    "                                        ('spark.app.name', 'Spark Updated Conf'), \n",
    "                                        ('spark.executor.cores', '4'), \n",
    "                                        ('spark.cores.max', '4'), \n",
    "                                        ('spark.driver.memory','8g')])"
   ]
  },
  {
   "cell_type": "code",
   "execution_count": 3,
   "id": "a008f152-182c-4c79-91b0-6d60ebd0e510",
   "metadata": {},
   "outputs": [
    {
     "name": "stderr",
     "output_type": "stream",
     "text": [
      "                                                                                \r"
     ]
    }
   ],
   "source": [
    "#Read the cleaned and pre-processed data from the GCS bucket\n",
    "df = spark.read \\\n",
    "    .option(\"quote\", \"\\\"\")  \\\n",
    "    .option(\"escape\", \"\\\"\") \\\n",
    "    .option(\"ignoreLeadingWhiteSpace\",True) \\\n",
    "    .parquet(\"gs://msca-bdp-student-gcs/Group6/extracted_StackOverflow.parquet\",inferSchema=True, header=True )"
   ]
  },
  {
   "cell_type": "code",
   "execution_count": 4,
   "id": "d55fc7fe-6a1e-461d-acb7-722aed2047a1",
   "metadata": {},
   "outputs": [
    {
     "name": "stderr",
     "output_type": "stream",
     "text": [
      "                                                                                \r"
     ]
    },
    {
     "data": {
      "text/plain": [
       "2605413"
      ]
     },
     "execution_count": 4,
     "metadata": {},
     "output_type": "execute_result"
    }
   ],
   "source": [
    "df.count()"
   ]
  },
  {
   "cell_type": "code",
   "execution_count": 5,
   "id": "cd679e61-5625-48b8-aab7-31a8c74cec2b",
   "metadata": {},
   "outputs": [
    {
     "name": "stderr",
     "output_type": "stream",
     "text": [
      "24/12/01 05:50:17 WARN org.apache.spark.sql.catalyst.util.package: Truncated the string representation of a plan since it was too large. This behavior can be adjusted by setting 'spark.sql.debug.maxToStringFields'.\n",
      "[Stage 4:>                                                          (0 + 1) / 1]\r"
     ]
    },
    {
     "name": "stdout",
     "output_type": "stream",
     "text": [
      "+--------+--------------------+--------------------+-----------------------+-----------------+------------------+------------------+-------------------+-----------------------+-------------------+------------------------+------------------+-----------------+----------+--------------------+---------------+---------+--------------------+--------------------+--------------------+-------------------------+---------------------+--------------------------+--------------------+----------------+-------------------+------------+--------------------+--------------------+\n",
      "| post_id|          post_title|           post_body|post_accepted_answer_id|post_answer_count|post_comment_count|post_creation_date|post_favorite_count|post_last_activity_date|post_last_edit_date|post_last_editor_user_id|post_owner_user_id|post_post_type_id|post_score|           post_tags|post_view_count|answer_id|         answer_body|answer_comment_count|answer_creation_date|answer_last_activity_date|answer_last_edit_date|answer_last_editor_user_id|answer_owner_user_id|answer_parent_id|answer_post_type_id|answer_score|      post_body_code|      post_body_text|\n",
      "+--------+--------------------+--------------------+-----------------------+-----------------+------------------+------------------+-------------------+-----------------------+-------------------+------------------------+------------------+-----------------+----------+--------------------+---------------+---------+--------------------+--------------------+--------------------+-------------------------+---------------------+--------------------------+--------------------+----------------+-------------------+------------+--------------------+--------------------+\n",
      "|21728933|Android Dex: Unab...|<p>I follow the s...|               23101737|                5|                 4|        2014-02-12|                  1|             2016-05-03|               null|                    null|           1973953|                1|         8|android|intellij-...|          13504| 47694737|<p>I had same pro...|                   0| 1512648227490000000|               2017-12-07|                 null|                      null|             1780600|        21728933|                  2|           0|                    | i follow the ste...|\n",
      "|16998157|Detect 64-bits in...|<p>Is <code>sizeo...|               16998279|                6|                 1|        2013-06-08|                  2|             2013-06-14|               null|                    null|            646947|                1|         8| c|64bit|portability|            439| 16998228|<blockquote>\n",
      "  <p...|                   1| 1370684832943000000|               2013-06-08|                 null|                      null|             1126268|        16998157|                  2|           4|sizeof(size_t)==8...| is the equivalen...|\n",
      "|15052206|Python pip instal...|<p>I'm a newbie a...|               15052360|                6|                 0|        2013-02-24|                  3|             2016-04-30|         2015-02-17|                 1480391|           1953478|                1|        10|python|module|pat...|          16758| 57262820|<p><strong>For th...|                   0| 1564446565657000000|               2019-07-30|           2019-07-30|                   5112419|             5112419|        15052206|                  2|           3|$ pip install pyS...| i m a newbie and...|\n",
      "|32655229|c# Remove duplica...|<p>I have a situa...|               32655711|                5|                 1|        2015-09-18|               null|             2015-09-18|               null|                    null|           3735638|                1|         1|c#|linq|csv|datat...|            112| 32655563|<p>The Dictionary...|                   1| 1442589547290000000|               2015-09-18|           2015-09-18|                    991788|              991788|        32655229|                  2|           2|Student Names Add...| i have a situati...|\n",
      "|35043340|Continue Java Pro...|<p>After catching...|                   null|                6|                 3|        2016-01-27|               null|             2016-01-27|               null|                    null|           5816603|                1|         0|java|exception|ex...|             58| 35043379|<p>The <code>cont...|                   2| 1453913597983000000|               2016-01-27|           2017-05-23|                        -1|             2353911|        35043340|                  2|           1| do{ //Begin of l...| after catching a...|\n",
      "+--------+--------------------+--------------------+-----------------------+-----------------+------------------+------------------+-------------------+-----------------------+-------------------+------------------------+------------------+-----------------+----------+--------------------+---------------+---------+--------------------+--------------------+--------------------+-------------------------+---------------------+--------------------------+--------------------+----------------+-------------------+------------+--------------------+--------------------+\n",
      "only showing top 5 rows\n",
      "\n"
     ]
    },
    {
     "name": "stderr",
     "output_type": "stream",
     "text": [
      "                                                                                \r"
     ]
    }
   ],
   "source": [
    "df.show(5)"
   ]
  },
  {
   "cell_type": "code",
   "execution_count": 6,
   "id": "6ad3432a-3cb6-4bc7-903e-63d29ac40456",
   "metadata": {},
   "outputs": [
    {
     "name": "stdout",
     "output_type": "stream",
     "text": [
      "root\n",
      " |-- post_id: long (nullable = true)\n",
      " |-- post_title: string (nullable = true)\n",
      " |-- post_body: string (nullable = true)\n",
      " |-- post_accepted_answer_id: long (nullable = true)\n",
      " |-- post_answer_count: long (nullable = true)\n",
      " |-- post_comment_count: long (nullable = true)\n",
      " |-- post_creation_date: date (nullable = true)\n",
      " |-- post_favorite_count: long (nullable = true)\n",
      " |-- post_last_activity_date: date (nullable = true)\n",
      " |-- post_last_edit_date: date (nullable = true)\n",
      " |-- post_last_editor_user_id: long (nullable = true)\n",
      " |-- post_owner_user_id: long (nullable = true)\n",
      " |-- post_post_type_id: long (nullable = true)\n",
      " |-- post_score: long (nullable = true)\n",
      " |-- post_tags: string (nullable = true)\n",
      " |-- post_view_count: long (nullable = true)\n",
      " |-- answer_id: long (nullable = true)\n",
      " |-- answer_body: string (nullable = true)\n",
      " |-- answer_comment_count: long (nullable = true)\n",
      " |-- answer_creation_date: long (nullable = true)\n",
      " |-- answer_last_activity_date: date (nullable = true)\n",
      " |-- answer_last_edit_date: date (nullable = true)\n",
      " |-- answer_last_editor_user_id: long (nullable = true)\n",
      " |-- answer_owner_user_id: long (nullable = true)\n",
      " |-- answer_parent_id: long (nullable = true)\n",
      " |-- answer_post_type_id: long (nullable = true)\n",
      " |-- answer_score: long (nullable = true)\n",
      " |-- post_body_code: string (nullable = true)\n",
      " |-- post_body_text: string (nullable = true)\n",
      "\n"
     ]
    }
   ],
   "source": [
    "df.printSchema()"
   ]
  },
  {
   "cell_type": "code",
   "execution_count": 7,
   "id": "7c7b0802-dc78-4b96-b7d8-ed49e891ad87",
   "metadata": {},
   "outputs": [
    {
     "name": "stderr",
     "output_type": "stream",
     "text": [
      "                                                                                \r"
     ]
    },
    {
     "data": {
      "text/plain": [
       "369090"
      ]
     },
     "execution_count": 7,
     "metadata": {},
     "output_type": "execute_result"
    }
   ],
   "source": [
    "#Count rows with missing values\n",
    "df.dropna().count() #no duplicates"
   ]
  },
  {
   "cell_type": "code",
   "execution_count": 8,
   "id": "5313924e-f7b9-418a-98f0-ecefe89675ea",
   "metadata": {},
   "outputs": [
    {
     "name": "stderr",
     "output_type": "stream",
     "text": [
      "[Stage 8:======================================================>  (27 + 1) / 28]\r"
     ]
    },
    {
     "name": "stdout",
     "output_type": "stream",
     "text": [
      "+--------------------+--------------------+----------------+\n",
      "|      post_body_text|           post_tags|Count of Answers|\n",
      "+--------------------+--------------------+----------------+\n",
      "| is there an easy...|     c|struct|unions|               7|\n",
      "| my oracle databa...|.net|database|ora...|               5|\n",
      "| given an integer...|java|parsing|integer|               7|\n",
      "| why are the stat...|                java|               6|\n",
      "| the above code g...|java|multithreadi...|               6|\n",
      "+--------------------+--------------------+----------------+\n",
      "only showing top 5 rows\n",
      "\n"
     ]
    },
    {
     "name": "stderr",
     "output_type": "stream",
     "text": [
      "                                                                                \r"
     ]
    }
   ],
   "source": [
    "#Data is at answers level, aggregate to get at post level\n",
    "df_2 = df.select('post_body_text','post_tags') \\\n",
    "         .groupBy('post_body_text','post_tags').count()\n",
    "\n",
    "df_2 = df_2.withColumnRenamed('count', 'Count of Answers')\n",
    "df_2.show(5)"
   ]
  },
  {
   "cell_type": "code",
   "execution_count": 9,
   "id": "b495e377-5b0b-4d3a-b40e-f8f149b6d538",
   "metadata": {},
   "outputs": [
    {
     "name": "stderr",
     "output_type": "stream",
     "text": [
      "                                                                                \r"
     ]
    },
    {
     "data": {
      "text/plain": [
       "367336"
      ]
     },
     "execution_count": 9,
     "metadata": {},
     "output_type": "execute_result"
    }
   ],
   "source": [
    "df_2 = df_2.filter(df_2[\"post_body_text\"].isNotNull())\n",
    "df_2 = df_2.dropDuplicates([\"post_body_text\"])\n",
    "df_2.count()"
   ]
  },
  {
   "cell_type": "code",
   "execution_count": 10,
   "id": "4b7156ed-972a-4648-ab2d-a3aeaadea79e",
   "metadata": {},
   "outputs": [
    {
     "name": "stderr",
     "output_type": "stream",
     "text": [
      "                                                                                \r"
     ]
    },
    {
     "data": {
      "text/plain": [
       "0"
      ]
     },
     "execution_count": 10,
     "metadata": {},
     "output_type": "execute_result"
    }
   ],
   "source": [
    "df_2.filter(df_2[\"post_tags\"].isNull()).count()"
   ]
  },
  {
   "cell_type": "code",
   "execution_count": 11,
   "id": "fb858678-7fec-4a34-a4f5-ed96852c1581",
   "metadata": {},
   "outputs": [
    {
     "name": "stderr",
     "output_type": "stream",
     "text": [
      "[Stage 33:==============================================>          (9 + 2) / 11]\r"
     ]
    },
    {
     "data": {
      "text/plain": [
       "9"
      ]
     },
     "execution_count": 11,
     "metadata": {},
     "output_type": "execute_result"
    }
   ],
   "source": [
    "df_2.rdd.getNumPartitions()"
   ]
  },
  {
   "cell_type": "code",
   "execution_count": 12,
   "id": "c56d078e-4b7d-4fec-a161-11b5263545bd",
   "metadata": {},
   "outputs": [],
   "source": [
    "df_2 = df_2.repartition(40)"
   ]
  },
  {
   "cell_type": "code",
   "execution_count": 13,
   "id": "6b7c7148-9cba-48cb-a9d0-690fe9203726",
   "metadata": {},
   "outputs": [],
   "source": [
    "from pyspark.sql.functions import split, explode, col, lit, array_contains\n",
    "\n",
    "#Split tags into an array\n",
    "df_2 = df_2.withColumn(\"tags_array\", split(col(\"post_tags\"), \"\\|\"))\n",
    "\n",
    "#Explode tags and count frequencies\n",
    "exploded_df = df_2.select('post_body_text','post_tags',explode(col(\"tags_array\")).alias(\"tag\"))\n",
    "tag_counts = exploded_df.groupBy(\"tag\").count().orderBy(col(\"count\").desc())"
   ]
  },
  {
   "cell_type": "code",
   "execution_count": 14,
   "id": "719ee9f2-c4aa-4a90-98b6-35fbcbb9fa51",
   "metadata": {},
   "outputs": [
    {
     "name": "stderr",
     "output_type": "stream",
     "text": [
      "[Stage 39:======================================>                   (6 + 3) / 9]\r"
     ]
    },
    {
     "name": "stdout",
     "output_type": "stream",
     "text": [
      "+--------------------+-------------------+------+\n",
      "|      post_body_text|          post_tags|   tag|\n",
      "+--------------------+-------------------+------+\n",
      "| i m trying to st...|c++|c|system|stdout|   c++|\n",
      "| i m trying to st...|c++|c|system|stdout|     c|\n",
      "| i m trying to st...|c++|c|system|stdout|system|\n",
      "| i m trying to st...|c++|c|system|stdout|stdout|\n",
      "| i have a table w...|          sql|mysql|   sql|\n",
      "+--------------------+-------------------+------+\n",
      "only showing top 5 rows\n",
      "\n"
     ]
    },
    {
     "name": "stderr",
     "output_type": "stream",
     "text": [
      "                                                                                \r"
     ]
    }
   ],
   "source": [
    "exploded_df.show(5)"
   ]
  },
  {
   "cell_type": "code",
   "execution_count": 15,
   "id": "2c4633da-ee05-4221-a11d-c50aa3a605e5",
   "metadata": {},
   "outputs": [
    {
     "name": "stderr",
     "output_type": "stream",
     "text": [
      "                                                                                \r"
     ]
    },
    {
     "data": {
      "text/plain": [
       "['java',\n",
       " 'c#',\n",
       " 'javascript',\n",
       " 'php',\n",
       " 'c++',\n",
       " 'jquery',\n",
       " 'html',\n",
       " 'python',\n",
       " 'css',\n",
       " 'android',\n",
       " 'c',\n",
       " '.net',\n",
       " 'sql',\n",
       " 'mysql',\n",
       " 'arrays',\n",
       " 'asp.net',\n",
       " 'string',\n",
       " 'sql-server',\n",
       " 'iphone',\n",
       " 'ios',\n",
       " 'regex',\n",
       " 'objective-c',\n",
       " 'algorithm',\n",
       " 'ruby',\n",
       " 'performance',\n",
       " 'database',\n",
       " 'linux',\n",
       " 'ruby-on-rails',\n",
       " 'windows',\n",
       " 'list',\n",
       " 'multithreading',\n",
       " 'oop',\n",
       " 'bash',\n",
       " 'eclipse',\n",
       " 'asp.net-mvc',\n",
       " 'ajax',\n",
       " 'perl',\n",
       " 'json',\n",
       " 'pointers',\n",
       " 'visual-studio',\n",
       " 'xml',\n",
       " 'winforms',\n",
       " 'linq',\n",
       " 'function',\n",
       " 'class',\n",
       " 'tsql',\n",
       " 'vb.net',\n",
       " 'wpf',\n",
       " 'xcode',\n",
       " 'language-agnostic']"
      ]
     },
     "execution_count": 15,
     "metadata": {},
     "output_type": "execute_result"
    }
   ],
   "source": [
    "#Select top 50 tags\n",
    "top_50_tags = tag_counts.limit(50).select(\"tag\").rdd.flatMap(lambda x: x).collect()\n",
    "top_50_tags"
   ]
  },
  {
   "cell_type": "code",
   "execution_count": 16,
   "id": "2aa42c9a-41e0-4102-862a-3f09ce62cb68",
   "metadata": {},
   "outputs": [
    {
     "name": "stderr",
     "output_type": "stream",
     "text": [
      "                                                                                \r"
     ]
    },
    {
     "data": {
      "text/plain": [
       "502984"
      ]
     },
     "execution_count": 16,
     "metadata": {},
     "output_type": "execute_result"
    }
   ],
   "source": [
    "#Filter data for top 50 tags\n",
    "exploded_df_filtered = exploded_df.filter(col('tag').isin(top_50_tags))\n",
    "exploded_df_filtered.count()"
   ]
  },
  {
   "cell_type": "code",
   "execution_count": 17,
   "id": "07333853-c2e1-4e4f-9dbf-8cddc6dc269f",
   "metadata": {},
   "outputs": [
    {
     "name": "stderr",
     "output_type": "stream",
     "text": [
      "[Stage 77:==============================================>          (9 + 2) / 11]\r"
     ]
    },
    {
     "name": "stdout",
     "output_type": "stream",
     "text": [
      "root\n",
      " |-- post_body_text: string (nullable = true)\n",
      " |-- post_tags: string (nullable = true)\n",
      " |-- .net: long (nullable = true)\n",
      " |-- ajax: long (nullable = true)\n",
      " |-- algorithm: long (nullable = true)\n",
      " |-- android: long (nullable = true)\n",
      " |-- arrays: long (nullable = true)\n",
      " |-- asp.net: long (nullable = true)\n",
      " |-- asp.net-mvc: long (nullable = true)\n",
      " |-- bash: long (nullable = true)\n",
      " |-- c: long (nullable = true)\n",
      " |-- c#: long (nullable = true)\n",
      " |-- c++: long (nullable = true)\n",
      " |-- class: long (nullable = true)\n",
      " |-- css: long (nullable = true)\n",
      " |-- database: long (nullable = true)\n",
      " |-- eclipse: long (nullable = true)\n",
      " |-- function: long (nullable = true)\n",
      " |-- html: long (nullable = true)\n",
      " |-- ios: long (nullable = true)\n",
      " |-- iphone: long (nullable = true)\n",
      " |-- java: long (nullable = true)\n",
      " |-- javascript: long (nullable = true)\n",
      " |-- jquery: long (nullable = true)\n",
      " |-- json: long (nullable = true)\n",
      " |-- language-agnostic: long (nullable = true)\n",
      " |-- linq: long (nullable = true)\n",
      " |-- linux: long (nullable = true)\n",
      " |-- list: long (nullable = true)\n",
      " |-- multithreading: long (nullable = true)\n",
      " |-- mysql: long (nullable = true)\n",
      " |-- objective-c: long (nullable = true)\n",
      " |-- oop: long (nullable = true)\n",
      " |-- performance: long (nullable = true)\n",
      " |-- perl: long (nullable = true)\n",
      " |-- php: long (nullable = true)\n",
      " |-- pointers: long (nullable = true)\n",
      " |-- python: long (nullable = true)\n",
      " |-- regex: long (nullable = true)\n",
      " |-- ruby: long (nullable = true)\n",
      " |-- ruby-on-rails: long (nullable = true)\n",
      " |-- sql: long (nullable = true)\n",
      " |-- sql-server: long (nullable = true)\n",
      " |-- string: long (nullable = true)\n",
      " |-- tsql: long (nullable = true)\n",
      " |-- vb.net: long (nullable = true)\n",
      " |-- visual-studio: long (nullable = true)\n",
      " |-- windows: long (nullable = true)\n",
      " |-- winforms: long (nullable = true)\n",
      " |-- wpf: long (nullable = true)\n",
      " |-- xcode: long (nullable = true)\n",
      " |-- xml: long (nullable = true)\n",
      "\n"
     ]
    },
    {
     "name": "stderr",
     "output_type": "stream",
     "text": [
      "                                                                                \r"
     ]
    }
   ],
   "source": [
    "#Pivot data\n",
    "exploded_df_filtered = exploded_df_filtered.groupBy(\"post_body_text\",\"post_tags\").pivot(\"tag\").count()\n",
    "exploded_df_filtered.printSchema()"
   ]
  },
  {
   "cell_type": "code",
   "execution_count": 18,
   "id": "2c3f447a-35fb-419c-821b-e380c84e1ccc",
   "metadata": {},
   "outputs": [
    {
     "name": "stderr",
     "output_type": "stream",
     "text": [
      "                                                                                \r"
     ]
    },
    {
     "data": {
      "text/plain": [
       "318647"
      ]
     },
     "execution_count": 18,
     "metadata": {},
     "output_type": "execute_result"
    }
   ],
   "source": [
    "exploded_df_filtered.count()"
   ]
  },
  {
   "cell_type": "code",
   "execution_count": 19,
   "id": "df755c34-570d-46b5-b242-ae62ecbae110",
   "metadata": {},
   "outputs": [],
   "source": [
    "#The dot character triggers an error when used in column names. So rename these columns.\n",
    "exploded_df_filtered = exploded_df_filtered.withColumnRenamed('.net', 'dot_net')\n",
    "exploded_df_filtered = exploded_df_filtered.withColumnRenamed('asp.net-mvc', 'asp_dot_net-mvc')\n",
    "exploded_df_filtered = exploded_df_filtered.withColumnRenamed('asp.net', 'asp_dot_net')\n",
    "exploded_df_filtered = exploded_df_filtered.withColumnRenamed('vb.net', 'vb_dot_net')"
   ]
  },
  {
   "cell_type": "code",
   "execution_count": 20,
   "id": "891782a2-92de-4d2e-b988-3ee028531ebb",
   "metadata": {},
   "outputs": [
    {
     "data": {
      "text/plain": [
       "['java',\n",
       " 'c#',\n",
       " 'javascript',\n",
       " 'php',\n",
       " 'c++',\n",
       " 'jquery',\n",
       " 'html',\n",
       " 'python',\n",
       " 'css',\n",
       " 'android',\n",
       " 'c',\n",
       " 'sql',\n",
       " 'mysql',\n",
       " 'arrays',\n",
       " 'string',\n",
       " 'sql-server',\n",
       " 'iphone',\n",
       " 'ios',\n",
       " 'regex',\n",
       " 'objective-c',\n",
       " 'algorithm',\n",
       " 'ruby',\n",
       " 'performance',\n",
       " 'database',\n",
       " 'linux',\n",
       " 'ruby-on-rails',\n",
       " 'windows',\n",
       " 'list',\n",
       " 'multithreading',\n",
       " 'oop',\n",
       " 'bash',\n",
       " 'eclipse',\n",
       " 'ajax',\n",
       " 'perl',\n",
       " 'json',\n",
       " 'pointers',\n",
       " 'visual-studio',\n",
       " 'xml',\n",
       " 'winforms',\n",
       " 'linq',\n",
       " 'function',\n",
       " 'class',\n",
       " 'tsql',\n",
       " 'wpf',\n",
       " 'xcode',\n",
       " 'language-agnostic',\n",
       " 'asp_dot_net',\n",
       " 'asp_dot_net-mvc',\n",
       " 'vb_dot_net',\n",
       " 'dot_net']"
      ]
     },
     "execution_count": 20,
     "metadata": {},
     "output_type": "execute_result"
    }
   ],
   "source": [
    "#Also rename in tags list\n",
    "top_50_tags.remove('.net')\n",
    "top_50_tags.remove('asp.net-mvc')\n",
    "top_50_tags.remove('asp.net')\n",
    "top_50_tags.remove('vb.net')\n",
    "top_50_tags = top_50_tags + ['asp_dot_net','asp_dot_net-mvc','vb_dot_net','dot_net']\n",
    "top_50_tags"
   ]
  },
  {
   "cell_type": "code",
   "execution_count": 21,
   "id": "59039403-4528-4864-9cc8-35082b067fe0",
   "metadata": {},
   "outputs": [
    {
     "name": "stderr",
     "output_type": "stream",
     "text": [
      "[Stage 138:======>                                                  (1 + 8) / 9]\r"
     ]
    },
    {
     "name": "stdout",
     "output_type": "stream",
     "text": [
      "+--------------------+--------------------+-------+----+---------+-------+------+-----------+---------------+----+---+---+---+-----+---+--------+-------+--------+----+---+------+----+----------+------+----+-----------------+----+-----+----+--------------+-----+-----------+---+-----------+----+---+--------+------+-----+----+-------------+---+----------+------+----+----------+-------------+-------+--------+---+-----+---+\n",
      "|      post_body_text|           post_tags|dot_net|ajax|algorithm|android|arrays|asp_dot_net|asp_dot_net-mvc|bash|  c| c#|c++|class|css|database|eclipse|function|html|ios|iphone|java|javascript|jquery|json|language-agnostic|linq|linux|list|multithreading|mysql|objective-c|oop|performance|perl|php|pointers|python|regex|ruby|ruby-on-rails|sql|sql-server|string|tsql|vb_dot_net|visual-studio|windows|winforms|wpf|xcode|xml|\n",
      "+--------------------+--------------------+-------+----+---------+-------+------+-----------+---------------+----+---+---+---+-----+---+--------+-------+--------+----+---+------+----+----------+------+----+-----------------+----+-----+----+--------------+-----+-----------+---+-----------+----+---+--------+------+-----+----+-------------+---+----------+------+----+----------+-------------+-------+--------+---+-----+---+\n",
      "| how complier tre...|          c++|inline|      0|   0|        0|      0|     0|          0|              0|   0|  0|  0|  1|    0|  0|       0|      0|       0|   0|  0|     0|   0|         0|     0|   0|                0|   0|    0|   0|             0|    0|          0|  0|          0|   0|  0|       0|     0|    0|   0|            0|  0|         0|     0|   0|         0|            0|      0|       0|  0|    0|  0|\n",
      "| i have the follo...|javascript|jquery...|      0|   0|        0|      0|     0|          0|              0|   0|  0|  0|  0|    0|  0|       0|      0|       0|   0|  0|     0|   0|         1|     1|   0|                0|   0|    0|   0|             0|    0|          0|  0|          0|   0|  0|       0|     0|    0|   0|            0|  0|         0|     0|   0|         0|            0|      0|       0|  0|    0|  0|\n",
      "| i have a string ...|   javascript|jquery|      0|   0|        0|      0|     0|          0|              0|   0|  0|  0|  0|    0|  0|       0|      0|       0|   0|  0|     0|   0|         1|     1|   0|                0|   0|    0|   0|             0|    0|          0|  0|          0|   0|  0|       0|     0|    0|   0|            0|  0|         0|     0|   0|         0|            0|      0|       0|  0|    0|  0|\n",
      "| is there any c c...|c++|c|cross-platf...|      0|   0|        0|      0|     0|          0|              0|   0|  1|  0|  1|    0|  0|       0|      0|       0|   0|  0|     0|   0|         0|     0|   0|                0|   0|    0|   0|             0|    0|          0|  0|          0|   0|  0|       0|     0|    0|   0|            0|  0|         0|     0|   0|         0|            0|      0|       0|  0|    0|  0|\n",
      "| i have an html p...|javascript|html|s...|      0|   0|        0|      0|     0|          0|              0|   0|  0|  0|  0|    0|  0|       0|      0|       0|   1|  0|     0|   0|         1|     0|   0|                0|   0|    0|   0|             0|    0|          0|  0|          0|   0|  0|       0|     0|    0|   0|            0|  0|         0|     0|   0|         0|            0|      0|       0|  0|    0|  0|\n",
      "+--------------------+--------------------+-------+----+---------+-------+------+-----------+---------------+----+---+---+---+-----+---+--------+-------+--------+----+---+------+----+----------+------+----+-----------------+----+-----+----+--------------+-----+-----------+---+-----------+----+---+--------+------+-----+----+-------------+---+----------+------+----+----------+-------------+-------+--------+---+-----+---+\n",
      "only showing top 5 rows\n",
      "\n"
     ]
    },
    {
     "name": "stderr",
     "output_type": "stream",
     "text": [
      "                                                                                \r"
     ]
    }
   ],
   "source": [
    "#Since there are lot of null values because of pivoting the df, fill null values with 0s\n",
    "exploded_df_filtered = exploded_df_filtered.na.fill(value = 0)\n",
    "exploded_df_filtered.show(5)"
   ]
  },
  {
   "cell_type": "markdown",
   "id": "b1424586-b5b0-464a-b160-6aa6a72fa9c8",
   "metadata": {},
   "source": [
    "### Create pipeline for feature engineering/data transformation"
   ]
  },
  {
   "cell_type": "code",
   "execution_count": 24,
   "id": "a24bc76b-f7eb-4795-a9e5-a9c80a4cf93a",
   "metadata": {},
   "outputs": [],
   "source": [
    "#Spark ML imports\n",
    "from pyspark.ml.feature import Tokenizer, StopWordsRemover, HashingTF, IDF\n",
    "from pyspark.ml import Pipeline\n",
    "from pyspark.ml.classification import LogisticRegression, LogisticRegressionModel\n",
    "from pyspark.ml.evaluation import MulticlassClassificationEvaluator\n",
    "\n",
    "#Tokenize the data into words\n",
    "tokenizer = Tokenizer(inputCol=\"post_body_text\", outputCol=\"Words\")\n",
    "\n",
    "#Remove stop words\n",
    "remove_stopwords = StopWordsRemover(inputCol=\"Words\", outputCol=\"Filtered_Words\")\n",
    "\n",
    "#HashingTF\n",
    "hashing_tf = HashingTF(inputCol=\"Filtered_Words\", outputCol=\"Hashing_TF_Features\")\n",
    "\n",
    "#IDF\n",
    "idf = IDF(inputCol=\"Hashing_TF_Features\", outputCol=\"Hashing_TFIDF_Features\")\n",
    "\n",
    "#Creating a pipeline to transform the data and prepare it for the model\n",
    "pipeline = Pipeline(stages=[tokenizer, remove_stopwords, hashing_tf, idf])"
   ]
  },
  {
   "cell_type": "code",
   "execution_count": 25,
   "id": "81d763d3-e4bd-4bab-9a75-03cb21a27cb9",
   "metadata": {},
   "outputs": [
    {
     "name": "stderr",
     "output_type": "stream",
     "text": [
      "[Stage 166:====>                                                  (1 + 10) / 13]\r"
     ]
    },
    {
     "name": "stdout",
     "output_type": "stream",
     "text": [
      "root\n",
      " |-- post_body_text: string (nullable = true)\n",
      " |-- post_tags: string (nullable = true)\n",
      " |-- dot_net: long (nullable = true)\n",
      " |-- ajax: long (nullable = true)\n",
      " |-- algorithm: long (nullable = true)\n",
      " |-- android: long (nullable = true)\n",
      " |-- arrays: long (nullable = true)\n",
      " |-- asp_dot_net: long (nullable = true)\n",
      " |-- asp_dot_net-mvc: long (nullable = true)\n",
      " |-- bash: long (nullable = true)\n",
      " |-- c: long (nullable = true)\n",
      " |-- c#: long (nullable = true)\n",
      " |-- c++: long (nullable = true)\n",
      " |-- class: long (nullable = true)\n",
      " |-- css: long (nullable = true)\n",
      " |-- database: long (nullable = true)\n",
      " |-- eclipse: long (nullable = true)\n",
      " |-- function: long (nullable = true)\n",
      " |-- html: long (nullable = true)\n",
      " |-- ios: long (nullable = true)\n",
      " |-- iphone: long (nullable = true)\n",
      " |-- java: long (nullable = true)\n",
      " |-- javascript: long (nullable = true)\n",
      " |-- jquery: long (nullable = true)\n",
      " |-- json: long (nullable = true)\n",
      " |-- language-agnostic: long (nullable = true)\n",
      " |-- linq: long (nullable = true)\n",
      " |-- linux: long (nullable = true)\n",
      " |-- list: long (nullable = true)\n",
      " |-- multithreading: long (nullable = true)\n",
      " |-- mysql: long (nullable = true)\n",
      " |-- objective-c: long (nullable = true)\n",
      " |-- oop: long (nullable = true)\n",
      " |-- performance: long (nullable = true)\n",
      " |-- perl: long (nullable = true)\n",
      " |-- php: long (nullable = true)\n",
      " |-- pointers: long (nullable = true)\n",
      " |-- python: long (nullable = true)\n",
      " |-- regex: long (nullable = true)\n",
      " |-- ruby: long (nullable = true)\n",
      " |-- ruby-on-rails: long (nullable = true)\n",
      " |-- sql: long (nullable = true)\n",
      " |-- sql-server: long (nullable = true)\n",
      " |-- string: long (nullable = true)\n",
      " |-- tsql: long (nullable = true)\n",
      " |-- vb_dot_net: long (nullable = true)\n",
      " |-- visual-studio: long (nullable = true)\n",
      " |-- windows: long (nullable = true)\n",
      " |-- winforms: long (nullable = true)\n",
      " |-- wpf: long (nullable = true)\n",
      " |-- xcode: long (nullable = true)\n",
      " |-- xml: long (nullable = true)\n",
      " |-- Words: array (nullable = true)\n",
      " |    |-- element: string (containsNull = true)\n",
      " |-- Filtered_Words: array (nullable = true)\n",
      " |    |-- element: string (containsNull = true)\n",
      " |-- Hashing_TF_Features: vector (nullable = true)\n",
      " |-- Hashing_TFIDF_Features: vector (nullable = true)\n",
      "\n"
     ]
    },
    {
     "name": "stderr",
     "output_type": "stream",
     "text": [
      "                                                                                \r"
     ]
    }
   ],
   "source": [
    "#Fit and transform the data using the pipeline\n",
    "pipeline_final = pipeline.fit(exploded_df_filtered)\n",
    "model_df = pipeline_final.transform(exploded_df_filtered)\n",
    "model_df.printSchema()"
   ]
  },
  {
   "cell_type": "code",
   "execution_count": 26,
   "id": "f0cbae50-56c6-4589-8aa0-c018d117265c",
   "metadata": {},
   "outputs": [
    {
     "name": "stderr",
     "output_type": "stream",
     "text": [
      "                                                                                \r"
     ]
    },
    {
     "data": {
      "text/plain": [
       "318649"
      ]
     },
     "execution_count": 26,
     "metadata": {},
     "output_type": "execute_result"
    }
   ],
   "source": [
    "#Remove duplicates\n",
    "model_df = model_df.dropDuplicates([\"post_body_text\"])\n",
    "model_df = model_df.filter(model_df[\"post_body_text\"].isNotNull())\n",
    "model_df = model_df.filter(model_df[\"post_tags\"].isNotNull())\n",
    "model_df.count()"
   ]
  },
  {
   "cell_type": "code",
   "execution_count": 27,
   "id": "3641f7c5-84dd-4145-ae0d-d3dd26769a83",
   "metadata": {},
   "outputs": [],
   "source": [
    "# Split the data into train (70%), test (20%), and validation (10%) sets\n",
    "train_df, test_df, val_df = model_df.randomSplit([0.7, 0.2, 0.1], seed=11)"
   ]
  },
  {
   "cell_type": "code",
   "execution_count": 28,
   "id": "08ad4864-1770-434b-9c80-3bbc6dde2da8",
   "metadata": {},
   "outputs": [
    {
     "name": "stderr",
     "output_type": "stream",
     "text": [
      "24/12/01 05:52:53 WARN org.apache.spark.scheduler.DAGScheduler: Broadcasting large task binary with size 4.1 MiB\n",
      "24/12/01 05:53:07 WARN org.apache.spark.scheduler.DAGScheduler: Broadcasting large task binary with size 4.2 MiB\n",
      "                                                                                \r"
     ]
    },
    {
     "name": "stdout",
     "output_type": "stream",
     "text": [
      "Train set count: 222733\n"
     ]
    },
    {
     "name": "stderr",
     "output_type": "stream",
     "text": [
      "24/12/01 05:53:20 WARN org.apache.spark.scheduler.DAGScheduler: Broadcasting large task binary with size 4.1 MiB\n",
      "24/12/01 05:53:32 WARN org.apache.spark.scheduler.DAGScheduler: Broadcasting large task binary with size 4.2 MiB\n",
      "                                                                                \r"
     ]
    },
    {
     "name": "stdout",
     "output_type": "stream",
     "text": [
      "Test set count: 64069\n"
     ]
    },
    {
     "name": "stderr",
     "output_type": "stream",
     "text": [
      "24/12/01 05:53:44 WARN org.apache.spark.scheduler.DAGScheduler: Broadcasting large task binary with size 4.1 MiB\n",
      "24/12/01 05:53:54 WARN org.apache.spark.scheduler.DAGScheduler: Broadcasting large task binary with size 4.2 MiB\n",
      "[Stage 302:=============================================>          (9 + 2) / 11]\r"
     ]
    },
    {
     "name": "stdout",
     "output_type": "stream",
     "text": [
      "Validation set count: 31846\n"
     ]
    },
    {
     "name": "stderr",
     "output_type": "stream",
     "text": [
      "                                                                                \r"
     ]
    }
   ],
   "source": [
    "# Print the count of each split to verify\n",
    "print(f\"Train set count: {train_df.count()}\")\n",
    "print(f\"Test set count: {test_df.count()}\")\n",
    "print(f\"Validation set count: {val_df.count()}\")"
   ]
  },
  {
   "cell_type": "code",
   "execution_count": 29,
   "id": "f8c29f7f-00fe-4259-ad4d-7337e5f2b7d4",
   "metadata": {},
   "outputs": [
    {
     "name": "stderr",
     "output_type": "stream",
     "text": [
      "24/12/01 05:54:07 WARN org.apache.spark.scheduler.DAGScheduler: Broadcasting large task binary with size 4.1 MiB\n",
      "[Stage 331:==============================================>        (11 + 2) / 13]\r"
     ]
    },
    {
     "data": {
      "text/plain": [
       "200"
      ]
     },
     "execution_count": 29,
     "metadata": {},
     "output_type": "execute_result"
    }
   ],
   "source": [
    "train_df.rdd.getNumPartitions()"
   ]
  },
  {
   "cell_type": "code",
   "execution_count": 30,
   "id": "7bef92ec-b7eb-413b-b268-457b084e9c24",
   "metadata": {},
   "outputs": [
    {
     "name": "stderr",
     "output_type": "stream",
     "text": [
      "24/12/01 05:54:32 WARN org.apache.spark.scheduler.DAGScheduler: Broadcasting large task binary with size 4.1 MiB\n",
      "[Stage 352:==============================================>        (11 + 2) / 13]\r"
     ]
    },
    {
     "data": {
      "text/plain": [
       "200"
      ]
     },
     "execution_count": 30,
     "metadata": {},
     "output_type": "execute_result"
    }
   ],
   "source": [
    "test_df.rdd.getNumPartitions()"
   ]
  },
  {
   "cell_type": "code",
   "execution_count": 31,
   "id": "308c6050-dda7-4132-9977-d7ce34638b43",
   "metadata": {},
   "outputs": [
    {
     "name": "stderr",
     "output_type": "stream",
     "text": [
      "24/12/01 05:54:52 WARN org.apache.spark.scheduler.DAGScheduler: Broadcasting large task binary with size 4.1 MiB\n",
      "[Stage 373:==================================================>    (12 + 1) / 13]\r"
     ]
    },
    {
     "data": {
      "text/plain": [
       "200"
      ]
     },
     "execution_count": 31,
     "metadata": {},
     "output_type": "execute_result"
    }
   ],
   "source": [
    "val_df.rdd.getNumPartitions()"
   ]
  },
  {
   "cell_type": "markdown",
   "id": "72992c37-2b5c-4afe-ac14-0a3157d39a07",
   "metadata": {},
   "source": [
    "### Train the models for each of 50 tags"
   ]
  },
  {
   "cell_type": "code",
   "execution_count": 32,
   "id": "8781d408-ad1f-4cac-ac10-ddfeeb703c05",
   "metadata": {},
   "outputs": [],
   "source": [
    "#Training/Testing loop for the model\n",
    "\n",
    "def fit_classification_model(tag):\n",
    "    \n",
    "    #Logistic Regression model\n",
    "    Log_reg_htfidf = LogisticRegression(maxIter=5, featuresCol = \"Hashing_TFIDF_Features\", labelCol = tag)\n",
    "    \n",
    "    #Fit the model on the training dataset\n",
    "    Log_reg_htfidf_model = Log_reg_htfidf.fit(train_df)\n",
    "    \n",
    "    #Transform/make predictions using both models and rename columns for better understanding\n",
    "    predictions_htfidf = Log_reg_htfidf_model.transform(test_df)\n",
    "    predictions_htfidf = predictions_htfidf.withColumnRenamed(\"prediction\", \"predictions_htfidf\") \\\n",
    "                                     .withColumnRenamed(\"rawPrediction\", \"rawPredictions_htfidf\") \\\n",
    "                                     .withColumnRenamed(\"probability\", \"probability_htfidf\")\n",
    "    \n",
    "    #Evaluate and calculate metrics for both CV and Hashing TFs\n",
    "    eval1 = MulticlassClassificationEvaluator(labelCol = tag, predictionCol = \"predictions_htfidf\")\n",
    "    accuracy_htfidf = eval1.evaluate(predictions_htfidf, {eval1.metricName: \"accuracy\"})\n",
    "    f1_htfidf = eval1.evaluate(predictions_htfidf, {eval1.metricName: \"f1\"})\n",
    "    \n",
    "    #Return metrics and models\n",
    "    return {\n",
    "        \"tag\": tag,\n",
    "        \"Log_reg_htfidf_model\": Log_reg_htfidf_model,\n",
    "        \"accuracy\": accuracy_htfidf,\n",
    "        \"f1_score\": f1_htfidf\n",
    "    }"
   ]
  },
  {
   "cell_type": "code",
   "execution_count": null,
   "id": "55d0b979-01d4-4586-af2f-f5e8d7ff70b3",
   "metadata": {},
   "outputs": [
    {
     "name": "stderr",
     "output_type": "stream",
     "text": [
      "24/12/01 05:55:11 WARN org.apache.spark.scheduler.DAGScheduler: Broadcasting large task binary with size 4.1 MiB\n",
      "24/12/01 05:55:29 WARN org.apache.spark.scheduler.DAGScheduler: Broadcasting large task binary with size 4.1 MiB\n",
      "24/12/01 05:55:41 WARN org.apache.spark.scheduler.DAGScheduler: Broadcasting large task binary with size 4.2 MiB\n",
      "24/12/01 05:55:46 WARN org.apache.spark.scheduler.DAGScheduler: Broadcasting large task binary with size 4.2 MiB\n",
      "24/12/01 05:55:47 WARN org.apache.spark.scheduler.DAGScheduler: Broadcasting large task binary with size 4.2 MiB\n",
      "24/12/01 05:55:53 WARN org.apache.spark.scheduler.DAGScheduler: Broadcasting large task binary with size 4.2 MiB\n",
      "24/12/01 05:55:54 WARN com.github.fommil.netlib.BLAS: Failed to load implementation from: com.github.fommil.netlib.NativeSystemBLAS\n",
      "24/12/01 05:55:54 WARN com.github.fommil.netlib.BLAS: Failed to load implementation from: com.github.fommil.netlib.NativeRefBLAS\n",
      "24/12/01 05:55:54 WARN org.apache.spark.scheduler.DAGScheduler: Broadcasting large task binary with size 4.2 MiB\n",
      "24/12/01 05:55:55 WARN org.apache.spark.scheduler.DAGScheduler: Broadcasting large task binary with size 4.2 MiB\n",
      "24/12/01 05:55:55 WARN org.apache.spark.scheduler.DAGScheduler: Broadcasting large task binary with size 4.2 MiB\n",
      "24/12/01 05:55:56 WARN org.apache.spark.scheduler.DAGScheduler: Broadcasting large task binary with size 4.2 MiB\n",
      "24/12/01 05:55:56 WARN org.apache.spark.scheduler.DAGScheduler: Broadcasting large task binary with size 4.2 MiB\n",
      "24/12/01 05:55:57 WARN org.apache.spark.scheduler.DAGScheduler: Broadcasting large task binary with size 4.2 MiB\n",
      "24/12/01 05:55:57 WARN org.apache.spark.scheduler.DAGScheduler: Broadcasting large task binary with size 4.2 MiB\n",
      "24/12/01 05:55:58 WARN org.apache.spark.scheduler.DAGScheduler: Broadcasting large task binary with size 4.2 MiB\n",
      "24/12/01 05:55:58 WARN org.apache.spark.scheduler.DAGScheduler: Broadcasting large task binary with size 4.2 MiB\n",
      "24/12/01 05:55:59 WARN org.apache.spark.scheduler.DAGScheduler: Broadcasting large task binary with size 4.2 MiB\n",
      "24/12/01 05:56:00 WARN org.apache.spark.scheduler.DAGScheduler: Broadcasting large task binary with size 4.2 MiB\n",
      "24/12/01 05:56:00 WARN org.apache.spark.scheduler.DAGScheduler: Broadcasting large task binary with size 4.2 MiB\n",
      "24/12/01 05:56:01 WARN org.apache.spark.scheduler.DAGScheduler: Broadcasting large task binary with size 4.2 MiB\n",
      "24/12/01 05:56:02 WARN org.apache.spark.scheduler.DAGScheduler: Broadcasting large task binary with size 4.2 MiB\n",
      "24/12/01 05:56:11 WARN org.apache.spark.scheduler.DAGScheduler: Broadcasting large task binary with size 4.1 MiB\n",
      "24/12/01 05:56:31 WARN org.apache.spark.scheduler.DAGScheduler: Broadcasting large task binary with size 4.1 MiB\n",
      "24/12/01 05:56:52 WARN org.apache.spark.scheduler.DAGScheduler: Broadcasting large task binary with size 4.1 MiB\n",
      "24/12/01 05:57:02 WARN org.apache.spark.scheduler.DAGScheduler: Broadcasting large task binary with size 5.9 MiB\n",
      "24/12/01 05:57:16 WARN org.apache.spark.scheduler.DAGScheduler: Broadcasting large task binary with size 4.1 MiB\n",
      "24/12/01 05:57:26 WARN org.apache.spark.scheduler.DAGScheduler: Broadcasting large task binary with size 5.9 MiB\n",
      "24/12/01 05:57:38 WARN org.apache.spark.scheduler.DAGScheduler: Broadcasting large task binary with size 4.1 MiB\n",
      "24/12/01 05:57:57 WARN org.apache.spark.scheduler.DAGScheduler: Broadcasting large task binary with size 4.1 MiB\n",
      "24/12/01 05:58:07 WARN org.apache.spark.scheduler.DAGScheduler: Broadcasting large task binary with size 4.2 MiB\n",
      "24/12/01 05:58:11 WARN org.apache.spark.scheduler.DAGScheduler: Broadcasting large task binary with size 4.2 MiB\n",
      "24/12/01 05:58:12 WARN org.apache.spark.scheduler.DAGScheduler: Broadcasting large task binary with size 4.2 MiB\n",
      "24/12/01 05:58:21 WARN org.apache.spark.scheduler.DAGScheduler: Broadcasting large task binary with size 4.2 MiB\n",
      "24/12/01 05:58:22 WARN org.apache.spark.scheduler.DAGScheduler: Broadcasting large task binary with size 4.2 MiB\n",
      "24/12/01 05:58:22 WARN org.apache.spark.scheduler.DAGScheduler: Broadcasting large task binary with size 4.2 MiB\n",
      "24/12/01 05:58:23 WARN org.apache.spark.scheduler.DAGScheduler: Broadcasting large task binary with size 4.2 MiB\n",
      "24/12/01 05:58:23 WARN org.apache.spark.scheduler.DAGScheduler: Broadcasting large task binary with size 4.2 MiB\n",
      "24/12/01 05:58:24 WARN org.apache.spark.scheduler.DAGScheduler: Broadcasting large task binary with size 4.2 MiB\n",
      "24/12/01 05:58:24 WARN org.apache.spark.scheduler.DAGScheduler: Broadcasting large task binary with size 4.2 MiB\n",
      "24/12/01 05:58:25 WARN org.apache.spark.scheduler.DAGScheduler: Broadcasting large task binary with size 4.2 MiB\n",
      "24/12/01 05:58:25 WARN org.apache.spark.scheduler.DAGScheduler: Broadcasting large task binary with size 4.2 MiB\n",
      "24/12/01 05:58:26 WARN org.apache.spark.scheduler.DAGScheduler: Broadcasting large task binary with size 4.2 MiB\n",
      "24/12/01 05:58:26 WARN org.apache.spark.scheduler.DAGScheduler: Broadcasting large task binary with size 4.2 MiB\n",
      "24/12/01 05:58:26 WARN org.apache.spark.scheduler.DAGScheduler: Broadcasting large task binary with size 4.2 MiB\n",
      "24/12/01 05:58:27 WARN org.apache.spark.scheduler.DAGScheduler: Broadcasting large task binary with size 4.2 MiB\n",
      "24/12/01 05:58:36 WARN org.apache.spark.scheduler.DAGScheduler: Broadcasting large task binary with size 4.1 MiB\n",
      "24/12/01 05:58:51 WARN org.apache.spark.scheduler.DAGScheduler: Broadcasting large task binary with size 4.1 MiB\n",
      "24/12/01 05:59:05 WARN org.apache.spark.scheduler.DAGScheduler: Broadcasting large task binary with size 4.1 MiB\n",
      "24/12/01 05:59:10 WARN org.apache.spark.scheduler.DAGScheduler: Broadcasting large task binary with size 5.9 MiB\n",
      "24/12/01 05:59:18 WARN org.apache.spark.scheduler.DAGScheduler: Broadcasting large task binary with size 4.1 MiB\n",
      "24/12/01 05:59:23 WARN org.apache.spark.scheduler.DAGScheduler: Broadcasting large task binary with size 5.9 MiB\n",
      "24/12/01 05:59:31 WARN org.apache.spark.scheduler.DAGScheduler: Broadcasting large task binary with size 4.1 MiB\n",
      "24/12/01 05:59:40 WARN org.apache.spark.scheduler.DAGScheduler: Broadcasting large task binary with size 4.1 MiB\n",
      "24/12/01 05:59:46 WARN org.apache.spark.scheduler.DAGScheduler: Broadcasting large task binary with size 4.2 MiB\n",
      "24/12/01 05:59:48 WARN org.apache.spark.scheduler.DAGScheduler: Broadcasting large task binary with size 4.2 MiB\n",
      "24/12/01 05:59:49 WARN org.apache.spark.scheduler.DAGScheduler: Broadcasting large task binary with size 4.2 MiB\n",
      "24/12/01 05:59:52 WARN org.apache.spark.scheduler.DAGScheduler: Broadcasting large task binary with size 4.2 MiB\n",
      "24/12/01 05:59:52 WARN org.apache.spark.scheduler.DAGScheduler: Broadcasting large task binary with size 4.2 MiB\n",
      "24/12/01 05:59:53 WARN org.apache.spark.scheduler.DAGScheduler: Broadcasting large task binary with size 4.2 MiB\n",
      "24/12/01 05:59:53 WARN org.apache.spark.scheduler.DAGScheduler: Broadcasting large task binary with size 4.2 MiB\n",
      "24/12/01 05:59:54 WARN org.apache.spark.scheduler.DAGScheduler: Broadcasting large task binary with size 4.2 MiB\n",
      "24/12/01 05:59:54 WARN org.apache.spark.scheduler.DAGScheduler: Broadcasting large task binary with size 4.2 MiB\n",
      "24/12/01 05:59:54 WARN org.apache.spark.scheduler.DAGScheduler: Broadcasting large task binary with size 4.2 MiB\n",
      "24/12/01 05:59:55 WARN org.apache.spark.scheduler.DAGScheduler: Broadcasting large task binary with size 4.2 MiB\n",
      "24/12/01 05:59:55 WARN org.apache.spark.scheduler.DAGScheduler: Broadcasting large task binary with size 4.2 MiB\n",
      "24/12/01 05:59:55 WARN org.apache.spark.scheduler.DAGScheduler: Broadcasting large task binary with size 4.2 MiB\n",
      "24/12/01 05:59:56 WARN org.apache.spark.scheduler.DAGScheduler: Broadcasting large task binary with size 4.2 MiB\n",
      "24/12/01 05:59:56 WARN org.apache.spark.scheduler.DAGScheduler: Broadcasting large task binary with size 4.2 MiB\n",
      "24/12/01 05:59:56 WARN org.apache.spark.scheduler.DAGScheduler: Broadcasting large task binary with size 4.2 MiB\n",
      "24/12/01 06:00:01 WARN org.apache.spark.scheduler.DAGScheduler: Broadcasting large task binary with size 4.1 MiB\n",
      "24/12/01 06:00:11 WARN org.apache.spark.scheduler.DAGScheduler: Broadcasting large task binary with size 4.1 MiB\n",
      "24/12/01 06:00:21 WARN org.apache.spark.scheduler.DAGScheduler: Broadcasting large task binary with size 4.1 MiB\n",
      "24/12/01 06:00:27 WARN org.apache.spark.scheduler.DAGScheduler: Broadcasting large task binary with size 5.9 MiB\n",
      "24/12/01 06:00:34 WARN org.apache.spark.scheduler.DAGScheduler: Broadcasting large task binary with size 4.1 MiB\n",
      "24/12/01 06:00:39 WARN org.apache.spark.scheduler.DAGScheduler: Broadcasting large task binary with size 5.9 MiB\n",
      "24/12/01 06:00:46 WARN org.apache.spark.scheduler.DAGScheduler: Broadcasting large task binary with size 4.1 MiB\n",
      "24/12/01 06:00:56 WARN org.apache.spark.scheduler.DAGScheduler: Broadcasting large task binary with size 4.1 MiB\n",
      "24/12/01 06:01:02 WARN org.apache.spark.scheduler.DAGScheduler: Broadcasting large task binary with size 4.2 MiB\n",
      "24/12/01 06:01:04 WARN org.apache.spark.scheduler.DAGScheduler: Broadcasting large task binary with size 4.2 MiB\n",
      "24/12/01 06:01:04 WARN org.apache.spark.scheduler.DAGScheduler: Broadcasting large task binary with size 4.2 MiB\n",
      "24/12/01 06:01:07 WARN org.apache.spark.scheduler.DAGScheduler: Broadcasting large task binary with size 4.2 MiB\n",
      "24/12/01 06:01:07 WARN org.apache.spark.scheduler.DAGScheduler: Broadcasting large task binary with size 4.2 MiB\n",
      "24/12/01 06:01:08 WARN org.apache.spark.scheduler.DAGScheduler: Broadcasting large task binary with size 4.2 MiB\n",
      "24/12/01 06:01:08 WARN org.apache.spark.scheduler.DAGScheduler: Broadcasting large task binary with size 4.2 MiB\n",
      "24/12/01 06:01:09 WARN org.apache.spark.scheduler.DAGScheduler: Broadcasting large task binary with size 4.2 MiB\n",
      "24/12/01 06:01:09 WARN org.apache.spark.scheduler.DAGScheduler: Broadcasting large task binary with size 4.2 MiB\n",
      "24/12/01 06:01:10 WARN org.apache.spark.scheduler.DAGScheduler: Broadcasting large task binary with size 4.2 MiB\n",
      "24/12/01 06:01:10 WARN org.apache.spark.scheduler.DAGScheduler: Broadcasting large task binary with size 4.2 MiB\n",
      "24/12/01 06:01:10 WARN org.apache.spark.scheduler.DAGScheduler: Broadcasting large task binary with size 4.2 MiB\n",
      "24/12/01 06:01:11 WARN org.apache.spark.scheduler.DAGScheduler: Broadcasting large task binary with size 4.2 MiB\n",
      "24/12/01 06:01:12 WARN org.apache.spark.scheduler.DAGScheduler: Broadcasting large task binary with size 4.2 MiB\n",
      "24/12/01 06:01:12 WARN org.apache.spark.scheduler.DAGScheduler: Broadcasting large task binary with size 4.2 MiB\n",
      "24/12/01 06:01:12 WARN org.apache.spark.scheduler.DAGScheduler: Broadcasting large task binary with size 4.2 MiB\n",
      "24/12/01 06:01:12 WARN org.apache.spark.scheduler.DAGScheduler: Broadcasting large task binary with size 4.2 MiB\n",
      "24/12/01 06:01:13 WARN org.apache.spark.scheduler.DAGScheduler: Broadcasting large task binary with size 4.2 MiB\n",
      "24/12/01 06:01:13 WARN org.apache.spark.scheduler.DAGScheduler: Broadcasting large task binary with size 4.2 MiB\n",
      "24/12/01 06:01:14 WARN org.apache.spark.scheduler.DAGScheduler: Broadcasting large task binary with size 4.2 MiB\n",
      "24/12/01 06:01:18 WARN org.apache.spark.scheduler.DAGScheduler: Broadcasting large task binary with size 4.1 MiB\n",
      "24/12/01 06:01:28 WARN org.apache.spark.scheduler.DAGScheduler: Broadcasting large task binary with size 4.1 MiB\n",
      "24/12/01 06:01:38 WARN org.apache.spark.scheduler.DAGScheduler: Broadcasting large task binary with size 4.1 MiB\n",
      "24/12/01 06:01:43 WARN org.apache.spark.scheduler.DAGScheduler: Broadcasting large task binary with size 5.9 MiB\n",
      "24/12/01 06:01:50 WARN org.apache.spark.scheduler.DAGScheduler: Broadcasting large task binary with size 4.1 MiB\n",
      "24/12/01 06:01:55 WARN org.apache.spark.scheduler.DAGScheduler: Broadcasting large task binary with size 5.9 MiB\n",
      "24/12/01 06:02:04 WARN org.apache.spark.scheduler.DAGScheduler: Broadcasting large task binary with size 4.1 MiB\n",
      "24/12/01 06:02:14 WARN org.apache.spark.scheduler.DAGScheduler: Broadcasting large task binary with size 4.1 MiB\n",
      "24/12/01 06:02:25 WARN org.apache.spark.scheduler.DAGScheduler: Broadcasting large task binary with size 4.2 MiB\n",
      "24/12/01 06:02:30 WARN org.apache.spark.scheduler.DAGScheduler: Broadcasting large task binary with size 4.2 MiB\n",
      "24/12/01 06:02:31 WARN org.apache.spark.scheduler.DAGScheduler: Broadcasting large task binary with size 4.2 MiB\n",
      "24/12/01 06:02:33 WARN org.apache.spark.scheduler.DAGScheduler: Broadcasting large task binary with size 4.2 MiB\n",
      "24/12/01 06:02:33 WARN org.apache.spark.scheduler.DAGScheduler: Broadcasting large task binary with size 4.2 MiB\n",
      "24/12/01 06:02:34 WARN org.apache.spark.scheduler.DAGScheduler: Broadcasting large task binary with size 4.2 MiB\n",
      "24/12/01 06:02:34 WARN org.apache.spark.scheduler.DAGScheduler: Broadcasting large task binary with size 4.2 MiB\n",
      "24/12/01 06:02:35 WARN org.apache.spark.scheduler.DAGScheduler: Broadcasting large task binary with size 4.2 MiB\n",
      "24/12/01 06:02:35 WARN org.apache.spark.scheduler.DAGScheduler: Broadcasting large task binary with size 4.2 MiB\n",
      "24/12/01 06:02:35 WARN org.apache.spark.scheduler.DAGScheduler: Broadcasting large task binary with size 4.2 MiB\n",
      "24/12/01 06:02:35 WARN org.apache.spark.scheduler.DAGScheduler: Broadcasting large task binary with size 4.2 MiB\n",
      "24/12/01 06:02:36 WARN org.apache.spark.scheduler.DAGScheduler: Broadcasting large task binary with size 4.2 MiB\n",
      "24/12/01 06:02:36 WARN org.apache.spark.scheduler.DAGScheduler: Broadcasting large task binary with size 4.2 MiB\n",
      "24/12/01 06:02:36 WARN org.apache.spark.scheduler.DAGScheduler: Broadcasting large task binary with size 4.2 MiB\n",
      "24/12/01 06:02:37 WARN org.apache.spark.scheduler.DAGScheduler: Broadcasting large task binary with size 4.2 MiB\n",
      "24/12/01 06:02:37 WARN org.apache.spark.scheduler.DAGScheduler: Broadcasting large task binary with size 4.2 MiB\n",
      "24/12/01 06:02:37 WARN org.apache.spark.scheduler.DAGScheduler: Broadcasting large task binary with size 4.2 MiB\n",
      "24/12/01 06:02:38 WARN org.apache.spark.scheduler.DAGScheduler: Broadcasting large task binary with size 4.2 MiB\n",
      "24/12/01 06:02:44 WARN org.apache.spark.scheduler.DAGScheduler: Broadcasting large task binary with size 4.1 MiB\n",
      "24/12/01 06:02:54 WARN org.apache.spark.scheduler.DAGScheduler: Broadcasting large task binary with size 4.1 MiB\n",
      "24/12/01 06:03:03 WARN org.apache.spark.scheduler.DAGScheduler: Broadcasting large task binary with size 4.1 MiB\n",
      "24/12/01 06:03:09 WARN org.apache.spark.scheduler.DAGScheduler: Broadcasting large task binary with size 5.9 MiB\n",
      "24/12/01 06:03:15 WARN org.apache.spark.scheduler.DAGScheduler: Broadcasting large task binary with size 4.1 MiB\n",
      "24/12/01 06:03:20 WARN org.apache.spark.scheduler.DAGScheduler: Broadcasting large task binary with size 5.9 MiB\n",
      "24/12/01 06:03:27 WARN org.apache.spark.scheduler.DAGScheduler: Broadcasting large task binary with size 4.1 MiB\n",
      "24/12/01 06:03:36 WARN org.apache.spark.scheduler.DAGScheduler: Broadcasting large task binary with size 4.1 MiB\n",
      "24/12/01 06:03:40 WARN org.apache.spark.scheduler.DAGScheduler: Broadcasting large task binary with size 4.2 MiB\n",
      "24/12/01 06:03:42 WARN org.apache.spark.scheduler.DAGScheduler: Broadcasting large task binary with size 4.2 MiB\n",
      "24/12/01 06:03:43 WARN org.apache.spark.scheduler.DAGScheduler: Broadcasting large task binary with size 4.2 MiB\n",
      "24/12/01 06:03:45 WARN org.apache.spark.scheduler.DAGScheduler: Broadcasting large task binary with size 4.2 MiB\n",
      "24/12/01 06:03:45 WARN org.apache.spark.scheduler.DAGScheduler: Broadcasting large task binary with size 4.2 MiB\n",
      "24/12/01 06:03:46 WARN org.apache.spark.scheduler.DAGScheduler: Broadcasting large task binary with size 4.2 MiB\n",
      "24/12/01 06:03:46 WARN org.apache.spark.scheduler.DAGScheduler: Broadcasting large task binary with size 4.2 MiB\n",
      "24/12/01 06:03:46 WARN org.apache.spark.scheduler.DAGScheduler: Broadcasting large task binary with size 4.2 MiB\n",
      "24/12/01 06:03:46 WARN org.apache.spark.scheduler.DAGScheduler: Broadcasting large task binary with size 4.2 MiB\n",
      "24/12/01 06:03:47 WARN org.apache.spark.scheduler.DAGScheduler: Broadcasting large task binary with size 4.2 MiB\n",
      "24/12/01 06:03:47 WARN org.apache.spark.scheduler.DAGScheduler: Broadcasting large task binary with size 4.2 MiB\n",
      "24/12/01 06:03:47 WARN org.apache.spark.scheduler.DAGScheduler: Broadcasting large task binary with size 4.2 MiB\n",
      "24/12/01 06:03:47 WARN org.apache.spark.scheduler.DAGScheduler: Broadcasting large task binary with size 4.2 MiB\n",
      "24/12/01 06:03:48 WARN org.apache.spark.scheduler.DAGScheduler: Broadcasting large task binary with size 4.2 MiB\n",
      "24/12/01 06:03:48 WARN org.apache.spark.scheduler.DAGScheduler: Broadcasting large task binary with size 4.2 MiB\n",
      "24/12/01 06:03:48 WARN org.apache.spark.scheduler.DAGScheduler: Broadcasting large task binary with size 4.2 MiB\n",
      "24/12/01 06:03:54 WARN org.apache.spark.scheduler.DAGScheduler: Broadcasting large task binary with size 4.1 MiB\n",
      "24/12/01 06:04:03 WARN org.apache.spark.scheduler.DAGScheduler: Broadcasting large task binary with size 4.1 MiB\n",
      "24/12/01 06:04:12 WARN org.apache.spark.scheduler.DAGScheduler: Broadcasting large task binary with size 4.1 MiB\n",
      "24/12/01 06:04:17 WARN org.apache.spark.scheduler.DAGScheduler: Broadcasting large task binary with size 5.9 MiB\n",
      "24/12/01 06:04:23 WARN org.apache.spark.scheduler.DAGScheduler: Broadcasting large task binary with size 4.1 MiB\n",
      "24/12/01 06:04:28 WARN org.apache.spark.scheduler.DAGScheduler: Broadcasting large task binary with size 5.9 MiB\n",
      "24/12/01 06:04:35 WARN org.apache.spark.scheduler.DAGScheduler: Broadcasting large task binary with size 4.1 MiB\n",
      "24/12/01 06:04:43 WARN org.apache.spark.scheduler.DAGScheduler: Broadcasting large task binary with size 4.1 MiB\n",
      "24/12/01 06:04:47 WARN org.apache.spark.scheduler.DAGScheduler: Broadcasting large task binary with size 4.2 MiB\n",
      "24/12/01 06:04:49 WARN org.apache.spark.scheduler.DAGScheduler: Broadcasting large task binary with size 4.2 MiB\n",
      "24/12/01 06:04:49 WARN org.apache.spark.scheduler.DAGScheduler: Broadcasting large task binary with size 4.2 MiB\n",
      "24/12/01 06:04:51 WARN org.apache.spark.scheduler.DAGScheduler: Broadcasting large task binary with size 4.2 MiB\n",
      "24/12/01 06:04:52 WARN org.apache.spark.scheduler.DAGScheduler: Broadcasting large task binary with size 4.2 MiB\n",
      "24/12/01 06:04:52 WARN org.apache.spark.scheduler.DAGScheduler: Broadcasting large task binary with size 4.2 MiB\n",
      "24/12/01 06:04:52 WARN org.apache.spark.scheduler.DAGScheduler: Broadcasting large task binary with size 4.2 MiB\n",
      "24/12/01 06:04:53 WARN org.apache.spark.scheduler.DAGScheduler: Broadcasting large task binary with size 4.2 MiB\n",
      "24/12/01 06:04:53 WARN org.apache.spark.scheduler.DAGScheduler: Broadcasting large task binary with size 4.2 MiB\n",
      "24/12/01 06:04:53 WARN org.apache.spark.scheduler.DAGScheduler: Broadcasting large task binary with size 4.2 MiB\n",
      "24/12/01 06:04:54 WARN org.apache.spark.scheduler.DAGScheduler: Broadcasting large task binary with size 4.2 MiB\n",
      "24/12/01 06:04:54 WARN org.apache.spark.scheduler.DAGScheduler: Broadcasting large task binary with size 4.2 MiB\n",
      "24/12/01 06:04:54 WARN org.apache.spark.scheduler.DAGScheduler: Broadcasting large task binary with size 4.2 MiB\n",
      "24/12/01 06:04:54 WARN org.apache.spark.scheduler.DAGScheduler: Broadcasting large task binary with size 4.2 MiB\n",
      "24/12/01 06:04:55 WARN org.apache.spark.scheduler.DAGScheduler: Broadcasting large task binary with size 4.2 MiB\n",
      "24/12/01 06:04:55 WARN org.apache.spark.scheduler.DAGScheduler: Broadcasting large task binary with size 4.2 MiB\n",
      "24/12/01 06:05:00 WARN org.apache.spark.scheduler.DAGScheduler: Broadcasting large task binary with size 4.1 MiB\n",
      "24/12/01 06:05:09 WARN org.apache.spark.scheduler.DAGScheduler: Broadcasting large task binary with size 4.1 MiB\n",
      "24/12/01 06:05:18 WARN org.apache.spark.scheduler.DAGScheduler: Broadcasting large task binary with size 4.1 MiB\n",
      "24/12/01 06:05:22 WARN org.apache.spark.scheduler.DAGScheduler: Broadcasting large task binary with size 5.9 MiB\n",
      "24/12/01 06:05:28 WARN org.apache.spark.scheduler.DAGScheduler: Broadcasting large task binary with size 4.1 MiB\n",
      "24/12/01 06:05:32 WARN org.apache.spark.scheduler.DAGScheduler: Broadcasting large task binary with size 5.9 MiB\n",
      "24/12/01 06:05:39 WARN org.apache.spark.scheduler.DAGScheduler: Broadcasting large task binary with size 4.1 MiB\n",
      "24/12/01 06:05:47 WARN org.apache.spark.scheduler.DAGScheduler: Broadcasting large task binary with size 4.1 MiB\n",
      "24/12/01 06:05:51 WARN org.apache.spark.scheduler.DAGScheduler: Broadcasting large task binary with size 4.2 MiB\n",
      "24/12/01 06:05:53 WARN org.apache.spark.scheduler.DAGScheduler: Broadcasting large task binary with size 4.2 MiB\n",
      "24/12/01 06:05:53 WARN org.apache.spark.scheduler.DAGScheduler: Broadcasting large task binary with size 4.2 MiB\n",
      "24/12/01 06:05:55 WARN org.apache.spark.scheduler.DAGScheduler: Broadcasting large task binary with size 4.2 MiB\n",
      "24/12/01 06:05:56 WARN org.apache.spark.scheduler.DAGScheduler: Broadcasting large task binary with size 4.2 MiB\n",
      "24/12/01 06:05:56 WARN org.apache.spark.scheduler.DAGScheduler: Broadcasting large task binary with size 4.2 MiB\n",
      "24/12/01 06:05:56 WARN org.apache.spark.scheduler.DAGScheduler: Broadcasting large task binary with size 4.2 MiB\n",
      "24/12/01 06:05:57 WARN org.apache.spark.scheduler.DAGScheduler: Broadcasting large task binary with size 4.2 MiB\n",
      "24/12/01 06:05:57 WARN org.apache.spark.scheduler.DAGScheduler: Broadcasting large task binary with size 4.2 MiB\n",
      "24/12/01 06:05:57 WARN org.apache.spark.scheduler.DAGScheduler: Broadcasting large task binary with size 4.2 MiB\n",
      "24/12/01 06:05:58 WARN org.apache.spark.scheduler.DAGScheduler: Broadcasting large task binary with size 4.2 MiB\n",
      "24/12/01 06:05:58 WARN org.apache.spark.scheduler.DAGScheduler: Broadcasting large task binary with size 4.2 MiB\n",
      "24/12/01 06:05:58 WARN org.apache.spark.scheduler.DAGScheduler: Broadcasting large task binary with size 4.2 MiB\n",
      "24/12/01 06:05:59 WARN org.apache.spark.scheduler.DAGScheduler: Broadcasting large task binary with size 4.2 MiB\n",
      "24/12/01 06:05:59 WARN org.apache.spark.scheduler.DAGScheduler: Broadcasting large task binary with size 4.2 MiB\n",
      "24/12/01 06:05:59 WARN org.apache.spark.scheduler.DAGScheduler: Broadcasting large task binary with size 4.2 MiB\n",
      "24/12/01 06:06:04 WARN org.apache.spark.scheduler.DAGScheduler: Broadcasting large task binary with size 4.1 MiB\n",
      "24/12/01 06:06:13 WARN org.apache.spark.scheduler.DAGScheduler: Broadcasting large task binary with size 4.1 MiB\n",
      "24/12/01 06:06:21 WARN org.apache.spark.scheduler.DAGScheduler: Broadcasting large task binary with size 4.1 MiB\n",
      "24/12/01 06:06:26 WARN org.apache.spark.scheduler.DAGScheduler: Broadcasting large task binary with size 5.9 MiB\n",
      "24/12/01 06:06:32 WARN org.apache.spark.scheduler.DAGScheduler: Broadcasting large task binary with size 4.1 MiB\n",
      "24/12/01 06:06:36 WARN org.apache.spark.scheduler.DAGScheduler: Broadcasting large task binary with size 5.9 MiB\n",
      "24/12/01 06:06:42 WARN org.apache.spark.scheduler.DAGScheduler: Broadcasting large task binary with size 4.1 MiB\n",
      "24/12/01 06:06:51 WARN org.apache.spark.scheduler.DAGScheduler: Broadcasting large task binary with size 4.1 MiB\n",
      "24/12/01 06:06:55 WARN org.apache.spark.scheduler.DAGScheduler: Broadcasting large task binary with size 4.2 MiB\n",
      "24/12/01 06:06:57 WARN org.apache.spark.scheduler.DAGScheduler: Broadcasting large task binary with size 4.2 MiB\n",
      "24/12/01 06:06:57 WARN org.apache.spark.scheduler.DAGScheduler: Broadcasting large task binary with size 4.2 MiB\n",
      "24/12/01 06:06:59 WARN org.apache.spark.scheduler.DAGScheduler: Broadcasting large task binary with size 4.2 MiB\n",
      "24/12/01 06:07:00 WARN org.apache.spark.scheduler.DAGScheduler: Broadcasting large task binary with size 4.2 MiB\n",
      "24/12/01 06:07:00 WARN org.apache.spark.scheduler.DAGScheduler: Broadcasting large task binary with size 4.2 MiB\n",
      "24/12/01 06:07:00 WARN org.apache.spark.scheduler.DAGScheduler: Broadcasting large task binary with size 4.2 MiB\n",
      "24/12/01 06:07:01 WARN org.apache.spark.scheduler.DAGScheduler: Broadcasting large task binary with size 4.2 MiB\n",
      "24/12/01 06:07:01 WARN org.apache.spark.scheduler.DAGScheduler: Broadcasting large task binary with size 4.2 MiB\n",
      "24/12/01 06:07:01 WARN org.apache.spark.scheduler.DAGScheduler: Broadcasting large task binary with size 4.2 MiB\n",
      "24/12/01 06:07:02 WARN org.apache.spark.scheduler.DAGScheduler: Broadcasting large task binary with size 4.2 MiB\n",
      "24/12/01 06:07:02 WARN org.apache.spark.scheduler.DAGScheduler: Broadcasting large task binary with size 4.2 MiB\n",
      "24/12/01 06:07:02 WARN org.apache.spark.scheduler.DAGScheduler: Broadcasting large task binary with size 4.2 MiB\n",
      "24/12/01 06:07:02 WARN org.apache.spark.scheduler.DAGScheduler: Broadcasting large task binary with size 4.2 MiB\n",
      "24/12/01 06:07:03 WARN org.apache.spark.scheduler.DAGScheduler: Broadcasting large task binary with size 4.2 MiB\n",
      "24/12/01 06:07:03 WARN org.apache.spark.scheduler.DAGScheduler: Broadcasting large task binary with size 4.2 MiB\n",
      "24/12/01 06:07:07 WARN org.apache.spark.scheduler.DAGScheduler: Broadcasting large task binary with size 4.1 MiB\n",
      "24/12/01 06:07:16 WARN org.apache.spark.scheduler.DAGScheduler: Broadcasting large task binary with size 4.1 MiB\n",
      "24/12/01 06:07:26 WARN org.apache.spark.scheduler.DAGScheduler: Broadcasting large task binary with size 4.1 MiB\n",
      "24/12/01 06:07:31 WARN org.apache.spark.scheduler.DAGScheduler: Broadcasting large task binary with size 5.9 MiB\n",
      "24/12/01 06:07:38 WARN org.apache.spark.scheduler.DAGScheduler: Broadcasting large task binary with size 4.1 MiB\n",
      "24/12/01 06:07:42 WARN org.apache.spark.scheduler.DAGScheduler: Broadcasting large task binary with size 5.9 MiB\n",
      "24/12/01 06:07:48 WARN org.apache.spark.scheduler.DAGScheduler: Broadcasting large task binary with size 4.1 MiB\n",
      "24/12/01 06:07:57 WARN org.apache.spark.scheduler.DAGScheduler: Broadcasting large task binary with size 4.1 MiB\n",
      "24/12/01 06:08:01 WARN org.apache.spark.scheduler.DAGScheduler: Broadcasting large task binary with size 4.2 MiB\n",
      "24/12/01 06:08:02 WARN org.apache.spark.scheduler.DAGScheduler: Broadcasting large task binary with size 4.2 MiB\n",
      "24/12/01 06:08:03 WARN org.apache.spark.scheduler.DAGScheduler: Broadcasting large task binary with size 4.2 MiB\n",
      "24/12/01 06:08:05 WARN org.apache.spark.scheduler.DAGScheduler: Broadcasting large task binary with size 4.2 MiB\n",
      "24/12/01 06:08:05 WARN org.apache.spark.scheduler.DAGScheduler: Broadcasting large task binary with size 4.2 MiB\n",
      "24/12/01 06:08:06 WARN org.apache.spark.scheduler.DAGScheduler: Broadcasting large task binary with size 4.2 MiB\n",
      "24/12/01 06:08:06 WARN org.apache.spark.scheduler.DAGScheduler: Broadcasting large task binary with size 4.2 MiB\n",
      "24/12/01 06:08:06 WARN org.apache.spark.scheduler.DAGScheduler: Broadcasting large task binary with size 4.2 MiB\n",
      "24/12/01 06:08:07 WARN org.apache.spark.scheduler.DAGScheduler: Broadcasting large task binary with size 4.2 MiB\n",
      "24/12/01 06:08:07 WARN org.apache.spark.scheduler.DAGScheduler: Broadcasting large task binary with size 4.2 MiB\n",
      "24/12/01 06:08:07 WARN org.apache.spark.scheduler.DAGScheduler: Broadcasting large task binary with size 4.2 MiB\n",
      "24/12/01 06:08:08 WARN org.apache.spark.scheduler.DAGScheduler: Broadcasting large task binary with size 4.2 MiB\n",
      "24/12/01 06:08:08 WARN org.apache.spark.scheduler.DAGScheduler: Broadcasting large task binary with size 4.2 MiB\n",
      "24/12/01 06:08:08 WARN org.apache.spark.scheduler.DAGScheduler: Broadcasting large task binary with size 4.2 MiB\n",
      "24/12/01 06:08:08 WARN org.apache.spark.scheduler.DAGScheduler: Broadcasting large task binary with size 4.2 MiB\n",
      "24/12/01 06:08:09 WARN org.apache.spark.scheduler.DAGScheduler: Broadcasting large task binary with size 4.2 MiB\n",
      "24/12/01 06:08:13 WARN org.apache.spark.scheduler.DAGScheduler: Broadcasting large task binary with size 4.1 MiB\n",
      "24/12/01 06:08:22 WARN org.apache.spark.scheduler.DAGScheduler: Broadcasting large task binary with size 4.1 MiB\n",
      "24/12/01 06:08:31 WARN org.apache.spark.scheduler.DAGScheduler: Broadcasting large task binary with size 4.1 MiB\n",
      "24/12/01 06:08:35 WARN org.apache.spark.scheduler.DAGScheduler: Broadcasting large task binary with size 5.9 MiB\n",
      "24/12/01 06:08:41 WARN org.apache.spark.scheduler.DAGScheduler: Broadcasting large task binary with size 4.1 MiB\n",
      "24/12/01 06:08:45 WARN org.apache.spark.scheduler.DAGScheduler: Broadcasting large task binary with size 5.9 MiB\n",
      "24/12/01 06:08:51 WARN org.apache.spark.scheduler.DAGScheduler: Broadcasting large task binary with size 4.1 MiB\n",
      "24/12/01 06:09:00 WARN org.apache.spark.scheduler.DAGScheduler: Broadcasting large task binary with size 4.1 MiB\n",
      "24/12/01 06:09:04 WARN org.apache.spark.scheduler.DAGScheduler: Broadcasting large task binary with size 4.2 MiB\n",
      "24/12/01 06:09:06 WARN org.apache.spark.scheduler.DAGScheduler: Broadcasting large task binary with size 4.2 MiB\n",
      "24/12/01 06:09:06 WARN org.apache.spark.scheduler.DAGScheduler: Broadcasting large task binary with size 4.2 MiB\n",
      "24/12/01 06:09:08 WARN org.apache.spark.scheduler.DAGScheduler: Broadcasting large task binary with size 4.2 MiB\n",
      "24/12/01 06:09:09 WARN org.apache.spark.scheduler.DAGScheduler: Broadcasting large task binary with size 4.2 MiB\n",
      "24/12/01 06:09:09 WARN org.apache.spark.scheduler.DAGScheduler: Broadcasting large task binary with size 4.2 MiB\n",
      "24/12/01 06:09:09 WARN org.apache.spark.scheduler.DAGScheduler: Broadcasting large task binary with size 4.2 MiB\n",
      "24/12/01 06:09:10 WARN org.apache.spark.scheduler.DAGScheduler: Broadcasting large task binary with size 4.2 MiB\n",
      "24/12/01 06:09:10 WARN org.apache.spark.scheduler.DAGScheduler: Broadcasting large task binary with size 4.2 MiB\n",
      "24/12/01 06:09:10 WARN org.apache.spark.scheduler.DAGScheduler: Broadcasting large task binary with size 4.2 MiB\n",
      "24/12/01 06:09:10 WARN org.apache.spark.scheduler.DAGScheduler: Broadcasting large task binary with size 4.2 MiB\n",
      "24/12/01 06:09:11 WARN org.apache.spark.scheduler.DAGScheduler: Broadcasting large task binary with size 4.2 MiB\n",
      "24/12/01 06:09:11 WARN org.apache.spark.scheduler.DAGScheduler: Broadcasting large task binary with size 4.2 MiB\n",
      "24/12/01 06:09:11 WARN org.apache.spark.scheduler.DAGScheduler: Broadcasting large task binary with size 4.2 MiB\n",
      "24/12/01 06:09:12 WARN org.apache.spark.scheduler.DAGScheduler: Broadcasting large task binary with size 4.2 MiB\n",
      "24/12/01 06:09:12 WARN org.apache.spark.scheduler.DAGScheduler: Broadcasting large task binary with size 4.2 MiB\n",
      "24/12/01 06:09:16 WARN org.apache.spark.scheduler.DAGScheduler: Broadcasting large task binary with size 4.1 MiB\n",
      "24/12/01 06:09:25 WARN org.apache.spark.scheduler.DAGScheduler: Broadcasting large task binary with size 4.1 MiB\n",
      "24/12/01 06:09:34 WARN org.apache.spark.scheduler.DAGScheduler: Broadcasting large task binary with size 4.1 MiB\n",
      "24/12/01 06:09:38 WARN org.apache.spark.scheduler.DAGScheduler: Broadcasting large task binary with size 5.9 MiB\n",
      "24/12/01 06:09:44 WARN org.apache.spark.scheduler.DAGScheduler: Broadcasting large task binary with size 4.1 MiB\n",
      "24/12/01 06:09:48 WARN org.apache.spark.scheduler.DAGScheduler: Broadcasting large task binary with size 5.9 MiB\n",
      "24/12/01 06:09:54 WARN org.apache.spark.scheduler.DAGScheduler: Broadcasting large task binary with size 4.1 MiB\n",
      "24/12/01 06:10:03 WARN org.apache.spark.scheduler.DAGScheduler: Broadcasting large task binary with size 4.1 MiB\n",
      "24/12/01 06:10:07 WARN org.apache.spark.scheduler.DAGScheduler: Broadcasting large task binary with size 4.2 MiB\n",
      "24/12/01 06:10:08 WARN org.apache.spark.scheduler.DAGScheduler: Broadcasting large task binary with size 4.2 MiB\n",
      "24/12/01 06:10:09 WARN org.apache.spark.scheduler.DAGScheduler: Broadcasting large task binary with size 4.2 MiB\n",
      "24/12/01 06:10:11 WARN org.apache.spark.scheduler.DAGScheduler: Broadcasting large task binary with size 4.2 MiB\n",
      "24/12/01 06:10:12 WARN org.apache.spark.scheduler.DAGScheduler: Broadcasting large task binary with size 4.2 MiB\n",
      "24/12/01 06:10:12 WARN org.apache.spark.scheduler.DAGScheduler: Broadcasting large task binary with size 4.2 MiB\n",
      "24/12/01 06:10:12 WARN org.apache.spark.scheduler.DAGScheduler: Broadcasting large task binary with size 4.2 MiB\n",
      "24/12/01 06:10:13 WARN org.apache.spark.scheduler.DAGScheduler: Broadcasting large task binary with size 4.2 MiB\n",
      "24/12/01 06:10:13 WARN org.apache.spark.scheduler.DAGScheduler: Broadcasting large task binary with size 4.2 MiB\n",
      "24/12/01 06:10:13 WARN org.apache.spark.scheduler.DAGScheduler: Broadcasting large task binary with size 4.2 MiB\n",
      "24/12/01 06:10:13 WARN org.apache.spark.scheduler.DAGScheduler: Broadcasting large task binary with size 4.2 MiB\n",
      "24/12/01 06:10:14 WARN org.apache.spark.scheduler.DAGScheduler: Broadcasting large task binary with size 4.2 MiB\n",
      "24/12/01 06:10:14 WARN org.apache.spark.scheduler.DAGScheduler: Broadcasting large task binary with size 4.2 MiB\n",
      "24/12/01 06:10:14 WARN org.apache.spark.scheduler.DAGScheduler: Broadcasting large task binary with size 4.2 MiB\n",
      "24/12/01 06:10:14 WARN org.apache.spark.scheduler.DAGScheduler: Broadcasting large task binary with size 4.2 MiB\n",
      "24/12/01 06:10:15 WARN org.apache.spark.scheduler.DAGScheduler: Broadcasting large task binary with size 4.2 MiB\n",
      "24/12/01 06:10:15 WARN org.apache.spark.scheduler.DAGScheduler: Broadcasting large task binary with size 4.2 MiB\n",
      "24/12/01 06:10:15 WARN org.apache.spark.scheduler.DAGScheduler: Broadcasting large task binary with size 4.2 MiB\n",
      "24/12/01 06:10:20 WARN org.apache.spark.scheduler.DAGScheduler: Broadcasting large task binary with size 4.1 MiB\n",
      "24/12/01 06:10:29 WARN org.apache.spark.scheduler.DAGScheduler: Broadcasting large task binary with size 4.1 MiB\n",
      "24/12/01 06:10:42 WARN org.apache.spark.scheduler.DAGScheduler: Broadcasting large task binary with size 4.1 MiB\n",
      "24/12/01 06:10:48 WARN org.apache.spark.scheduler.DAGScheduler: Broadcasting large task binary with size 5.9 MiB\n",
      "24/12/01 06:10:59 WARN org.apache.spark.scheduler.DAGScheduler: Broadcasting large task binary with size 4.1 MiB\n",
      "24/12/01 06:11:05 WARN org.apache.spark.scheduler.DAGScheduler: Broadcasting large task binary with size 5.9 MiB\n",
      "24/12/01 06:11:11 WARN org.apache.spark.scheduler.DAGScheduler: Broadcasting large task binary with size 4.1 MiB\n",
      "24/12/01 06:11:19 WARN org.apache.spark.scheduler.DAGScheduler: Broadcasting large task binary with size 4.1 MiB\n",
      "24/12/01 06:11:23 WARN org.apache.spark.scheduler.DAGScheduler: Broadcasting large task binary with size 4.2 MiB\n",
      "24/12/01 06:11:24 WARN org.apache.spark.scheduler.DAGScheduler: Broadcasting large task binary with size 4.2 MiB\n",
      "24/12/01 06:11:25 WARN org.apache.spark.scheduler.DAGScheduler: Broadcasting large task binary with size 4.2 MiB\n",
      "24/12/01 06:11:26 WARN org.apache.spark.scheduler.DAGScheduler: Broadcasting large task binary with size 4.2 MiB\n",
      "24/12/01 06:11:27 WARN org.apache.spark.scheduler.DAGScheduler: Broadcasting large task binary with size 4.2 MiB\n",
      "24/12/01 06:11:27 WARN org.apache.spark.scheduler.DAGScheduler: Broadcasting large task binary with size 4.2 MiB\n",
      "24/12/01 06:11:28 WARN org.apache.spark.scheduler.DAGScheduler: Broadcasting large task binary with size 4.2 MiB\n",
      "24/12/01 06:11:28 WARN org.apache.spark.scheduler.DAGScheduler: Broadcasting large task binary with size 4.2 MiB\n",
      "24/12/01 06:11:28 WARN org.apache.spark.scheduler.DAGScheduler: Broadcasting large task binary with size 4.2 MiB\n",
      "24/12/01 06:11:28 WARN org.apache.spark.scheduler.DAGScheduler: Broadcasting large task binary with size 4.2 MiB\n",
      "24/12/01 06:11:29 WARN org.apache.spark.scheduler.DAGScheduler: Broadcasting large task binary with size 4.2 MiB\n",
      "24/12/01 06:11:29 WARN org.apache.spark.scheduler.DAGScheduler: Broadcasting large task binary with size 4.2 MiB\n",
      "24/12/01 06:11:29 WARN org.apache.spark.scheduler.DAGScheduler: Broadcasting large task binary with size 4.2 MiB\n",
      "24/12/01 06:11:30 WARN org.apache.spark.scheduler.DAGScheduler: Broadcasting large task binary with size 4.2 MiB\n",
      "24/12/01 06:11:30 WARN org.apache.spark.scheduler.DAGScheduler: Broadcasting large task binary with size 4.2 MiB\n",
      "24/12/01 06:11:30 WARN org.apache.spark.scheduler.DAGScheduler: Broadcasting large task binary with size 4.2 MiB\n",
      "24/12/01 06:11:30 WARN org.apache.spark.scheduler.DAGScheduler: Broadcasting large task binary with size 4.2 MiB\n",
      "24/12/01 06:11:31 WARN org.apache.spark.scheduler.DAGScheduler: Broadcasting large task binary with size 4.2 MiB\n",
      "24/12/01 06:11:35 WARN org.apache.spark.scheduler.DAGScheduler: Broadcasting large task binary with size 4.1 MiB\n",
      "24/12/01 06:11:42 WARN org.apache.spark.scheduler.DAGScheduler: Broadcasting large task binary with size 4.1 MiB\n",
      "24/12/01 06:11:50 WARN org.apache.spark.scheduler.DAGScheduler: Broadcasting large task binary with size 4.1 MiB\n",
      "24/12/01 06:11:54 WARN org.apache.spark.scheduler.DAGScheduler: Broadcasting large task binary with size 5.9 MiB\n",
      "24/12/01 06:11:59 WARN org.apache.spark.scheduler.DAGScheduler: Broadcasting large task binary with size 4.1 MiB\n",
      "24/12/01 06:12:03 WARN org.apache.spark.scheduler.DAGScheduler: Broadcasting large task binary with size 5.9 MiB\n",
      "24/12/01 06:12:08 WARN org.apache.spark.scheduler.DAGScheduler: Broadcasting large task binary with size 4.1 MiB\n",
      "24/12/01 06:12:16 WARN org.apache.spark.scheduler.DAGScheduler: Broadcasting large task binary with size 4.1 MiB\n",
      "24/12/01 06:12:20 WARN org.apache.spark.scheduler.DAGScheduler: Broadcasting large task binary with size 4.2 MiB\n",
      "24/12/01 06:12:21 WARN org.apache.spark.scheduler.DAGScheduler: Broadcasting large task binary with size 4.2 MiB\n",
      "24/12/01 06:12:21 WARN org.apache.spark.scheduler.DAGScheduler: Broadcasting large task binary with size 4.2 MiB\n",
      "24/12/01 06:12:23 WARN org.apache.spark.scheduler.DAGScheduler: Broadcasting large task binary with size 4.2 MiB\n",
      "24/12/01 06:12:23 WARN org.apache.spark.scheduler.DAGScheduler: Broadcasting large task binary with size 4.2 MiB\n",
      "24/12/01 06:12:24 WARN org.apache.spark.scheduler.DAGScheduler: Broadcasting large task binary with size 4.2 MiB\n",
      "24/12/01 06:12:24 WARN org.apache.spark.scheduler.DAGScheduler: Broadcasting large task binary with size 4.2 MiB\n",
      "24/12/01 06:12:24 WARN org.apache.spark.scheduler.DAGScheduler: Broadcasting large task binary with size 4.2 MiB\n",
      "24/12/01 06:12:25 WARN org.apache.spark.scheduler.DAGScheduler: Broadcasting large task binary with size 4.2 MiB\n",
      "24/12/01 06:12:25 WARN org.apache.spark.scheduler.DAGScheduler: Broadcasting large task binary with size 4.2 MiB\n",
      "24/12/01 06:12:25 WARN org.apache.spark.scheduler.DAGScheduler: Broadcasting large task binary with size 4.2 MiB\n",
      "24/12/01 06:12:25 WARN org.apache.spark.scheduler.DAGScheduler: Broadcasting large task binary with size 4.2 MiB\n",
      "24/12/01 06:12:26 WARN org.apache.spark.scheduler.DAGScheduler: Broadcasting large task binary with size 4.2 MiB\n",
      "24/12/01 06:12:26 WARN org.apache.spark.scheduler.DAGScheduler: Broadcasting large task binary with size 4.2 MiB\n",
      "24/12/01 06:12:26 WARN org.apache.spark.scheduler.DAGScheduler: Broadcasting large task binary with size 4.2 MiB\n",
      "24/12/01 06:12:27 WARN org.apache.spark.scheduler.DAGScheduler: Broadcasting large task binary with size 4.2 MiB\n",
      "24/12/01 06:12:31 WARN org.apache.spark.scheduler.DAGScheduler: Broadcasting large task binary with size 4.1 MiB\n",
      "24/12/01 06:12:38 WARN org.apache.spark.scheduler.DAGScheduler: Broadcasting large task binary with size 4.1 MiB\n",
      "24/12/01 06:12:46 WARN org.apache.spark.scheduler.DAGScheduler: Broadcasting large task binary with size 4.1 MiB\n",
      "24/12/01 06:12:50 WARN org.apache.spark.scheduler.DAGScheduler: Broadcasting large task binary with size 5.9 MiB\n",
      "24/12/01 06:12:55 WARN org.apache.spark.scheduler.DAGScheduler: Broadcasting large task binary with size 4.1 MiB\n",
      "24/12/01 06:12:59 WARN org.apache.spark.scheduler.DAGScheduler: Broadcasting large task binary with size 5.9 MiB\n",
      "24/12/01 06:13:04 WARN org.apache.spark.scheduler.DAGScheduler: Broadcasting large task binary with size 4.1 MiB\n",
      "24/12/01 06:13:12 WARN org.apache.spark.scheduler.DAGScheduler: Broadcasting large task binary with size 4.1 MiB\n",
      "24/12/01 06:13:15 WARN org.apache.spark.scheduler.DAGScheduler: Broadcasting large task binary with size 4.2 MiB\n",
      "24/12/01 06:13:17 WARN org.apache.spark.scheduler.DAGScheduler: Broadcasting large task binary with size 4.2 MiB\n",
      "24/12/01 06:13:17 WARN org.apache.spark.scheduler.DAGScheduler: Broadcasting large task binary with size 4.2 MiB\n",
      "24/12/01 06:13:19 WARN org.apache.spark.scheduler.DAGScheduler: Broadcasting large task binary with size 4.2 MiB\n",
      "24/12/01 06:13:19 WARN org.apache.spark.scheduler.DAGScheduler: Broadcasting large task binary with size 4.2 MiB\n",
      "24/12/01 06:13:19 WARN org.apache.spark.scheduler.DAGScheduler: Broadcasting large task binary with size 4.2 MiB\n",
      "24/12/01 06:13:20 WARN org.apache.spark.scheduler.DAGScheduler: Broadcasting large task binary with size 4.2 MiB\n",
      "24/12/01 06:13:20 WARN org.apache.spark.scheduler.DAGScheduler: Broadcasting large task binary with size 4.2 MiB\n",
      "24/12/01 06:13:20 WARN org.apache.spark.scheduler.DAGScheduler: Broadcasting large task binary with size 4.2 MiB\n",
      "24/12/01 06:13:21 WARN org.apache.spark.scheduler.DAGScheduler: Broadcasting large task binary with size 4.2 MiB\n",
      "24/12/01 06:13:21 WARN org.apache.spark.scheduler.DAGScheduler: Broadcasting large task binary with size 4.2 MiB\n",
      "24/12/01 06:13:21 WARN org.apache.spark.scheduler.DAGScheduler: Broadcasting large task binary with size 4.2 MiB\n",
      "24/12/01 06:13:21 WARN org.apache.spark.scheduler.DAGScheduler: Broadcasting large task binary with size 4.2 MiB\n",
      "24/12/01 06:13:22 WARN org.apache.spark.scheduler.DAGScheduler: Broadcasting large task binary with size 4.2 MiB\n",
      "24/12/01 06:13:22 WARN org.apache.spark.scheduler.DAGScheduler: Broadcasting large task binary with size 4.2 MiB\n",
      "24/12/01 06:13:22 WARN org.apache.spark.scheduler.DAGScheduler: Broadcasting large task binary with size 4.2 MiB\n",
      "24/12/01 06:13:23 WARN org.apache.spark.scheduler.DAGScheduler: Broadcasting large task binary with size 4.2 MiB\n",
      "24/12/01 06:13:23 WARN org.apache.spark.scheduler.DAGScheduler: Broadcasting large task binary with size 4.2 MiB\n",
      "24/12/01 06:13:23 WARN org.apache.spark.scheduler.DAGScheduler: Broadcasting large task binary with size 4.2 MiB\n",
      "24/12/01 06:13:23 WARN org.apache.spark.scheduler.DAGScheduler: Broadcasting large task binary with size 4.2 MiB\n",
      "24/12/01 06:13:27 WARN org.apache.spark.scheduler.DAGScheduler: Broadcasting large task binary with size 4.1 MiB\n",
      "24/12/01 06:13:35 WARN org.apache.spark.scheduler.DAGScheduler: Broadcasting large task binary with size 4.1 MiB\n",
      "24/12/01 06:13:43 WARN org.apache.spark.scheduler.DAGScheduler: Broadcasting large task binary with size 4.1 MiB\n",
      "24/12/01 06:13:46 WARN org.apache.spark.scheduler.DAGScheduler: Broadcasting large task binary with size 5.9 MiB\n",
      "24/12/01 06:13:51 WARN org.apache.spark.scheduler.DAGScheduler: Broadcasting large task binary with size 4.1 MiB\n",
      "24/12/01 06:13:55 WARN org.apache.spark.scheduler.DAGScheduler: Broadcasting large task binary with size 5.9 MiB\n",
      "24/12/01 06:14:00 WARN org.apache.spark.scheduler.DAGScheduler: Broadcasting large task binary with size 4.1 MiB\n",
      "24/12/01 06:14:08 WARN org.apache.spark.scheduler.DAGScheduler: Broadcasting large task binary with size 4.1 MiB\n",
      "24/12/01 06:14:11 WARN org.apache.spark.scheduler.DAGScheduler: Broadcasting large task binary with size 4.2 MiB\n",
      "24/12/01 06:14:13 WARN org.apache.spark.scheduler.DAGScheduler: Broadcasting large task binary with size 4.2 MiB\n",
      "24/12/01 06:14:13 WARN org.apache.spark.scheduler.DAGScheduler: Broadcasting large task binary with size 4.2 MiB\n",
      "24/12/01 06:14:15 WARN org.apache.spark.scheduler.DAGScheduler: Broadcasting large task binary with size 4.2 MiB\n",
      "24/12/01 06:14:15 WARN org.apache.spark.scheduler.DAGScheduler: Broadcasting large task binary with size 4.2 MiB\n",
      "24/12/01 06:14:15 WARN org.apache.spark.scheduler.DAGScheduler: Broadcasting large task binary with size 4.2 MiB\n",
      "24/12/01 06:14:16 WARN org.apache.spark.scheduler.DAGScheduler: Broadcasting large task binary with size 4.2 MiB\n",
      "24/12/01 06:14:16 WARN org.apache.spark.scheduler.DAGScheduler: Broadcasting large task binary with size 4.2 MiB\n",
      "24/12/01 06:14:16 WARN org.apache.spark.scheduler.DAGScheduler: Broadcasting large task binary with size 4.2 MiB\n",
      "24/12/01 06:14:17 WARN org.apache.spark.scheduler.DAGScheduler: Broadcasting large task binary with size 4.2 MiB\n",
      "24/12/01 06:14:17 WARN org.apache.spark.scheduler.DAGScheduler: Broadcasting large task binary with size 4.2 MiB\n",
      "24/12/01 06:14:17 WARN org.apache.spark.scheduler.DAGScheduler: Broadcasting large task binary with size 4.2 MiB\n",
      "24/12/01 06:14:17 WARN org.apache.spark.scheduler.DAGScheduler: Broadcasting large task binary with size 4.2 MiB\n",
      "24/12/01 06:14:18 WARN org.apache.spark.scheduler.DAGScheduler: Broadcasting large task binary with size 4.2 MiB\n",
      "24/12/01 06:14:18 WARN org.apache.spark.scheduler.DAGScheduler: Broadcasting large task binary with size 4.2 MiB\n",
      "24/12/01 06:14:18 WARN org.apache.spark.scheduler.DAGScheduler: Broadcasting large task binary with size 4.2 MiB\n",
      "24/12/01 06:14:18 WARN org.apache.spark.scheduler.DAGScheduler: Broadcasting large task binary with size 4.2 MiB\n",
      "24/12/01 06:14:19 WARN org.apache.spark.scheduler.DAGScheduler: Broadcasting large task binary with size 4.2 MiB\n",
      "24/12/01 06:14:23 WARN org.apache.spark.scheduler.DAGScheduler: Broadcasting large task binary with size 4.1 MiB\n",
      "24/12/01 06:14:30 WARN org.apache.spark.scheduler.DAGScheduler: Broadcasting large task binary with size 4.1 MiB\n",
      "24/12/01 06:14:38 WARN org.apache.spark.scheduler.DAGScheduler: Broadcasting large task binary with size 4.1 MiB\n",
      "24/12/01 06:14:42 WARN org.apache.spark.scheduler.DAGScheduler: Broadcasting large task binary with size 5.9 MiB\n",
      "24/12/01 06:14:47 WARN org.apache.spark.scheduler.DAGScheduler: Broadcasting large task binary with size 4.1 MiB\n",
      "24/12/01 06:14:51 WARN org.apache.spark.scheduler.DAGScheduler: Broadcasting large task binary with size 5.9 MiB\n",
      "24/12/01 06:15:03 WARN org.apache.spark.scheduler.DAGScheduler: Broadcasting large task binary with size 4.1 MiB\n",
      "24/12/01 06:15:10 WARN org.apache.spark.scheduler.DAGScheduler: Broadcasting large task binary with size 4.1 MiB\n",
      "24/12/01 06:15:14 WARN org.apache.spark.scheduler.DAGScheduler: Broadcasting large task binary with size 4.2 MiB\n",
      "24/12/01 06:15:15 WARN org.apache.spark.scheduler.DAGScheduler: Broadcasting large task binary with size 4.2 MiB\n",
      "24/12/01 06:15:16 WARN org.apache.spark.scheduler.DAGScheduler: Broadcasting large task binary with size 4.2 MiB\n",
      "24/12/01 06:15:17 WARN org.apache.spark.scheduler.DAGScheduler: Broadcasting large task binary with size 4.2 MiB\n",
      "24/12/01 06:15:18 WARN org.apache.spark.scheduler.DAGScheduler: Broadcasting large task binary with size 4.2 MiB\n",
      "24/12/01 06:15:18 WARN org.apache.spark.scheduler.DAGScheduler: Broadcasting large task binary with size 4.2 MiB\n",
      "24/12/01 06:15:18 WARN org.apache.spark.scheduler.DAGScheduler: Broadcasting large task binary with size 4.2 MiB\n",
      "24/12/01 06:15:19 WARN org.apache.spark.scheduler.DAGScheduler: Broadcasting large task binary with size 4.2 MiB\n",
      "24/12/01 06:15:19 WARN org.apache.spark.scheduler.DAGScheduler: Broadcasting large task binary with size 4.2 MiB\n",
      "24/12/01 06:15:19 WARN org.apache.spark.scheduler.DAGScheduler: Broadcasting large task binary with size 4.2 MiB\n",
      "24/12/01 06:15:19 WARN org.apache.spark.scheduler.DAGScheduler: Broadcasting large task binary with size 4.2 MiB\n",
      "24/12/01 06:15:20 WARN org.apache.spark.scheduler.DAGScheduler: Broadcasting large task binary with size 4.2 MiB\n",
      "24/12/01 06:15:20 WARN org.apache.spark.scheduler.DAGScheduler: Broadcasting large task binary with size 4.2 MiB\n",
      "24/12/01 06:15:20 WARN org.apache.spark.scheduler.DAGScheduler: Broadcasting large task binary with size 4.2 MiB\n",
      "24/12/01 06:15:21 WARN org.apache.spark.scheduler.DAGScheduler: Broadcasting large task binary with size 4.2 MiB\n",
      "24/12/01 06:15:21 WARN org.apache.spark.scheduler.DAGScheduler: Broadcasting large task binary with size 4.2 MiB\n",
      "24/12/01 06:15:21 WARN org.apache.spark.scheduler.DAGScheduler: Broadcasting large task binary with size 4.2 MiB\n",
      "24/12/01 06:15:21 WARN org.apache.spark.scheduler.DAGScheduler: Broadcasting large task binary with size 4.2 MiB\n",
      "24/12/01 06:15:26 WARN org.apache.spark.scheduler.DAGScheduler: Broadcasting large task binary with size 4.1 MiB\n",
      "24/12/01 06:15:33 WARN org.apache.spark.scheduler.DAGScheduler: Broadcasting large task binary with size 4.1 MiB\n",
      "24/12/01 06:15:41 WARN org.apache.spark.scheduler.DAGScheduler: Broadcasting large task binary with size 4.1 MiB\n",
      "24/12/01 06:15:44 WARN org.apache.spark.scheduler.DAGScheduler: Broadcasting large task binary with size 5.9 MiB\n",
      "24/12/01 06:15:50 WARN org.apache.spark.scheduler.DAGScheduler: Broadcasting large task binary with size 4.1 MiB\n",
      "24/12/01 06:15:53 WARN org.apache.spark.scheduler.DAGScheduler: Broadcasting large task binary with size 5.9 MiB\n",
      "24/12/01 06:15:59 WARN org.apache.spark.scheduler.DAGScheduler: Broadcasting large task binary with size 4.1 MiB\n",
      "24/12/01 06:16:06 WARN org.apache.spark.scheduler.DAGScheduler: Broadcasting large task binary with size 4.1 MiB\n",
      "24/12/01 06:16:10 WARN org.apache.spark.scheduler.DAGScheduler: Broadcasting large task binary with size 4.2 MiB\n",
      "24/12/01 06:16:11 WARN org.apache.spark.scheduler.DAGScheduler: Broadcasting large task binary with size 4.2 MiB\n",
      "24/12/01 06:16:12 WARN org.apache.spark.scheduler.DAGScheduler: Broadcasting large task binary with size 4.2 MiB\n",
      "24/12/01 06:16:13 WARN org.apache.spark.scheduler.DAGScheduler: Broadcasting large task binary with size 4.2 MiB\n",
      "24/12/01 06:16:13 WARN org.apache.spark.scheduler.DAGScheduler: Broadcasting large task binary with size 4.2 MiB\n",
      "24/12/01 06:16:14 WARN org.apache.spark.scheduler.DAGScheduler: Broadcasting large task binary with size 4.2 MiB\n",
      "24/12/01 06:16:14 WARN org.apache.spark.scheduler.DAGScheduler: Broadcasting large task binary with size 4.2 MiB\n",
      "24/12/01 06:16:15 WARN org.apache.spark.scheduler.DAGScheduler: Broadcasting large task binary with size 4.2 MiB\n",
      "24/12/01 06:16:15 WARN org.apache.spark.scheduler.DAGScheduler: Broadcasting large task binary with size 4.2 MiB\n",
      "24/12/01 06:16:15 WARN org.apache.spark.scheduler.DAGScheduler: Broadcasting large task binary with size 4.2 MiB\n",
      "24/12/01 06:16:15 WARN org.apache.spark.scheduler.DAGScheduler: Broadcasting large task binary with size 4.2 MiB\n",
      "24/12/01 06:16:16 WARN org.apache.spark.scheduler.DAGScheduler: Broadcasting large task binary with size 4.2 MiB\n",
      "24/12/01 06:16:16 WARN org.apache.spark.scheduler.DAGScheduler: Broadcasting large task binary with size 4.2 MiB\n",
      "24/12/01 06:16:16 WARN org.apache.spark.scheduler.DAGScheduler: Broadcasting large task binary with size 4.2 MiB\n",
      "24/12/01 06:16:17 WARN org.apache.spark.scheduler.DAGScheduler: Broadcasting large task binary with size 4.2 MiB\n",
      "24/12/01 06:16:17 WARN org.apache.spark.scheduler.DAGScheduler: Broadcasting large task binary with size 4.2 MiB\n",
      "24/12/01 06:16:17 WARN org.apache.spark.scheduler.DAGScheduler: Broadcasting large task binary with size 4.2 MiB\n",
      "24/12/01 06:16:17 WARN org.apache.spark.scheduler.DAGScheduler: Broadcasting large task binary with size 4.2 MiB\n",
      "24/12/01 06:16:22 WARN org.apache.spark.scheduler.DAGScheduler: Broadcasting large task binary with size 4.1 MiB\n",
      "24/12/01 06:16:30 WARN org.apache.spark.scheduler.DAGScheduler: Broadcasting large task binary with size 4.1 MiB\n",
      "24/12/01 06:16:37 WARN org.apache.spark.scheduler.DAGScheduler: Broadcasting large task binary with size 4.1 MiB\n",
      "24/12/01 06:16:46 WARN org.apache.spark.scheduler.DAGScheduler: Broadcasting large task binary with size 4.1 MiB\n",
      "24/12/01 06:16:50 WARN org.apache.spark.scheduler.DAGScheduler: Broadcasting large task binary with size 5.9 MiB\n",
      "24/12/01 06:16:55 WARN org.apache.spark.scheduler.DAGScheduler: Broadcasting large task binary with size 4.1 MiB\n",
      "24/12/01 06:17:03 WARN org.apache.spark.scheduler.DAGScheduler: Broadcasting large task binary with size 4.1 MiB\n",
      "24/12/01 06:17:06 WARN org.apache.spark.scheduler.DAGScheduler: Broadcasting large task binary with size 4.2 MiB\n",
      "24/12/01 06:17:08 WARN org.apache.spark.scheduler.DAGScheduler: Broadcasting large task binary with size 4.2 MiB\n",
      "24/12/01 06:17:08 WARN org.apache.spark.scheduler.DAGScheduler: Broadcasting large task binary with size 4.2 MiB\n",
      "24/12/01 06:17:10 WARN org.apache.spark.scheduler.DAGScheduler: Broadcasting large task binary with size 4.2 MiB\n",
      "24/12/01 06:17:10 WARN org.apache.spark.scheduler.DAGScheduler: Broadcasting large task binary with size 4.2 MiB\n",
      "24/12/01 06:17:10 WARN org.apache.spark.scheduler.DAGScheduler: Broadcasting large task binary with size 4.2 MiB\n",
      "24/12/01 06:17:11 WARN org.apache.spark.scheduler.DAGScheduler: Broadcasting large task binary with size 4.2 MiB\n",
      "24/12/01 06:17:11 WARN org.apache.spark.scheduler.DAGScheduler: Broadcasting large task binary with size 4.2 MiB\n",
      "24/12/01 06:17:11 WARN org.apache.spark.scheduler.DAGScheduler: Broadcasting large task binary with size 4.2 MiB\n",
      "24/12/01 06:17:11 WARN org.apache.spark.scheduler.DAGScheduler: Broadcasting large task binary with size 4.2 MiB\n",
      "24/12/01 06:17:12 WARN org.apache.spark.scheduler.DAGScheduler: Broadcasting large task binary with size 4.2 MiB\n",
      "24/12/01 06:17:12 WARN org.apache.spark.scheduler.DAGScheduler: Broadcasting large task binary with size 4.2 MiB\n",
      "24/12/01 06:17:12 WARN org.apache.spark.scheduler.DAGScheduler: Broadcasting large task binary with size 4.2 MiB\n",
      "24/12/01 06:17:12 WARN org.apache.spark.scheduler.DAGScheduler: Broadcasting large task binary with size 4.2 MiB\n",
      "24/12/01 06:17:13 WARN org.apache.spark.scheduler.DAGScheduler: Broadcasting large task binary with size 4.2 MiB\n",
      "24/12/01 06:17:13 WARN org.apache.spark.scheduler.DAGScheduler: Broadcasting large task binary with size 4.2 MiB\n",
      "24/12/01 06:17:17 WARN org.apache.spark.scheduler.DAGScheduler: Broadcasting large task binary with size 4.1 MiB\n",
      "24/12/01 06:17:25 WARN org.apache.spark.scheduler.DAGScheduler: Broadcasting large task binary with size 4.1 MiB\n",
      "24/12/01 06:17:32 WARN org.apache.spark.scheduler.DAGScheduler: Broadcasting large task binary with size 4.1 MiB\n",
      "24/12/01 06:17:36 WARN org.apache.spark.scheduler.DAGScheduler: Broadcasting large task binary with size 5.9 MiB\n",
      "24/12/01 06:17:41 WARN org.apache.spark.scheduler.DAGScheduler: Broadcasting large task binary with size 4.1 MiB\n",
      "24/12/01 06:17:45 WARN org.apache.spark.scheduler.DAGScheduler: Broadcasting large task binary with size 5.9 MiB\n",
      "24/12/01 06:17:50 WARN org.apache.spark.scheduler.DAGScheduler: Broadcasting large task binary with size 4.1 MiB\n",
      "24/12/01 06:17:57 WARN org.apache.spark.scheduler.DAGScheduler: Broadcasting large task binary with size 4.1 MiB\n",
      "24/12/01 06:18:01 WARN org.apache.spark.scheduler.DAGScheduler: Broadcasting large task binary with size 4.2 MiB\n",
      "24/12/01 06:18:03 WARN org.apache.spark.scheduler.DAGScheduler: Broadcasting large task binary with size 4.2 MiB\n",
      "24/12/01 06:18:03 WARN org.apache.spark.scheduler.DAGScheduler: Broadcasting large task binary with size 4.2 MiB\n",
      "24/12/01 06:18:05 WARN org.apache.spark.scheduler.DAGScheduler: Broadcasting large task binary with size 4.2 MiB\n",
      "24/12/01 06:18:05 WARN org.apache.spark.scheduler.DAGScheduler: Broadcasting large task binary with size 4.2 MiB\n",
      "24/12/01 06:18:05 WARN org.apache.spark.scheduler.DAGScheduler: Broadcasting large task binary with size 4.2 MiB\n",
      "24/12/01 06:18:05 WARN org.apache.spark.scheduler.DAGScheduler: Broadcasting large task binary with size 4.2 MiB\n",
      "24/12/01 06:18:06 WARN org.apache.spark.scheduler.DAGScheduler: Broadcasting large task binary with size 4.2 MiB\n",
      "24/12/01 06:18:06 WARN org.apache.spark.scheduler.DAGScheduler: Broadcasting large task binary with size 4.2 MiB\n",
      "24/12/01 06:18:06 WARN org.apache.spark.scheduler.DAGScheduler: Broadcasting large task binary with size 4.2 MiB\n",
      "24/12/01 06:18:07 WARN org.apache.spark.scheduler.DAGScheduler: Broadcasting large task binary with size 4.2 MiB\n",
      "24/12/01 06:18:07 WARN org.apache.spark.scheduler.DAGScheduler: Broadcasting large task binary with size 4.2 MiB\n",
      "24/12/01 06:18:07 WARN org.apache.spark.scheduler.DAGScheduler: Broadcasting large task binary with size 4.2 MiB\n",
      "24/12/01 06:18:07 WARN org.apache.spark.scheduler.DAGScheduler: Broadcasting large task binary with size 4.2 MiB\n",
      "24/12/01 06:18:08 WARN org.apache.spark.scheduler.DAGScheduler: Broadcasting large task binary with size 4.2 MiB\n",
      "24/12/01 06:18:08 WARN org.apache.spark.scheduler.DAGScheduler: Broadcasting large task binary with size 4.2 MiB\n",
      "24/12/01 06:18:08 WARN org.apache.spark.scheduler.DAGScheduler: Broadcasting large task binary with size 4.2 MiB\n",
      "24/12/01 06:18:08 WARN org.apache.spark.scheduler.DAGScheduler: Broadcasting large task binary with size 4.2 MiB\n",
      "24/12/01 06:18:12 WARN org.apache.spark.scheduler.DAGScheduler: Broadcasting large task binary with size 4.1 MiB\n",
      "24/12/01 06:18:19 WARN org.apache.spark.scheduler.DAGScheduler: Broadcasting large task binary with size 4.1 MiB\n",
      "24/12/01 06:18:27 WARN org.apache.spark.scheduler.DAGScheduler: Broadcasting large task binary with size 4.1 MiB\n",
      "24/12/01 06:18:31 WARN org.apache.spark.scheduler.DAGScheduler: Broadcasting large task binary with size 5.9 MiB\n",
      "24/12/01 06:18:36 WARN org.apache.spark.scheduler.DAGScheduler: Broadcasting large task binary with size 4.1 MiB\n",
      "24/12/01 06:18:40 WARN org.apache.spark.scheduler.DAGScheduler: Broadcasting large task binary with size 5.9 MiB\n",
      "24/12/01 06:18:49 WARN org.apache.spark.scheduler.DAGScheduler: Broadcasting large task binary with size 4.1 MiB\n",
      "24/12/01 06:18:57 WARN org.apache.spark.scheduler.DAGScheduler: Broadcasting large task binary with size 4.1 MiB\n",
      "24/12/01 06:19:00 WARN org.apache.spark.scheduler.DAGScheduler: Broadcasting large task binary with size 4.2 MiB\n",
      "24/12/01 06:19:01 WARN org.apache.spark.scheduler.DAGScheduler: Broadcasting large task binary with size 4.2 MiB\n",
      "24/12/01 06:19:02 WARN org.apache.spark.scheduler.DAGScheduler: Broadcasting large task binary with size 4.2 MiB\n",
      "24/12/01 06:19:03 WARN org.apache.spark.scheduler.DAGScheduler: Broadcasting large task binary with size 4.2 MiB\n",
      "24/12/01 06:19:04 WARN org.apache.spark.scheduler.DAGScheduler: Broadcasting large task binary with size 4.2 MiB\n",
      "24/12/01 06:19:04 WARN org.apache.spark.scheduler.DAGScheduler: Broadcasting large task binary with size 4.2 MiB\n",
      "24/12/01 06:19:04 WARN org.apache.spark.scheduler.DAGScheduler: Broadcasting large task binary with size 4.2 MiB\n",
      "24/12/01 06:19:05 WARN org.apache.spark.scheduler.DAGScheduler: Broadcasting large task binary with size 4.2 MiB\n",
      "24/12/01 06:19:05 WARN org.apache.spark.scheduler.DAGScheduler: Broadcasting large task binary with size 4.2 MiB\n",
      "24/12/01 06:19:05 WARN org.apache.spark.scheduler.DAGScheduler: Broadcasting large task binary with size 4.2 MiB\n",
      "24/12/01 06:19:05 WARN org.apache.spark.scheduler.DAGScheduler: Broadcasting large task binary with size 4.2 MiB\n",
      "24/12/01 06:19:06 WARN org.apache.spark.scheduler.DAGScheduler: Broadcasting large task binary with size 4.2 MiB\n",
      "24/12/01 06:19:06 WARN org.apache.spark.scheduler.DAGScheduler: Broadcasting large task binary with size 4.2 MiB\n",
      "24/12/01 06:19:06 WARN org.apache.spark.scheduler.DAGScheduler: Broadcasting large task binary with size 4.2 MiB\n",
      "24/12/01 06:19:06 WARN org.apache.spark.scheduler.DAGScheduler: Broadcasting large task binary with size 4.2 MiB\n",
      "24/12/01 06:19:07 WARN org.apache.spark.scheduler.DAGScheduler: Broadcasting large task binary with size 4.2 MiB\n",
      "24/12/01 06:19:07 WARN org.apache.spark.scheduler.DAGScheduler: Broadcasting large task binary with size 4.2 MiB\n",
      "24/12/01 06:19:07 WARN org.apache.spark.scheduler.DAGScheduler: Broadcasting large task binary with size 4.2 MiB\n",
      "24/12/01 06:19:15 WARN org.apache.spark.scheduler.DAGScheduler: Broadcasting large task binary with size 4.1 MiB\n",
      "24/12/01 06:19:23 WARN org.apache.spark.scheduler.DAGScheduler: Broadcasting large task binary with size 4.1 MiB\n",
      "24/12/01 06:19:30 WARN org.apache.spark.scheduler.DAGScheduler: Broadcasting large task binary with size 4.1 MiB\n",
      "24/12/01 06:19:33 WARN org.apache.spark.scheduler.DAGScheduler: Broadcasting large task binary with size 5.9 MiB\n",
      "24/12/01 06:19:38 WARN org.apache.spark.scheduler.DAGScheduler: Broadcasting large task binary with size 4.1 MiB\n",
      "24/12/01 06:19:41 WARN org.apache.spark.scheduler.DAGScheduler: Broadcasting large task binary with size 5.9 MiB\n",
      "24/12/01 06:19:45 WARN org.apache.spark.scheduler.DAGScheduler: Broadcasting large task binary with size 4.1 MiB\n",
      "24/12/01 06:19:51 WARN org.apache.spark.scheduler.DAGScheduler: Broadcasting large task binary with size 4.1 MiB\n",
      "24/12/01 06:19:54 WARN org.apache.spark.scheduler.DAGScheduler: Broadcasting large task binary with size 4.2 MiB\n",
      "24/12/01 06:19:55 WARN org.apache.spark.scheduler.DAGScheduler: Broadcasting large task binary with size 4.2 MiB\n",
      "24/12/01 06:19:56 WARN org.apache.spark.scheduler.DAGScheduler: Broadcasting large task binary with size 4.2 MiB\n",
      "24/12/01 06:19:57 WARN org.apache.spark.scheduler.DAGScheduler: Broadcasting large task binary with size 4.2 MiB\n",
      "24/12/01 06:19:57 WARN org.apache.spark.scheduler.DAGScheduler: Broadcasting large task binary with size 4.2 MiB\n",
      "24/12/01 06:19:58 WARN org.apache.spark.scheduler.DAGScheduler: Broadcasting large task binary with size 4.2 MiB\n",
      "24/12/01 06:19:58 WARN org.apache.spark.scheduler.DAGScheduler: Broadcasting large task binary with size 4.2 MiB\n",
      "24/12/01 06:19:58 WARN org.apache.spark.scheduler.DAGScheduler: Broadcasting large task binary with size 4.2 MiB\n",
      "24/12/01 06:19:58 WARN org.apache.spark.scheduler.DAGScheduler: Broadcasting large task binary with size 4.2 MiB\n",
      "24/12/01 06:19:59 WARN org.apache.spark.scheduler.DAGScheduler: Broadcasting large task binary with size 4.2 MiB\n",
      "24/12/01 06:19:59 WARN org.apache.spark.scheduler.DAGScheduler: Broadcasting large task binary with size 4.2 MiB\n",
      "24/12/01 06:19:59 WARN org.apache.spark.scheduler.DAGScheduler: Broadcasting large task binary with size 4.2 MiB\n",
      "24/12/01 06:19:59 WARN org.apache.spark.scheduler.DAGScheduler: Broadcasting large task binary with size 4.2 MiB\n",
      "24/12/01 06:20:00 WARN org.apache.spark.scheduler.DAGScheduler: Broadcasting large task binary with size 4.2 MiB\n",
      "24/12/01 06:20:00 WARN org.apache.spark.scheduler.DAGScheduler: Broadcasting large task binary with size 4.2 MiB\n",
      "24/12/01 06:20:00 WARN org.apache.spark.scheduler.DAGScheduler: Broadcasting large task binary with size 4.2 MiB\n",
      "24/12/01 06:20:00 WARN org.apache.spark.scheduler.DAGScheduler: Broadcasting large task binary with size 4.2 MiB\n",
      "24/12/01 06:20:01 WARN org.apache.spark.scheduler.DAGScheduler: Broadcasting large task binary with size 4.2 MiB\n",
      "24/12/01 06:20:01 WARN org.apache.spark.scheduler.DAGScheduler: Broadcasting large task binary with size 4.2 MiB\n",
      "24/12/01 06:20:01 WARN org.apache.spark.scheduler.DAGScheduler: Broadcasting large task binary with size 4.2 MiB\n",
      "24/12/01 06:20:07 WARN org.apache.spark.scheduler.DAGScheduler: Broadcasting large task binary with size 4.1 MiB\n",
      "24/12/01 06:20:13 WARN org.apache.spark.scheduler.DAGScheduler: Broadcasting large task binary with size 4.1 MiB\n",
      "24/12/01 06:20:19 WARN org.apache.spark.scheduler.DAGScheduler: Broadcasting large task binary with size 4.1 MiB\n",
      "24/12/01 06:20:22 WARN org.apache.spark.scheduler.DAGScheduler: Broadcasting large task binary with size 5.9 MiB\n",
      "24/12/01 06:20:26 WARN org.apache.spark.scheduler.DAGScheduler: Broadcasting large task binary with size 4.1 MiB\n",
      "24/12/01 06:20:29 WARN org.apache.spark.scheduler.DAGScheduler: Broadcasting large task binary with size 5.9 MiB\n",
      "24/12/01 06:20:33 WARN org.apache.spark.scheduler.DAGScheduler: Broadcasting large task binary with size 4.1 MiB\n",
      "24/12/01 06:20:39 WARN org.apache.spark.scheduler.DAGScheduler: Broadcasting large task binary with size 4.1 MiB\n",
      "24/12/01 06:20:43 WARN org.apache.spark.scheduler.DAGScheduler: Broadcasting large task binary with size 4.2 MiB\n",
      "24/12/01 06:20:44 WARN org.apache.spark.scheduler.DAGScheduler: Broadcasting large task binary with size 4.2 MiB\n",
      "24/12/01 06:20:44 WARN org.apache.spark.scheduler.DAGScheduler: Broadcasting large task binary with size 4.2 MiB\n",
      "24/12/01 06:20:45 WARN org.apache.spark.scheduler.DAGScheduler: Broadcasting large task binary with size 4.2 MiB\n",
      "24/12/01 06:20:45 WARN org.apache.spark.scheduler.DAGScheduler: Broadcasting large task binary with size 4.2 MiB\n",
      "24/12/01 06:20:46 WARN org.apache.spark.scheduler.DAGScheduler: Broadcasting large task binary with size 4.2 MiB\n",
      "24/12/01 06:20:46 WARN org.apache.spark.scheduler.DAGScheduler: Broadcasting large task binary with size 4.2 MiB\n",
      "24/12/01 06:20:46 WARN org.apache.spark.scheduler.DAGScheduler: Broadcasting large task binary with size 4.2 MiB\n",
      "24/12/01 06:20:47 WARN org.apache.spark.scheduler.DAGScheduler: Broadcasting large task binary with size 4.2 MiB\n",
      "24/12/01 06:20:47 WARN org.apache.spark.scheduler.DAGScheduler: Broadcasting large task binary with size 4.2 MiB\n",
      "24/12/01 06:20:47 WARN org.apache.spark.scheduler.DAGScheduler: Broadcasting large task binary with size 4.2 MiB\n",
      "24/12/01 06:20:47 WARN org.apache.spark.scheduler.DAGScheduler: Broadcasting large task binary with size 4.2 MiB\n",
      "24/12/01 06:20:47 WARN org.apache.spark.scheduler.DAGScheduler: Broadcasting large task binary with size 4.2 MiB\n",
      "24/12/01 06:20:48 WARN org.apache.spark.scheduler.DAGScheduler: Broadcasting large task binary with size 4.2 MiB\n",
      "24/12/01 06:20:48 WARN org.apache.spark.scheduler.DAGScheduler: Broadcasting large task binary with size 4.2 MiB\n",
      "24/12/01 06:20:48 WARN org.apache.spark.scheduler.DAGScheduler: Broadcasting large task binary with size 4.2 MiB\n",
      "24/12/01 06:20:48 WARN org.apache.spark.scheduler.DAGScheduler: Broadcasting large task binary with size 4.2 MiB\n",
      "24/12/01 06:20:49 WARN org.apache.spark.scheduler.DAGScheduler: Broadcasting large task binary with size 4.2 MiB\n",
      "24/12/01 06:20:52 WARN org.apache.spark.scheduler.DAGScheduler: Broadcasting large task binary with size 4.1 MiB\n",
      "24/12/01 06:20:58 WARN org.apache.spark.scheduler.DAGScheduler: Broadcasting large task binary with size 4.1 MiB\n",
      "24/12/01 06:21:04 WARN org.apache.spark.scheduler.DAGScheduler: Broadcasting large task binary with size 4.1 MiB\n",
      "24/12/01 06:21:07 WARN org.apache.spark.scheduler.DAGScheduler: Broadcasting large task binary with size 5.9 MiB\n",
      "24/12/01 06:21:12 WARN org.apache.spark.scheduler.DAGScheduler: Broadcasting large task binary with size 4.1 MiB\n",
      "24/12/01 06:21:15 WARN org.apache.spark.scheduler.DAGScheduler: Broadcasting large task binary with size 5.9 MiB\n",
      "24/12/01 06:21:19 WARN org.apache.spark.scheduler.DAGScheduler: Broadcasting large task binary with size 4.1 MiB\n",
      "24/12/01 06:21:25 WARN org.apache.spark.scheduler.DAGScheduler: Broadcasting large task binary with size 4.1 MiB\n",
      "24/12/01 06:21:28 WARN org.apache.spark.scheduler.DAGScheduler: Broadcasting large task binary with size 4.2 MiB\n",
      "24/12/01 06:21:29 WARN org.apache.spark.scheduler.DAGScheduler: Broadcasting large task binary with size 4.2 MiB\n",
      "24/12/01 06:21:30 WARN org.apache.spark.scheduler.DAGScheduler: Broadcasting large task binary with size 4.2 MiB\n",
      "24/12/01 06:21:31 WARN org.apache.spark.scheduler.DAGScheduler: Broadcasting large task binary with size 4.2 MiB\n",
      "24/12/01 06:21:31 WARN org.apache.spark.scheduler.DAGScheduler: Broadcasting large task binary with size 4.2 MiB\n",
      "24/12/01 06:21:31 WARN org.apache.spark.scheduler.DAGScheduler: Broadcasting large task binary with size 4.2 MiB\n",
      "24/12/01 06:21:32 WARN org.apache.spark.scheduler.DAGScheduler: Broadcasting large task binary with size 4.2 MiB\n",
      "24/12/01 06:21:32 WARN org.apache.spark.scheduler.DAGScheduler: Broadcasting large task binary with size 4.2 MiB\n",
      "24/12/01 06:21:32 WARN org.apache.spark.scheduler.DAGScheduler: Broadcasting large task binary with size 4.2 MiB\n",
      "24/12/01 06:21:33 WARN org.apache.spark.scheduler.DAGScheduler: Broadcasting large task binary with size 4.2 MiB\n",
      "24/12/01 06:21:33 WARN org.apache.spark.scheduler.DAGScheduler: Broadcasting large task binary with size 4.2 MiB\n",
      "24/12/01 06:21:33 WARN org.apache.spark.scheduler.DAGScheduler: Broadcasting large task binary with size 4.2 MiB\n",
      "24/12/01 06:21:33 WARN org.apache.spark.scheduler.DAGScheduler: Broadcasting large task binary with size 4.2 MiB\n",
      "24/12/01 06:21:34 WARN org.apache.spark.scheduler.DAGScheduler: Broadcasting large task binary with size 4.2 MiB\n",
      "24/12/01 06:21:34 WARN org.apache.spark.scheduler.DAGScheduler: Broadcasting large task binary with size 4.2 MiB\n",
      "24/12/01 06:21:34 WARN org.apache.spark.scheduler.DAGScheduler: Broadcasting large task binary with size 4.2 MiB\n",
      "24/12/01 06:21:34 WARN org.apache.spark.scheduler.DAGScheduler: Broadcasting large task binary with size 4.2 MiB\n",
      "24/12/01 06:21:35 WARN org.apache.spark.scheduler.DAGScheduler: Broadcasting large task binary with size 4.2 MiB\n",
      "24/12/01 06:21:38 WARN org.apache.spark.scheduler.DAGScheduler: Broadcasting large task binary with size 4.1 MiB\n",
      "24/12/01 06:21:44 WARN org.apache.spark.scheduler.DAGScheduler: Broadcasting large task binary with size 4.1 MiB\n",
      "24/12/01 06:21:50 WARN org.apache.spark.scheduler.DAGScheduler: Broadcasting large task binary with size 4.1 MiB\n",
      "24/12/01 06:21:53 WARN org.apache.spark.scheduler.DAGScheduler: Broadcasting large task binary with size 5.9 MiB\n",
      "24/12/01 06:21:57 WARN org.apache.spark.scheduler.DAGScheduler: Broadcasting large task binary with size 4.1 MiB\n",
      "24/12/01 06:22:00 WARN org.apache.spark.scheduler.DAGScheduler: Broadcasting large task binary with size 5.9 MiB\n",
      "24/12/01 06:22:04 WARN org.apache.spark.scheduler.DAGScheduler: Broadcasting large task binary with size 4.1 MiB\n",
      "24/12/01 06:22:10 WARN org.apache.spark.scheduler.DAGScheduler: Broadcasting large task binary with size 4.1 MiB\n",
      "24/12/01 06:22:13 WARN org.apache.spark.scheduler.DAGScheduler: Broadcasting large task binary with size 4.2 MiB\n",
      "24/12/01 06:22:14 WARN org.apache.spark.scheduler.DAGScheduler: Broadcasting large task binary with size 4.2 MiB\n",
      "24/12/01 06:22:15 WARN org.apache.spark.scheduler.DAGScheduler: Broadcasting large task binary with size 4.2 MiB\n",
      "24/12/01 06:22:16 WARN org.apache.spark.scheduler.DAGScheduler: Broadcasting large task binary with size 4.2 MiB\n",
      "24/12/01 06:22:16 WARN org.apache.spark.scheduler.DAGScheduler: Broadcasting large task binary with size 4.2 MiB\n",
      "24/12/01 06:22:16 WARN org.apache.spark.scheduler.DAGScheduler: Broadcasting large task binary with size 4.2 MiB\n",
      "24/12/01 06:22:17 WARN org.apache.spark.scheduler.DAGScheduler: Broadcasting large task binary with size 4.2 MiB\n",
      "24/12/01 06:22:17 WARN org.apache.spark.scheduler.DAGScheduler: Broadcasting large task binary with size 4.2 MiB\n",
      "24/12/01 06:22:17 WARN org.apache.spark.scheduler.DAGScheduler: Broadcasting large task binary with size 4.2 MiB\n",
      "24/12/01 06:22:18 WARN org.apache.spark.scheduler.DAGScheduler: Broadcasting large task binary with size 4.2 MiB\n",
      "24/12/01 06:22:18 WARN org.apache.spark.scheduler.DAGScheduler: Broadcasting large task binary with size 4.2 MiB\n",
      "24/12/01 06:22:18 WARN org.apache.spark.scheduler.DAGScheduler: Broadcasting large task binary with size 4.2 MiB\n",
      "24/12/01 06:22:18 WARN org.apache.spark.scheduler.DAGScheduler: Broadcasting large task binary with size 4.2 MiB\n",
      "24/12/01 06:22:18 WARN org.apache.spark.scheduler.DAGScheduler: Broadcasting large task binary with size 4.2 MiB\n",
      "24/12/01 06:22:19 WARN org.apache.spark.scheduler.DAGScheduler: Broadcasting large task binary with size 4.2 MiB\n",
      "24/12/01 06:22:19 WARN org.apache.spark.scheduler.DAGScheduler: Broadcasting large task binary with size 4.2 MiB\n",
      "24/12/01 06:22:19 WARN org.apache.spark.scheduler.DAGScheduler: Broadcasting large task binary with size 4.2 MiB\n",
      "24/12/01 06:22:19 WARN org.apache.spark.scheduler.DAGScheduler: Broadcasting large task binary with size 4.2 MiB\n",
      "24/12/01 06:22:20 WARN org.apache.spark.scheduler.DAGScheduler: Broadcasting large task binary with size 4.2 MiB\n",
      "24/12/01 06:22:20 WARN org.apache.spark.scheduler.DAGScheduler: Broadcasting large task binary with size 4.2 MiB\n",
      "24/12/01 06:22:20 WARN org.apache.spark.scheduler.DAGScheduler: Broadcasting large task binary with size 4.2 MiB\n",
      "24/12/01 06:22:20 WARN org.apache.spark.scheduler.DAGScheduler: Broadcasting large task binary with size 4.2 MiB\n",
      "24/12/01 06:22:23 WARN org.apache.spark.scheduler.DAGScheduler: Broadcasting large task binary with size 4.1 MiB\n",
      "24/12/01 06:22:29 WARN org.apache.spark.scheduler.DAGScheduler: Broadcasting large task binary with size 4.1 MiB\n",
      "24/12/01 06:22:35 WARN org.apache.spark.scheduler.DAGScheduler: Broadcasting large task binary with size 4.1 MiB\n",
      "24/12/01 06:22:38 WARN org.apache.spark.scheduler.DAGScheduler: Broadcasting large task binary with size 5.9 MiB\n",
      "24/12/01 06:22:44 WARN org.apache.spark.scheduler.DAGScheduler: Broadcasting large task binary with size 4.1 MiB\n",
      "24/12/01 06:22:47 WARN org.apache.spark.scheduler.DAGScheduler: Broadcasting large task binary with size 5.9 MiB\n",
      "24/12/01 06:22:51 WARN org.apache.spark.scheduler.DAGScheduler: Broadcasting large task binary with size 4.1 MiB\n",
      "24/12/01 06:22:56 WARN org.apache.spark.scheduler.DAGScheduler: Broadcasting large task binary with size 4.1 MiB\n",
      "24/12/01 06:23:00 WARN org.apache.spark.scheduler.DAGScheduler: Broadcasting large task binary with size 4.2 MiB\n",
      "24/12/01 06:23:01 WARN org.apache.spark.scheduler.DAGScheduler: Broadcasting large task binary with size 4.2 MiB\n",
      "24/12/01 06:23:01 WARN org.apache.spark.scheduler.DAGScheduler: Broadcasting large task binary with size 4.2 MiB\n",
      "24/12/01 06:23:02 WARN org.apache.spark.scheduler.DAGScheduler: Broadcasting large task binary with size 4.2 MiB\n",
      "24/12/01 06:23:03 WARN org.apache.spark.scheduler.DAGScheduler: Broadcasting large task binary with size 4.2 MiB\n",
      "24/12/01 06:23:03 WARN org.apache.spark.scheduler.DAGScheduler: Broadcasting large task binary with size 4.2 MiB\n",
      "24/12/01 06:23:03 WARN org.apache.spark.scheduler.DAGScheduler: Broadcasting large task binary with size 4.2 MiB\n",
      "24/12/01 06:23:04 WARN org.apache.spark.scheduler.DAGScheduler: Broadcasting large task binary with size 4.2 MiB\n",
      "24/12/01 06:23:04 WARN org.apache.spark.scheduler.DAGScheduler: Broadcasting large task binary with size 4.2 MiB\n",
      "24/12/01 06:23:04 WARN org.apache.spark.scheduler.DAGScheduler: Broadcasting large task binary with size 4.2 MiB\n",
      "24/12/01 06:23:04 WARN org.apache.spark.scheduler.DAGScheduler: Broadcasting large task binary with size 4.2 MiB\n",
      "24/12/01 06:23:05 WARN org.apache.spark.scheduler.DAGScheduler: Broadcasting large task binary with size 4.2 MiB\n",
      "24/12/01 06:23:05 WARN org.apache.spark.scheduler.DAGScheduler: Broadcasting large task binary with size 4.2 MiB\n",
      "24/12/01 06:23:05 WARN org.apache.spark.scheduler.DAGScheduler: Broadcasting large task binary with size 4.2 MiB\n",
      "24/12/01 06:23:05 WARN org.apache.spark.scheduler.DAGScheduler: Broadcasting large task binary with size 4.2 MiB\n",
      "24/12/01 06:23:06 WARN org.apache.spark.scheduler.DAGScheduler: Broadcasting large task binary with size 4.2 MiB\n",
      "24/12/01 06:23:06 WARN org.apache.spark.scheduler.DAGScheduler: Broadcasting large task binary with size 4.2 MiB\n",
      "24/12/01 06:23:06 WARN org.apache.spark.scheduler.DAGScheduler: Broadcasting large task binary with size 4.2 MiB\n",
      "24/12/01 06:23:09 WARN org.apache.spark.scheduler.DAGScheduler: Broadcasting large task binary with size 4.1 MiB\n",
      "24/12/01 06:23:21 WARN org.apache.spark.scheduler.DAGScheduler: Broadcasting large task binary with size 4.1 MiB\n",
      "24/12/01 06:23:27 WARN org.apache.spark.scheduler.DAGScheduler: Broadcasting large task binary with size 4.1 MiB\n",
      "24/12/01 06:23:35 WARN org.apache.spark.scheduler.DAGScheduler: Broadcasting large task binary with size 5.9 MiB\n",
      "24/12/01 06:23:46 WARN org.apache.spark.scheduler.DAGScheduler: Broadcasting large task binary with size 4.1 MiB\n",
      "24/12/01 06:23:49 WARN org.apache.spark.scheduler.DAGScheduler: Broadcasting large task binary with size 5.9 MiB\n",
      "24/12/01 06:23:53 WARN org.apache.spark.scheduler.DAGScheduler: Broadcasting large task binary with size 4.1 MiB\n",
      "24/12/01 06:23:59 WARN org.apache.spark.scheduler.DAGScheduler: Broadcasting large task binary with size 4.1 MiB\n",
      "24/12/01 06:24:02 WARN org.apache.spark.scheduler.DAGScheduler: Broadcasting large task binary with size 4.2 MiB\n",
      "24/12/01 06:24:03 WARN org.apache.spark.scheduler.DAGScheduler: Broadcasting large task binary with size 4.2 MiB\n",
      "24/12/01 06:24:03 WARN org.apache.spark.scheduler.DAGScheduler: Broadcasting large task binary with size 4.2 MiB\n",
      "24/12/01 06:24:04 WARN org.apache.spark.scheduler.DAGScheduler: Broadcasting large task binary with size 4.2 MiB\n",
      "24/12/01 06:24:05 WARN org.apache.spark.scheduler.DAGScheduler: Broadcasting large task binary with size 4.2 MiB\n",
      "24/12/01 06:24:05 WARN org.apache.spark.scheduler.DAGScheduler: Broadcasting large task binary with size 4.2 MiB\n",
      "24/12/01 06:24:05 WARN org.apache.spark.scheduler.DAGScheduler: Broadcasting large task binary with size 4.2 MiB\n",
      "24/12/01 06:24:06 WARN org.apache.spark.scheduler.DAGScheduler: Broadcasting large task binary with size 4.2 MiB\n",
      "24/12/01 06:24:06 WARN org.apache.spark.scheduler.DAGScheduler: Broadcasting large task binary with size 4.2 MiB\n",
      "24/12/01 06:24:06 WARN org.apache.spark.scheduler.DAGScheduler: Broadcasting large task binary with size 4.2 MiB\n",
      "24/12/01 06:24:06 WARN org.apache.spark.scheduler.DAGScheduler: Broadcasting large task binary with size 4.2 MiB\n",
      "24/12/01 06:24:06 WARN org.apache.spark.scheduler.DAGScheduler: Broadcasting large task binary with size 4.2 MiB\n",
      "24/12/01 06:24:07 WARN org.apache.spark.scheduler.DAGScheduler: Broadcasting large task binary with size 4.2 MiB\n",
      "24/12/01 06:24:07 WARN org.apache.spark.scheduler.DAGScheduler: Broadcasting large task binary with size 4.2 MiB\n",
      "24/12/01 06:24:07 WARN org.apache.spark.scheduler.DAGScheduler: Broadcasting large task binary with size 4.2 MiB\n",
      "24/12/01 06:24:07 WARN org.apache.spark.scheduler.DAGScheduler: Broadcasting large task binary with size 4.2 MiB\n",
      "24/12/01 06:24:08 WARN org.apache.spark.scheduler.DAGScheduler: Broadcasting large task binary with size 4.2 MiB\n",
      "24/12/01 06:24:08 WARN org.apache.spark.scheduler.DAGScheduler: Broadcasting large task binary with size 4.2 MiB\n",
      "24/12/01 06:24:11 WARN org.apache.spark.scheduler.DAGScheduler: Broadcasting large task binary with size 4.1 MiB\n",
      "24/12/01 06:24:16 WARN org.apache.spark.scheduler.DAGScheduler: Broadcasting large task binary with size 4.1 MiB\n",
      "24/12/01 06:24:24 WARN org.apache.spark.scheduler.DAGScheduler: Broadcasting large task binary with size 4.1 MiB\n",
      "24/12/01 06:24:27 WARN org.apache.spark.scheduler.DAGScheduler: Broadcasting large task binary with size 5.9 MiB\n",
      "24/12/01 06:24:31 WARN org.apache.spark.scheduler.DAGScheduler: Broadcasting large task binary with size 4.1 MiB\n",
      "24/12/01 06:24:33 WARN org.apache.spark.scheduler.DAGScheduler: Broadcasting large task binary with size 5.9 MiB\n",
      "24/12/01 06:24:37 WARN org.apache.spark.scheduler.DAGScheduler: Broadcasting large task binary with size 4.1 MiB\n",
      "24/12/01 06:24:42 WARN org.apache.spark.scheduler.DAGScheduler: Broadcasting large task binary with size 4.1 MiB\n",
      "24/12/01 06:24:45 WARN org.apache.spark.scheduler.DAGScheduler: Broadcasting large task binary with size 4.2 MiB\n",
      "24/12/01 06:24:46 WARN org.apache.spark.scheduler.DAGScheduler: Broadcasting large task binary with size 4.2 MiB\n",
      "24/12/01 06:24:47 WARN org.apache.spark.scheduler.DAGScheduler: Broadcasting large task binary with size 4.2 MiB\n",
      "24/12/01 06:24:48 WARN org.apache.spark.scheduler.DAGScheduler: Broadcasting large task binary with size 4.2 MiB\n",
      "24/12/01 06:24:48 WARN org.apache.spark.scheduler.DAGScheduler: Broadcasting large task binary with size 4.2 MiB\n",
      "24/12/01 06:24:48 WARN org.apache.spark.scheduler.DAGScheduler: Broadcasting large task binary with size 4.2 MiB\n",
      "24/12/01 06:24:49 WARN org.apache.spark.scheduler.DAGScheduler: Broadcasting large task binary with size 4.2 MiB\n",
      "24/12/01 06:24:49 WARN org.apache.spark.scheduler.DAGScheduler: Broadcasting large task binary with size 4.2 MiB\n",
      "24/12/01 06:24:49 WARN org.apache.spark.scheduler.DAGScheduler: Broadcasting large task binary with size 4.2 MiB\n",
      "24/12/01 06:24:49 WARN org.apache.spark.scheduler.DAGScheduler: Broadcasting large task binary with size 4.2 MiB\n",
      "24/12/01 06:24:50 WARN org.apache.spark.scheduler.DAGScheduler: Broadcasting large task binary with size 4.2 MiB\n",
      "24/12/01 06:24:50 WARN org.apache.spark.scheduler.DAGScheduler: Broadcasting large task binary with size 4.2 MiB\n",
      "24/12/01 06:24:50 WARN org.apache.spark.scheduler.DAGScheduler: Broadcasting large task binary with size 4.2 MiB\n",
      "24/12/01 06:24:50 WARN org.apache.spark.scheduler.DAGScheduler: Broadcasting large task binary with size 4.2 MiB\n",
      "24/12/01 06:24:51 WARN org.apache.spark.scheduler.DAGScheduler: Broadcasting large task binary with size 4.2 MiB\n",
      "24/12/01 06:24:51 WARN org.apache.spark.scheduler.DAGScheduler: Broadcasting large task binary with size 4.2 MiB\n",
      "24/12/01 06:24:51 WARN org.apache.spark.scheduler.DAGScheduler: Broadcasting large task binary with size 4.2 MiB\n",
      "24/12/01 06:24:51 WARN org.apache.spark.scheduler.DAGScheduler: Broadcasting large task binary with size 4.2 MiB\n",
      "24/12/01 06:24:54 WARN org.apache.spark.scheduler.DAGScheduler: Broadcasting large task binary with size 4.1 MiB\n",
      "24/12/01 06:25:00 WARN org.apache.spark.scheduler.DAGScheduler: Broadcasting large task binary with size 4.1 MiB\n",
      "24/12/01 06:25:05 WARN org.apache.spark.scheduler.DAGScheduler: Broadcasting large task binary with size 4.1 MiB\n",
      "24/12/01 06:25:08 WARN org.apache.spark.scheduler.DAGScheduler: Broadcasting large task binary with size 5.9 MiB\n",
      "24/12/01 06:25:12 WARN org.apache.spark.scheduler.DAGScheduler: Broadcasting large task binary with size 4.1 MiB\n",
      "24/12/01 06:25:14 WARN org.apache.spark.scheduler.DAGScheduler: Broadcasting large task binary with size 5.9 MiB\n",
      "24/12/01 06:25:18 WARN org.apache.spark.scheduler.DAGScheduler: Broadcasting large task binary with size 4.1 MiB\n",
      "24/12/01 06:25:23 WARN org.apache.spark.scheduler.DAGScheduler: Broadcasting large task binary with size 4.1 MiB\n",
      "24/12/01 06:25:26 WARN org.apache.spark.scheduler.DAGScheduler: Broadcasting large task binary with size 4.2 MiB\n",
      "24/12/01 06:25:27 WARN org.apache.spark.scheduler.DAGScheduler: Broadcasting large task binary with size 4.2 MiB\n",
      "24/12/01 06:25:28 WARN org.apache.spark.scheduler.DAGScheduler: Broadcasting large task binary with size 4.2 MiB\n",
      "24/12/01 06:25:29 WARN org.apache.spark.scheduler.DAGScheduler: Broadcasting large task binary with size 4.2 MiB\n",
      "24/12/01 06:25:29 WARN org.apache.spark.scheduler.DAGScheduler: Broadcasting large task binary with size 4.2 MiB\n",
      "24/12/01 06:25:29 WARN org.apache.spark.scheduler.DAGScheduler: Broadcasting large task binary with size 4.2 MiB\n",
      "24/12/01 06:25:30 WARN org.apache.spark.scheduler.DAGScheduler: Broadcasting large task binary with size 4.2 MiB\n",
      "24/12/01 06:25:30 WARN org.apache.spark.scheduler.DAGScheduler: Broadcasting large task binary with size 4.2 MiB\n",
      "24/12/01 06:25:30 WARN org.apache.spark.scheduler.DAGScheduler: Broadcasting large task binary with size 4.2 MiB\n",
      "24/12/01 06:25:31 WARN org.apache.spark.scheduler.DAGScheduler: Broadcasting large task binary with size 4.2 MiB\n",
      "24/12/01 06:25:31 WARN org.apache.spark.scheduler.DAGScheduler: Broadcasting large task binary with size 4.2 MiB\n",
      "24/12/01 06:25:31 WARN org.apache.spark.scheduler.DAGScheduler: Broadcasting large task binary with size 4.2 MiB\n",
      "24/12/01 06:25:31 WARN org.apache.spark.scheduler.DAGScheduler: Broadcasting large task binary with size 4.2 MiB\n",
      "24/12/01 06:25:32 WARN org.apache.spark.scheduler.DAGScheduler: Broadcasting large task binary with size 4.2 MiB\n",
      "24/12/01 06:25:32 WARN org.apache.spark.scheduler.DAGScheduler: Broadcasting large task binary with size 4.2 MiB\n",
      "24/12/01 06:25:32 WARN org.apache.spark.scheduler.DAGScheduler: Broadcasting large task binary with size 4.2 MiB\n",
      "24/12/01 06:25:32 WARN org.apache.spark.scheduler.DAGScheduler: Broadcasting large task binary with size 4.2 MiB\n",
      "24/12/01 06:25:33 WARN org.apache.spark.scheduler.DAGScheduler: Broadcasting large task binary with size 4.2 MiB\n",
      "24/12/01 06:25:36 WARN org.apache.spark.scheduler.DAGScheduler: Broadcasting large task binary with size 4.1 MiB\n",
      "24/12/01 06:25:44 WARN org.apache.spark.scheduler.DAGScheduler: Broadcasting large task binary with size 4.1 MiB\n",
      "24/12/01 06:25:50 WARN org.apache.spark.scheduler.DAGScheduler: Broadcasting large task binary with size 4.1 MiB\n",
      "24/12/01 06:25:52 WARN org.apache.spark.scheduler.DAGScheduler: Broadcasting large task binary with size 5.9 MiB\n",
      "24/12/01 06:25:56 WARN org.apache.spark.scheduler.DAGScheduler: Broadcasting large task binary with size 4.1 MiB\n",
      "24/12/01 06:25:59 WARN org.apache.spark.scheduler.DAGScheduler: Broadcasting large task binary with size 5.9 MiB\n",
      "24/12/01 06:26:03 WARN org.apache.spark.scheduler.DAGScheduler: Broadcasting large task binary with size 4.1 MiB\n",
      "24/12/01 06:26:08 WARN org.apache.spark.scheduler.DAGScheduler: Broadcasting large task binary with size 4.1 MiB\n",
      "24/12/01 06:26:11 WARN org.apache.spark.scheduler.DAGScheduler: Broadcasting large task binary with size 4.2 MiB\n",
      "24/12/01 06:26:12 WARN org.apache.spark.scheduler.DAGScheduler: Broadcasting large task binary with size 4.2 MiB\n",
      "24/12/01 06:26:12 WARN org.apache.spark.scheduler.DAGScheduler: Broadcasting large task binary with size 4.2 MiB\n",
      "24/12/01 06:26:13 WARN org.apache.spark.scheduler.DAGScheduler: Broadcasting large task binary with size 4.2 MiB\n",
      "24/12/01 06:26:14 WARN org.apache.spark.scheduler.DAGScheduler: Broadcasting large task binary with size 4.2 MiB\n",
      "24/12/01 06:26:14 WARN org.apache.spark.scheduler.DAGScheduler: Broadcasting large task binary with size 4.2 MiB\n",
      "24/12/01 06:26:14 WARN org.apache.spark.scheduler.DAGScheduler: Broadcasting large task binary with size 4.2 MiB\n",
      "24/12/01 06:26:15 WARN org.apache.spark.scheduler.DAGScheduler: Broadcasting large task binary with size 4.2 MiB\n",
      "24/12/01 06:26:15 WARN org.apache.spark.scheduler.DAGScheduler: Broadcasting large task binary with size 4.2 MiB\n",
      "24/12/01 06:26:15 WARN org.apache.spark.scheduler.DAGScheduler: Broadcasting large task binary with size 4.2 MiB\n",
      "24/12/01 06:26:15 WARN org.apache.spark.scheduler.DAGScheduler: Broadcasting large task binary with size 4.2 MiB\n",
      "24/12/01 06:26:16 WARN org.apache.spark.scheduler.DAGScheduler: Broadcasting large task binary with size 4.2 MiB\n",
      "24/12/01 06:26:16 WARN org.apache.spark.scheduler.DAGScheduler: Broadcasting large task binary with size 4.2 MiB\n",
      "24/12/01 06:26:16 WARN org.apache.spark.scheduler.DAGScheduler: Broadcasting large task binary with size 4.2 MiB\n",
      "24/12/01 06:26:16 WARN org.apache.spark.scheduler.DAGScheduler: Broadcasting large task binary with size 4.2 MiB\n",
      "24/12/01 06:26:17 WARN org.apache.spark.scheduler.DAGScheduler: Broadcasting large task binary with size 4.2 MiB\n",
      "24/12/01 06:26:17 WARN org.apache.spark.scheduler.DAGScheduler: Broadcasting large task binary with size 4.2 MiB\n",
      "24/12/01 06:26:17 WARN org.apache.spark.scheduler.DAGScheduler: Broadcasting large task binary with size 4.2 MiB\n",
      "24/12/01 06:26:20 WARN org.apache.spark.scheduler.DAGScheduler: Broadcasting large task binary with size 4.1 MiB\n",
      "24/12/01 06:26:27 WARN org.apache.spark.scheduler.DAGScheduler: Broadcasting large task binary with size 4.1 MiB\n",
      "24/12/01 06:26:32 WARN org.apache.spark.scheduler.DAGScheduler: Broadcasting large task binary with size 4.1 MiB\n",
      "24/12/01 06:26:35 WARN org.apache.spark.scheduler.DAGScheduler: Broadcasting large task binary with size 5.9 MiB\n",
      "24/12/01 06:26:39 WARN org.apache.spark.scheduler.DAGScheduler: Broadcasting large task binary with size 4.1 MiB\n",
      "24/12/01 06:26:42 WARN org.apache.spark.scheduler.DAGScheduler: Broadcasting large task binary with size 5.9 MiB\n",
      "24/12/01 06:26:45 WARN org.apache.spark.scheduler.DAGScheduler: Broadcasting large task binary with size 4.1 MiB\n",
      "24/12/01 06:26:51 WARN org.apache.spark.scheduler.DAGScheduler: Broadcasting large task binary with size 4.1 MiB\n",
      "24/12/01 06:26:54 WARN org.apache.spark.scheduler.DAGScheduler: Broadcasting large task binary with size 4.2 MiB\n",
      "24/12/01 06:26:55 WARN org.apache.spark.scheduler.DAGScheduler: Broadcasting large task binary with size 4.2 MiB\n",
      "24/12/01 06:26:55 WARN org.apache.spark.scheduler.DAGScheduler: Broadcasting large task binary with size 4.2 MiB\n",
      "24/12/01 06:26:56 WARN org.apache.spark.scheduler.DAGScheduler: Broadcasting large task binary with size 4.2 MiB\n",
      "24/12/01 06:26:56 WARN org.apache.spark.scheduler.DAGScheduler: Broadcasting large task binary with size 4.2 MiB\n",
      "24/12/01 06:26:56 WARN org.apache.spark.scheduler.DAGScheduler: Broadcasting large task binary with size 4.2 MiB\n",
      "24/12/01 06:26:57 WARN org.apache.spark.scheduler.DAGScheduler: Broadcasting large task binary with size 4.2 MiB\n",
      "24/12/01 06:26:57 WARN org.apache.spark.scheduler.DAGScheduler: Broadcasting large task binary with size 4.2 MiB\n",
      "24/12/01 06:26:57 WARN org.apache.spark.scheduler.DAGScheduler: Broadcasting large task binary with size 4.2 MiB\n",
      "24/12/01 06:26:57 WARN org.apache.spark.scheduler.DAGScheduler: Broadcasting large task binary with size 4.2 MiB\n",
      "24/12/01 06:26:58 WARN org.apache.spark.scheduler.DAGScheduler: Broadcasting large task binary with size 4.2 MiB\n",
      "24/12/01 06:26:58 WARN org.apache.spark.scheduler.DAGScheduler: Broadcasting large task binary with size 4.2 MiB\n",
      "24/12/01 06:26:58 WARN org.apache.spark.scheduler.DAGScheduler: Broadcasting large task binary with size 4.2 MiB\n",
      "24/12/01 06:26:58 WARN org.apache.spark.scheduler.DAGScheduler: Broadcasting large task binary with size 4.2 MiB\n",
      "24/12/01 06:26:58 WARN org.apache.spark.scheduler.DAGScheduler: Broadcasting large task binary with size 4.2 MiB\n",
      "24/12/01 06:26:59 WARN org.apache.spark.scheduler.DAGScheduler: Broadcasting large task binary with size 4.2 MiB\n",
      "24/12/01 06:26:59 WARN org.apache.spark.scheduler.DAGScheduler: Broadcasting large task binary with size 4.2 MiB\n",
      "24/12/01 06:26:59 WARN org.apache.spark.scheduler.DAGScheduler: Broadcasting large task binary with size 4.2 MiB\n",
      "24/12/01 06:27:02 WARN org.apache.spark.scheduler.DAGScheduler: Broadcasting large task binary with size 4.1 MiB\n",
      "24/12/01 06:27:07 WARN org.apache.spark.scheduler.DAGScheduler: Broadcasting large task binary with size 4.1 MiB\n",
      "24/12/01 06:27:13 WARN org.apache.spark.scheduler.DAGScheduler: Broadcasting large task binary with size 4.1 MiB\n",
      "24/12/01 06:27:16 WARN org.apache.spark.scheduler.DAGScheduler: Broadcasting large task binary with size 5.9 MiB\n",
      "24/12/01 06:27:20 WARN org.apache.spark.scheduler.DAGScheduler: Broadcasting large task binary with size 4.1 MiB\n",
      "24/12/01 06:27:23 WARN org.apache.spark.scheduler.DAGScheduler: Broadcasting large task binary with size 5.9 MiB\n",
      "24/12/01 06:27:27 WARN org.apache.spark.scheduler.DAGScheduler: Broadcasting large task binary with size 4.1 MiB\n",
      "24/12/01 06:27:32 WARN org.apache.spark.scheduler.DAGScheduler: Broadcasting large task binary with size 4.1 MiB\n",
      "24/12/01 06:27:34 WARN org.apache.spark.scheduler.DAGScheduler: Broadcasting large task binary with size 4.2 MiB\n",
      "24/12/01 06:27:35 WARN org.apache.spark.scheduler.DAGScheduler: Broadcasting large task binary with size 4.2 MiB\n",
      "24/12/01 06:27:36 WARN org.apache.spark.scheduler.DAGScheduler: Broadcasting large task binary with size 4.2 MiB\n",
      "24/12/01 06:27:37 WARN org.apache.spark.scheduler.DAGScheduler: Broadcasting large task binary with size 4.2 MiB\n",
      "24/12/01 06:27:37 WARN org.apache.spark.scheduler.DAGScheduler: Broadcasting large task binary with size 4.2 MiB\n",
      "24/12/01 06:27:37 WARN org.apache.spark.scheduler.DAGScheduler: Broadcasting large task binary with size 4.2 MiB\n",
      "24/12/01 06:27:37 WARN org.apache.spark.scheduler.DAGScheduler: Broadcasting large task binary with size 4.2 MiB\n",
      "24/12/01 06:27:38 WARN org.apache.spark.scheduler.DAGScheduler: Broadcasting large task binary with size 4.2 MiB\n",
      "24/12/01 06:27:38 WARN org.apache.spark.scheduler.DAGScheduler: Broadcasting large task binary with size 4.2 MiB\n",
      "24/12/01 06:27:38 WARN org.apache.spark.scheduler.DAGScheduler: Broadcasting large task binary with size 4.2 MiB\n",
      "24/12/01 06:27:38 WARN org.apache.spark.scheduler.DAGScheduler: Broadcasting large task binary with size 4.2 MiB\n",
      "24/12/01 06:27:39 WARN org.apache.spark.scheduler.DAGScheduler: Broadcasting large task binary with size 4.2 MiB\n",
      "24/12/01 06:27:39 WARN org.apache.spark.scheduler.DAGScheduler: Broadcasting large task binary with size 4.2 MiB\n",
      "24/12/01 06:27:39 WARN org.apache.spark.scheduler.DAGScheduler: Broadcasting large task binary with size 4.2 MiB\n",
      "24/12/01 06:27:39 WARN org.apache.spark.scheduler.DAGScheduler: Broadcasting large task binary with size 4.2 MiB\n",
      "24/12/01 06:27:40 WARN org.apache.spark.scheduler.DAGScheduler: Broadcasting large task binary with size 4.2 MiB\n",
      "24/12/01 06:27:40 WARN org.apache.spark.scheduler.DAGScheduler: Broadcasting large task binary with size 4.2 MiB\n",
      "24/12/01 06:27:40 WARN org.apache.spark.scheduler.DAGScheduler: Broadcasting large task binary with size 4.2 MiB\n",
      "24/12/01 06:27:40 WARN org.apache.spark.scheduler.DAGScheduler: Broadcasting large task binary with size 4.2 MiB\n",
      "24/12/01 06:27:41 WARN org.apache.spark.scheduler.DAGScheduler: Broadcasting large task binary with size 4.2 MiB\n",
      "24/12/01 06:27:41 WARN org.apache.spark.scheduler.DAGScheduler: Broadcasting large task binary with size 4.2 MiB\n",
      "24/12/01 06:27:41 WARN org.apache.spark.scheduler.DAGScheduler: Broadcasting large task binary with size 4.2 MiB\n",
      "24/12/01 06:27:44 WARN org.apache.spark.scheduler.DAGScheduler: Broadcasting large task binary with size 4.1 MiB\n",
      "24/12/01 06:27:49 WARN org.apache.spark.scheduler.DAGScheduler: Broadcasting large task binary with size 4.1 MiB\n",
      "24/12/01 06:27:55 WARN org.apache.spark.scheduler.DAGScheduler: Broadcasting large task binary with size 4.1 MiB\n",
      "24/12/01 06:27:58 WARN org.apache.spark.scheduler.DAGScheduler: Broadcasting large task binary with size 5.9 MiB\n",
      "24/12/01 06:28:01 WARN org.apache.spark.scheduler.DAGScheduler: Broadcasting large task binary with size 4.1 MiB\n",
      "24/12/01 06:28:04 WARN org.apache.spark.scheduler.DAGScheduler: Broadcasting large task binary with size 5.9 MiB\n",
      "24/12/01 06:28:08 WARN org.apache.spark.scheduler.DAGScheduler: Broadcasting large task binary with size 4.1 MiB\n",
      "24/12/01 06:28:13 WARN org.apache.spark.scheduler.DAGScheduler: Broadcasting large task binary with size 4.1 MiB\n",
      "24/12/01 06:28:16 WARN org.apache.spark.scheduler.DAGScheduler: Broadcasting large task binary with size 4.2 MiB\n",
      "24/12/01 06:28:17 WARN org.apache.spark.scheduler.DAGScheduler: Broadcasting large task binary with size 4.2 MiB\n",
      "24/12/01 06:28:18 WARN org.apache.spark.scheduler.DAGScheduler: Broadcasting large task binary with size 4.2 MiB\n",
      "24/12/01 06:28:19 WARN org.apache.spark.scheduler.DAGScheduler: Broadcasting large task binary with size 4.2 MiB\n",
      "24/12/01 06:28:19 WARN org.apache.spark.scheduler.DAGScheduler: Broadcasting large task binary with size 4.2 MiB\n",
      "24/12/01 06:28:19 WARN org.apache.spark.scheduler.DAGScheduler: Broadcasting large task binary with size 4.2 MiB\n",
      "24/12/01 06:28:19 WARN org.apache.spark.scheduler.DAGScheduler: Broadcasting large task binary with size 4.2 MiB\n",
      "24/12/01 06:28:20 WARN org.apache.spark.scheduler.DAGScheduler: Broadcasting large task binary with size 4.2 MiB\n",
      "24/12/01 06:28:20 WARN org.apache.spark.scheduler.DAGScheduler: Broadcasting large task binary with size 4.2 MiB\n",
      "24/12/01 06:28:20 WARN org.apache.spark.scheduler.DAGScheduler: Broadcasting large task binary with size 4.2 MiB\n",
      "24/12/01 06:28:20 WARN org.apache.spark.scheduler.DAGScheduler: Broadcasting large task binary with size 4.2 MiB\n",
      "24/12/01 06:28:20 WARN org.apache.spark.scheduler.DAGScheduler: Broadcasting large task binary with size 4.2 MiB\n",
      "24/12/01 06:28:21 WARN org.apache.spark.scheduler.DAGScheduler: Broadcasting large task binary with size 4.2 MiB\n",
      "24/12/01 06:28:21 WARN org.apache.spark.scheduler.DAGScheduler: Broadcasting large task binary with size 4.2 MiB\n",
      "24/12/01 06:28:21 WARN org.apache.spark.scheduler.DAGScheduler: Broadcasting large task binary with size 4.2 MiB\n",
      "24/12/01 06:28:21 WARN org.apache.spark.scheduler.DAGScheduler: Broadcasting large task binary with size 4.2 MiB\n",
      "24/12/01 06:28:22 WARN org.apache.spark.scheduler.DAGScheduler: Broadcasting large task binary with size 4.2 MiB\n",
      "24/12/01 06:28:22 WARN org.apache.spark.scheduler.DAGScheduler: Broadcasting large task binary with size 4.2 MiB\n",
      "24/12/01 06:28:25 WARN org.apache.spark.scheduler.DAGScheduler: Broadcasting large task binary with size 4.1 MiB\n",
      "24/12/01 06:28:30 WARN org.apache.spark.scheduler.DAGScheduler: Broadcasting large task binary with size 4.1 MiB\n",
      "24/12/01 06:28:36 WARN org.apache.spark.scheduler.DAGScheduler: Broadcasting large task binary with size 4.1 MiB\n",
      "24/12/01 06:28:39 WARN org.apache.spark.scheduler.DAGScheduler: Broadcasting large task binary with size 5.9 MiB\n",
      "24/12/01 06:28:42 WARN org.apache.spark.scheduler.DAGScheduler: Broadcasting large task binary with size 4.1 MiB\n",
      "24/12/01 06:28:45 WARN org.apache.spark.scheduler.DAGScheduler: Broadcasting large task binary with size 5.9 MiB\n",
      "24/12/01 06:28:49 WARN org.apache.spark.scheduler.DAGScheduler: Broadcasting large task binary with size 4.1 MiB\n",
      "24/12/01 06:28:55 WARN org.apache.spark.scheduler.DAGScheduler: Broadcasting large task binary with size 4.1 MiB\n",
      "24/12/01 06:28:58 WARN org.apache.spark.scheduler.DAGScheduler: Broadcasting large task binary with size 4.2 MiB\n",
      "24/12/01 06:28:59 WARN org.apache.spark.scheduler.DAGScheduler: Broadcasting large task binary with size 4.2 MiB\n",
      "24/12/01 06:28:59 WARN org.apache.spark.scheduler.DAGScheduler: Broadcasting large task binary with size 4.2 MiB\n",
      "24/12/01 06:29:00 WARN org.apache.spark.scheduler.DAGScheduler: Broadcasting large task binary with size 4.2 MiB\n",
      "24/12/01 06:29:00 WARN org.apache.spark.scheduler.DAGScheduler: Broadcasting large task binary with size 4.2 MiB\n",
      "24/12/01 06:29:00 WARN org.apache.spark.scheduler.DAGScheduler: Broadcasting large task binary with size 4.2 MiB\n",
      "24/12/01 06:29:01 WARN org.apache.spark.scheduler.DAGScheduler: Broadcasting large task binary with size 4.2 MiB\n",
      "24/12/01 06:29:01 WARN org.apache.spark.scheduler.DAGScheduler: Broadcasting large task binary with size 4.2 MiB\n",
      "24/12/01 06:29:01 WARN org.apache.spark.scheduler.DAGScheduler: Broadcasting large task binary with size 4.2 MiB\n",
      "24/12/01 06:29:02 WARN org.apache.spark.scheduler.DAGScheduler: Broadcasting large task binary with size 4.2 MiB\n",
      "24/12/01 06:29:02 WARN org.apache.spark.scheduler.DAGScheduler: Broadcasting large task binary with size 4.2 MiB\n",
      "24/12/01 06:29:02 WARN org.apache.spark.scheduler.DAGScheduler: Broadcasting large task binary with size 4.2 MiB\n",
      "24/12/01 06:29:02 WARN org.apache.spark.scheduler.DAGScheduler: Broadcasting large task binary with size 4.2 MiB\n",
      "24/12/01 06:29:02 WARN org.apache.spark.scheduler.DAGScheduler: Broadcasting large task binary with size 4.2 MiB\n",
      "24/12/01 06:29:03 WARN org.apache.spark.scheduler.DAGScheduler: Broadcasting large task binary with size 4.2 MiB\n",
      "24/12/01 06:29:03 WARN org.apache.spark.scheduler.DAGScheduler: Broadcasting large task binary with size 4.2 MiB\n",
      "24/12/01 06:29:03 WARN org.apache.spark.scheduler.DAGScheduler: Broadcasting large task binary with size 4.2 MiB\n",
      "24/12/01 06:29:03 WARN org.apache.spark.scheduler.DAGScheduler: Broadcasting large task binary with size 4.2 MiB\n",
      "24/12/01 06:29:08 WARN org.apache.spark.scheduler.DAGScheduler: Broadcasting large task binary with size 4.1 MiB\n",
      "24/12/01 06:29:13 WARN org.apache.spark.scheduler.DAGScheduler: Broadcasting large task binary with size 4.1 MiB\n",
      "24/12/01 06:29:19 WARN org.apache.spark.scheduler.DAGScheduler: Broadcasting large task binary with size 4.1 MiB\n",
      "24/12/01 06:29:22 WARN org.apache.spark.scheduler.DAGScheduler: Broadcasting large task binary with size 5.9 MiB\n",
      "24/12/01 06:29:26 WARN org.apache.spark.scheduler.DAGScheduler: Broadcasting large task binary with size 4.1 MiB\n",
      "24/12/01 06:29:29 WARN org.apache.spark.scheduler.DAGScheduler: Broadcasting large task binary with size 5.9 MiB\n",
      "24/12/01 06:29:32 WARN org.apache.spark.scheduler.DAGScheduler: Broadcasting large task binary with size 4.1 MiB\n",
      "24/12/01 06:29:37 WARN org.apache.spark.scheduler.DAGScheduler: Broadcasting large task binary with size 4.1 MiB\n",
      "24/12/01 06:29:40 WARN org.apache.spark.scheduler.DAGScheduler: Broadcasting large task binary with size 4.2 MiB\n",
      "24/12/01 06:29:41 WARN org.apache.spark.scheduler.DAGScheduler: Broadcasting large task binary with size 4.2 MiB\n",
      "24/12/01 06:29:42 WARN org.apache.spark.scheduler.DAGScheduler: Broadcasting large task binary with size 4.2 MiB\n",
      "24/12/01 06:29:43 WARN org.apache.spark.scheduler.DAGScheduler: Broadcasting large task binary with size 4.2 MiB\n",
      "24/12/01 06:29:43 WARN org.apache.spark.scheduler.DAGScheduler: Broadcasting large task binary with size 4.2 MiB\n",
      "24/12/01 06:29:43 WARN org.apache.spark.scheduler.DAGScheduler: Broadcasting large task binary with size 4.2 MiB\n",
      "24/12/01 06:29:44 WARN org.apache.spark.scheduler.DAGScheduler: Broadcasting large task binary with size 4.2 MiB\n",
      "24/12/01 06:29:44 WARN org.apache.spark.scheduler.DAGScheduler: Broadcasting large task binary with size 4.2 MiB\n",
      "24/12/01 06:29:44 WARN org.apache.spark.scheduler.DAGScheduler: Broadcasting large task binary with size 4.2 MiB\n",
      "24/12/01 06:29:44 WARN org.apache.spark.scheduler.DAGScheduler: Broadcasting large task binary with size 4.2 MiB\n",
      "24/12/01 06:29:44 WARN org.apache.spark.scheduler.DAGScheduler: Broadcasting large task binary with size 4.2 MiB\n",
      "24/12/01 06:29:45 WARN org.apache.spark.scheduler.DAGScheduler: Broadcasting large task binary with size 4.2 MiB\n",
      "24/12/01 06:29:45 WARN org.apache.spark.scheduler.DAGScheduler: Broadcasting large task binary with size 4.2 MiB\n",
      "24/12/01 06:29:45 WARN org.apache.spark.scheduler.DAGScheduler: Broadcasting large task binary with size 4.2 MiB\n",
      "24/12/01 06:29:45 WARN org.apache.spark.scheduler.DAGScheduler: Broadcasting large task binary with size 4.2 MiB\n",
      "24/12/01 06:29:45 WARN org.apache.spark.scheduler.DAGScheduler: Broadcasting large task binary with size 4.2 MiB\n",
      "24/12/01 06:29:46 WARN org.apache.spark.scheduler.DAGScheduler: Broadcasting large task binary with size 4.2 MiB\n",
      "24/12/01 06:29:46 WARN org.apache.spark.scheduler.DAGScheduler: Broadcasting large task binary with size 4.2 MiB\n",
      "24/12/01 06:29:49 WARN org.apache.spark.scheduler.DAGScheduler: Broadcasting large task binary with size 4.1 MiB\n",
      "24/12/01 06:29:54 WARN org.apache.spark.scheduler.DAGScheduler: Broadcasting large task binary with size 4.1 MiB\n",
      "24/12/01 06:30:00 WARN org.apache.spark.scheduler.DAGScheduler: Broadcasting large task binary with size 4.1 MiB\n",
      "24/12/01 06:30:03 WARN org.apache.spark.scheduler.DAGScheduler: Broadcasting large task binary with size 5.9 MiB\n",
      "24/12/01 06:30:06 WARN org.apache.spark.scheduler.DAGScheduler: Broadcasting large task binary with size 4.1 MiB\n",
      "24/12/01 06:30:09 WARN org.apache.spark.scheduler.DAGScheduler: Broadcasting large task binary with size 5.9 MiB\n",
      "24/12/01 06:30:13 WARN org.apache.spark.scheduler.DAGScheduler: Broadcasting large task binary with size 4.1 MiB\n",
      "24/12/01 06:30:18 WARN org.apache.spark.scheduler.DAGScheduler: Broadcasting large task binary with size 4.1 MiB\n",
      "24/12/01 06:30:21 WARN org.apache.spark.scheduler.DAGScheduler: Broadcasting large task binary with size 4.2 MiB\n",
      "24/12/01 06:30:22 WARN org.apache.spark.scheduler.DAGScheduler: Broadcasting large task binary with size 4.2 MiB\n",
      "24/12/01 06:30:23 WARN org.apache.spark.scheduler.DAGScheduler: Broadcasting large task binary with size 4.2 MiB\n",
      "24/12/01 06:30:24 WARN org.apache.spark.scheduler.DAGScheduler: Broadcasting large task binary with size 4.2 MiB\n",
      "24/12/01 06:30:24 WARN org.apache.spark.scheduler.DAGScheduler: Broadcasting large task binary with size 4.2 MiB\n",
      "24/12/01 06:30:24 WARN org.apache.spark.scheduler.DAGScheduler: Broadcasting large task binary with size 4.2 MiB\n",
      "24/12/01 06:30:24 WARN org.apache.spark.scheduler.DAGScheduler: Broadcasting large task binary with size 4.2 MiB\n",
      "24/12/01 06:30:24 WARN org.apache.spark.scheduler.DAGScheduler: Broadcasting large task binary with size 4.2 MiB\n",
      "24/12/01 06:30:25 WARN org.apache.spark.scheduler.DAGScheduler: Broadcasting large task binary with size 4.2 MiB\n",
      "24/12/01 06:30:25 WARN org.apache.spark.scheduler.DAGScheduler: Broadcasting large task binary with size 4.2 MiB\n",
      "24/12/01 06:30:25 WARN org.apache.spark.scheduler.DAGScheduler: Broadcasting large task binary with size 4.2 MiB\n",
      "24/12/01 06:30:25 WARN org.apache.spark.scheduler.DAGScheduler: Broadcasting large task binary with size 4.2 MiB\n",
      "24/12/01 06:30:25 WARN org.apache.spark.scheduler.DAGScheduler: Broadcasting large task binary with size 4.2 MiB\n",
      "24/12/01 06:30:26 WARN org.apache.spark.scheduler.DAGScheduler: Broadcasting large task binary with size 4.2 MiB\n",
      "24/12/01 06:30:26 WARN org.apache.spark.scheduler.DAGScheduler: Broadcasting large task binary with size 4.2 MiB\n",
      "24/12/01 06:30:26 WARN org.apache.spark.scheduler.DAGScheduler: Broadcasting large task binary with size 4.2 MiB\n",
      "24/12/01 06:30:26 WARN org.apache.spark.scheduler.DAGScheduler: Broadcasting large task binary with size 4.2 MiB\n",
      "24/12/01 06:30:27 WARN org.apache.spark.scheduler.DAGScheduler: Broadcasting large task binary with size 4.2 MiB\n",
      "24/12/01 06:30:27 WARN org.apache.spark.scheduler.DAGScheduler: Broadcasting large task binary with size 4.2 MiB\n",
      "24/12/01 06:30:27 WARN org.apache.spark.scheduler.DAGScheduler: Broadcasting large task binary with size 4.2 MiB\n",
      "24/12/01 06:30:30 WARN org.apache.spark.scheduler.DAGScheduler: Broadcasting large task binary with size 4.1 MiB\n",
      "24/12/01 06:30:36 WARN org.apache.spark.scheduler.DAGScheduler: Broadcasting large task binary with size 4.1 MiB\n",
      "24/12/01 06:30:41 WARN org.apache.spark.scheduler.DAGScheduler: Broadcasting large task binary with size 4.1 MiB\n",
      "24/12/01 06:30:44 WARN org.apache.spark.scheduler.DAGScheduler: Broadcasting large task binary with size 5.9 MiB\n",
      "24/12/01 06:30:48 WARN org.apache.spark.scheduler.DAGScheduler: Broadcasting large task binary with size 4.1 MiB\n",
      "24/12/01 06:30:51 WARN org.apache.spark.scheduler.DAGScheduler: Broadcasting large task binary with size 5.9 MiB\n",
      "24/12/01 06:30:55 WARN org.apache.spark.scheduler.DAGScheduler: Broadcasting large task binary with size 4.1 MiB\n",
      "24/12/01 06:31:00 WARN org.apache.spark.scheduler.DAGScheduler: Broadcasting large task binary with size 4.1 MiB\n",
      "24/12/01 06:31:03 WARN org.apache.spark.scheduler.DAGScheduler: Broadcasting large task binary with size 4.2 MiB\n",
      "24/12/01 06:31:04 WARN org.apache.spark.scheduler.DAGScheduler: Broadcasting large task binary with size 4.2 MiB\n",
      "24/12/01 06:31:04 WARN org.apache.spark.scheduler.DAGScheduler: Broadcasting large task binary with size 4.2 MiB\n",
      "24/12/01 06:31:05 WARN org.apache.spark.scheduler.DAGScheduler: Broadcasting large task binary with size 4.2 MiB\n",
      "24/12/01 06:31:05 WARN org.apache.spark.scheduler.DAGScheduler: Broadcasting large task binary with size 4.2 MiB\n",
      "24/12/01 06:31:05 WARN org.apache.spark.scheduler.DAGScheduler: Broadcasting large task binary with size 4.2 MiB\n",
      "24/12/01 06:31:06 WARN org.apache.spark.scheduler.DAGScheduler: Broadcasting large task binary with size 4.2 MiB\n",
      "24/12/01 06:31:06 WARN org.apache.spark.scheduler.DAGScheduler: Broadcasting large task binary with size 4.2 MiB\n",
      "24/12/01 06:31:06 WARN org.apache.spark.scheduler.DAGScheduler: Broadcasting large task binary with size 4.2 MiB\n",
      "24/12/01 06:31:06 WARN org.apache.spark.scheduler.DAGScheduler: Broadcasting large task binary with size 4.2 MiB\n",
      "24/12/01 06:31:07 WARN org.apache.spark.scheduler.DAGScheduler: Broadcasting large task binary with size 4.2 MiB\n",
      "24/12/01 06:31:07 WARN org.apache.spark.scheduler.DAGScheduler: Broadcasting large task binary with size 4.2 MiB\n",
      "24/12/01 06:31:07 WARN org.apache.spark.scheduler.DAGScheduler: Broadcasting large task binary with size 4.2 MiB\n",
      "24/12/01 06:31:07 WARN org.apache.spark.scheduler.DAGScheduler: Broadcasting large task binary with size 4.2 MiB\n",
      "24/12/01 06:31:07 WARN org.apache.spark.scheduler.DAGScheduler: Broadcasting large task binary with size 4.2 MiB\n",
      "24/12/01 06:31:08 WARN org.apache.spark.scheduler.DAGScheduler: Broadcasting large task binary with size 4.2 MiB\n",
      "24/12/01 06:31:08 WARN org.apache.spark.scheduler.DAGScheduler: Broadcasting large task binary with size 4.2 MiB\n",
      "24/12/01 06:31:08 WARN org.apache.spark.scheduler.DAGScheduler: Broadcasting large task binary with size 4.2 MiB\n",
      "24/12/01 06:31:11 WARN org.apache.spark.scheduler.DAGScheduler: Broadcasting large task binary with size 4.1 MiB\n",
      "24/12/01 06:31:18 WARN org.apache.spark.scheduler.DAGScheduler: Broadcasting large task binary with size 4.1 MiB\n",
      "24/12/01 06:31:23 WARN org.apache.spark.scheduler.DAGScheduler: Broadcasting large task binary with size 4.1 MiB\n",
      "24/12/01 06:31:26 WARN org.apache.spark.scheduler.DAGScheduler: Broadcasting large task binary with size 5.9 MiB\n",
      "24/12/01 06:31:30 WARN org.apache.spark.scheduler.DAGScheduler: Broadcasting large task binary with size 4.1 MiB\n",
      "24/12/01 06:31:33 WARN org.apache.spark.scheduler.DAGScheduler: Broadcasting large task binary with size 5.9 MiB\n",
      "24/12/01 06:31:37 WARN org.apache.spark.scheduler.DAGScheduler: Broadcasting large task binary with size 4.1 MiB\n",
      "24/12/01 06:31:42 WARN org.apache.spark.scheduler.DAGScheduler: Broadcasting large task binary with size 4.1 MiB\n",
      "24/12/01 06:31:45 WARN org.apache.spark.scheduler.DAGScheduler: Broadcasting large task binary with size 4.2 MiB\n",
      "24/12/01 06:31:46 WARN org.apache.spark.scheduler.DAGScheduler: Broadcasting large task binary with size 4.2 MiB\n",
      "24/12/01 06:31:46 WARN org.apache.spark.scheduler.DAGScheduler: Broadcasting large task binary with size 4.2 MiB\n",
      "24/12/01 06:31:47 WARN org.apache.spark.scheduler.DAGScheduler: Broadcasting large task binary with size 4.2 MiB\n",
      "24/12/01 06:31:47 WARN org.apache.spark.scheduler.DAGScheduler: Broadcasting large task binary with size 4.2 MiB\n",
      "24/12/01 06:31:48 WARN org.apache.spark.scheduler.DAGScheduler: Broadcasting large task binary with size 4.2 MiB\n",
      "24/12/01 06:31:48 WARN org.apache.spark.scheduler.DAGScheduler: Broadcasting large task binary with size 4.2 MiB\n",
      "24/12/01 06:31:48 WARN org.apache.spark.scheduler.DAGScheduler: Broadcasting large task binary with size 4.2 MiB\n",
      "24/12/01 06:31:48 WARN org.apache.spark.scheduler.DAGScheduler: Broadcasting large task binary with size 4.2 MiB\n",
      "24/12/01 06:31:49 WARN org.apache.spark.scheduler.DAGScheduler: Broadcasting large task binary with size 4.2 MiB\n",
      "24/12/01 06:31:49 WARN org.apache.spark.scheduler.DAGScheduler: Broadcasting large task binary with size 4.2 MiB\n",
      "24/12/01 06:31:49 WARN org.apache.spark.scheduler.DAGScheduler: Broadcasting large task binary with size 4.2 MiB\n",
      "24/12/01 06:31:49 WARN org.apache.spark.scheduler.DAGScheduler: Broadcasting large task binary with size 4.2 MiB\n",
      "24/12/01 06:31:49 WARN org.apache.spark.scheduler.DAGScheduler: Broadcasting large task binary with size 4.2 MiB\n",
      "24/12/01 06:31:50 WARN org.apache.spark.scheduler.DAGScheduler: Broadcasting large task binary with size 4.2 MiB\n",
      "24/12/01 06:31:50 WARN org.apache.spark.scheduler.DAGScheduler: Broadcasting large task binary with size 4.2 MiB\n",
      "24/12/01 06:31:53 WARN org.apache.spark.scheduler.DAGScheduler: Broadcasting large task binary with size 4.1 MiB\n",
      "24/12/01 06:31:58 WARN org.apache.spark.scheduler.DAGScheduler: Broadcasting large task binary with size 4.1 MiB\n",
      "24/12/01 06:32:03 WARN org.apache.spark.scheduler.DAGScheduler: Broadcasting large task binary with size 4.1 MiB\n",
      "24/12/01 06:32:06 WARN org.apache.spark.scheduler.DAGScheduler: Broadcasting large task binary with size 5.9 MiB\n",
      "24/12/01 06:32:10 WARN org.apache.spark.scheduler.DAGScheduler: Broadcasting large task binary with size 4.1 MiB\n",
      "24/12/01 06:32:13 WARN org.apache.spark.scheduler.DAGScheduler: Broadcasting large task binary with size 5.9 MiB\n",
      "24/12/01 06:32:16 WARN org.apache.spark.scheduler.DAGScheduler: Broadcasting large task binary with size 4.1 MiB\n",
      "24/12/01 06:32:22 WARN org.apache.spark.scheduler.DAGScheduler: Broadcasting large task binary with size 4.1 MiB\n",
      "24/12/01 06:32:24 WARN org.apache.spark.scheduler.DAGScheduler: Broadcasting large task binary with size 4.2 MiB\n",
      "24/12/01 06:32:25 WARN org.apache.spark.scheduler.DAGScheduler: Broadcasting large task binary with size 4.2 MiB\n",
      "24/12/01 06:32:26 WARN org.apache.spark.scheduler.DAGScheduler: Broadcasting large task binary with size 4.2 MiB\n",
      "24/12/01 06:32:27 WARN org.apache.spark.scheduler.DAGScheduler: Broadcasting large task binary with size 4.2 MiB\n",
      "24/12/01 06:32:27 WARN org.apache.spark.scheduler.DAGScheduler: Broadcasting large task binary with size 4.2 MiB\n",
      "24/12/01 06:32:27 WARN org.apache.spark.scheduler.DAGScheduler: Broadcasting large task binary with size 4.2 MiB\n",
      "24/12/01 06:32:27 WARN org.apache.spark.scheduler.DAGScheduler: Broadcasting large task binary with size 4.2 MiB\n",
      "24/12/01 06:32:28 WARN org.apache.spark.scheduler.DAGScheduler: Broadcasting large task binary with size 4.2 MiB\n",
      "24/12/01 06:32:28 WARN org.apache.spark.scheduler.DAGScheduler: Broadcasting large task binary with size 4.2 MiB\n",
      "24/12/01 06:32:28 WARN org.apache.spark.scheduler.DAGScheduler: Broadcasting large task binary with size 4.2 MiB\n",
      "24/12/01 06:32:28 WARN org.apache.spark.scheduler.DAGScheduler: Broadcasting large task binary with size 4.2 MiB\n",
      "24/12/01 06:32:29 WARN org.apache.spark.scheduler.DAGScheduler: Broadcasting large task binary with size 4.2 MiB\n",
      "24/12/01 06:32:29 WARN org.apache.spark.scheduler.DAGScheduler: Broadcasting large task binary with size 4.2 MiB\n",
      "24/12/01 06:32:29 WARN org.apache.spark.scheduler.DAGScheduler: Broadcasting large task binary with size 4.2 MiB\n",
      "24/12/01 06:32:29 WARN org.apache.spark.scheduler.DAGScheduler: Broadcasting large task binary with size 4.2 MiB\n",
      "24/12/01 06:32:29 WARN org.apache.spark.scheduler.DAGScheduler: Broadcasting large task binary with size 4.2 MiB\n",
      "24/12/01 06:32:30 WARN org.apache.spark.scheduler.DAGScheduler: Broadcasting large task binary with size 4.2 MiB\n",
      "24/12/01 06:32:30 WARN org.apache.spark.scheduler.DAGScheduler: Broadcasting large task binary with size 4.2 MiB\n",
      "24/12/01 06:32:30 WARN org.apache.spark.scheduler.DAGScheduler: Broadcasting large task binary with size 4.2 MiB\n",
      "24/12/01 06:32:30 WARN org.apache.spark.scheduler.DAGScheduler: Broadcasting large task binary with size 4.2 MiB\n",
      "24/12/01 06:32:31 WARN org.apache.spark.scheduler.DAGScheduler: Broadcasting large task binary with size 4.2 MiB\n",
      "24/12/01 06:32:31 WARN org.apache.spark.scheduler.DAGScheduler: Broadcasting large task binary with size 4.2 MiB\n",
      "24/12/01 06:32:34 WARN org.apache.spark.scheduler.DAGScheduler: Broadcasting large task binary with size 4.1 MiB\n",
      "24/12/01 06:32:40 WARN org.apache.spark.scheduler.DAGScheduler: Broadcasting large task binary with size 4.1 MiB\n",
      "24/12/01 06:32:46 WARN org.apache.spark.scheduler.DAGScheduler: Broadcasting large task binary with size 4.1 MiB\n",
      "24/12/01 06:32:48 WARN org.apache.spark.scheduler.DAGScheduler: Broadcasting large task binary with size 5.9 MiB\n",
      "24/12/01 06:32:57 WARN org.apache.spark.scheduler.DAGScheduler: Broadcasting large task binary with size 4.1 MiB\n",
      "24/12/01 06:33:00 WARN org.apache.spark.scheduler.DAGScheduler: Broadcasting large task binary with size 5.9 MiB\n",
      "24/12/01 06:33:03 WARN org.apache.spark.scheduler.DAGScheduler: Broadcasting large task binary with size 4.1 MiB\n",
      "24/12/01 06:33:09 WARN org.apache.spark.scheduler.DAGScheduler: Broadcasting large task binary with size 4.1 MiB\n",
      "24/12/01 06:33:12 WARN org.apache.spark.scheduler.DAGScheduler: Broadcasting large task binary with size 4.2 MiB\n",
      "24/12/01 06:33:13 WARN org.apache.spark.scheduler.DAGScheduler: Broadcasting large task binary with size 4.2 MiB\n",
      "24/12/01 06:33:13 WARN org.apache.spark.scheduler.DAGScheduler: Broadcasting large task binary with size 4.2 MiB\n",
      "24/12/01 06:33:14 WARN org.apache.spark.scheduler.DAGScheduler: Broadcasting large task binary with size 4.2 MiB\n",
      "24/12/01 06:33:14 WARN org.apache.spark.scheduler.DAGScheduler: Broadcasting large task binary with size 4.2 MiB\n",
      "24/12/01 06:33:14 WARN org.apache.spark.scheduler.DAGScheduler: Broadcasting large task binary with size 4.2 MiB\n",
      "24/12/01 06:33:15 WARN org.apache.spark.scheduler.DAGScheduler: Broadcasting large task binary with size 4.2 MiB\n",
      "24/12/01 06:33:15 WARN org.apache.spark.scheduler.DAGScheduler: Broadcasting large task binary with size 4.2 MiB\n",
      "24/12/01 06:33:15 WARN org.apache.spark.scheduler.DAGScheduler: Broadcasting large task binary with size 4.2 MiB\n",
      "24/12/01 06:33:15 WARN org.apache.spark.scheduler.DAGScheduler: Broadcasting large task binary with size 4.2 MiB\n",
      "24/12/01 06:33:16 WARN org.apache.spark.scheduler.DAGScheduler: Broadcasting large task binary with size 4.2 MiB\n",
      "24/12/01 06:33:16 WARN org.apache.spark.scheduler.DAGScheduler: Broadcasting large task binary with size 4.2 MiB\n",
      "24/12/01 06:33:16 WARN org.apache.spark.scheduler.DAGScheduler: Broadcasting large task binary with size 4.2 MiB\n",
      "24/12/01 06:33:16 WARN org.apache.spark.scheduler.DAGScheduler: Broadcasting large task binary with size 4.2 MiB\n",
      "24/12/01 06:33:17 WARN org.apache.spark.scheduler.DAGScheduler: Broadcasting large task binary with size 4.2 MiB\n",
      "24/12/01 06:33:17 WARN org.apache.spark.scheduler.DAGScheduler: Broadcasting large task binary with size 4.2 MiB\n",
      "24/12/01 06:33:17 WARN org.apache.spark.scheduler.DAGScheduler: Broadcasting large task binary with size 4.2 MiB\n",
      "24/12/01 06:33:17 WARN org.apache.spark.scheduler.DAGScheduler: Broadcasting large task binary with size 4.2 MiB\n",
      "24/12/01 06:33:20 WARN org.apache.spark.scheduler.DAGScheduler: Broadcasting large task binary with size 4.1 MiB\n",
      "24/12/01 06:33:26 WARN org.apache.spark.scheduler.DAGScheduler: Broadcasting large task binary with size 4.1 MiB\n",
      "24/12/01 06:33:31 WARN org.apache.spark.scheduler.DAGScheduler: Broadcasting large task binary with size 4.1 MiB\n",
      "24/12/01 06:33:34 WARN org.apache.spark.scheduler.DAGScheduler: Broadcasting large task binary with size 5.9 MiB\n",
      "24/12/01 06:33:38 WARN org.apache.spark.scheduler.DAGScheduler: Broadcasting large task binary with size 4.1 MiB\n",
      "24/12/01 06:33:41 WARN org.apache.spark.scheduler.DAGScheduler: Broadcasting large task binary with size 5.9 MiB\n",
      "24/12/01 06:33:44 WARN org.apache.spark.scheduler.DAGScheduler: Broadcasting large task binary with size 4.1 MiB\n",
      "24/12/01 06:33:50 WARN org.apache.spark.scheduler.DAGScheduler: Broadcasting large task binary with size 4.1 MiB\n",
      "24/12/01 06:33:53 WARN org.apache.spark.scheduler.DAGScheduler: Broadcasting large task binary with size 4.2 MiB\n",
      "24/12/01 06:33:54 WARN org.apache.spark.scheduler.DAGScheduler: Broadcasting large task binary with size 4.2 MiB\n",
      "24/12/01 06:33:54 WARN org.apache.spark.scheduler.DAGScheduler: Broadcasting large task binary with size 4.2 MiB\n",
      "24/12/01 06:33:55 WARN org.apache.spark.scheduler.DAGScheduler: Broadcasting large task binary with size 4.2 MiB\n",
      "24/12/01 06:33:55 WARN org.apache.spark.scheduler.DAGScheduler: Broadcasting large task binary with size 4.2 MiB\n",
      "24/12/01 06:33:55 WARN org.apache.spark.scheduler.DAGScheduler: Broadcasting large task binary with size 4.2 MiB\n",
      "24/12/01 06:33:56 WARN org.apache.spark.scheduler.DAGScheduler: Broadcasting large task binary with size 4.2 MiB\n",
      "24/12/01 06:33:56 WARN org.apache.spark.scheduler.DAGScheduler: Broadcasting large task binary with size 4.2 MiB\n",
      "24/12/01 06:33:56 WARN org.apache.spark.scheduler.DAGScheduler: Broadcasting large task binary with size 4.2 MiB\n",
      "24/12/01 06:33:56 WARN org.apache.spark.scheduler.DAGScheduler: Broadcasting large task binary with size 4.2 MiB\n",
      "24/12/01 06:33:57 WARN org.apache.spark.scheduler.DAGScheduler: Broadcasting large task binary with size 4.2 MiB\n",
      "24/12/01 06:33:57 WARN org.apache.spark.scheduler.DAGScheduler: Broadcasting large task binary with size 4.2 MiB\n",
      "24/12/01 06:33:57 WARN org.apache.spark.scheduler.DAGScheduler: Broadcasting large task binary with size 4.2 MiB\n",
      "24/12/01 06:33:57 WARN org.apache.spark.scheduler.DAGScheduler: Broadcasting large task binary with size 4.2 MiB\n",
      "24/12/01 06:33:57 WARN org.apache.spark.scheduler.DAGScheduler: Broadcasting large task binary with size 4.2 MiB\n",
      "24/12/01 06:33:58 WARN org.apache.spark.scheduler.DAGScheduler: Broadcasting large task binary with size 4.2 MiB\n",
      "24/12/01 06:33:58 WARN org.apache.spark.scheduler.DAGScheduler: Broadcasting large task binary with size 4.2 MiB\n",
      "24/12/01 06:33:59 WARN org.apache.spark.scheduler.DAGScheduler: Broadcasting large task binary with size 4.2 MiB\n",
      "24/12/01 06:34:02 WARN org.apache.spark.scheduler.DAGScheduler: Broadcasting large task binary with size 4.1 MiB\n",
      "24/12/01 06:34:07 WARN org.apache.spark.scheduler.DAGScheduler: Broadcasting large task binary with size 4.1 MiB\n",
      "24/12/01 06:34:13 WARN org.apache.spark.scheduler.DAGScheduler: Broadcasting large task binary with size 4.1 MiB\n",
      "24/12/01 06:34:16 WARN org.apache.spark.scheduler.DAGScheduler: Broadcasting large task binary with size 5.9 MiB\n",
      "24/12/01 06:34:19 WARN org.apache.spark.scheduler.DAGScheduler: Broadcasting large task binary with size 4.1 MiB\n",
      "24/12/01 06:34:22 WARN org.apache.spark.scheduler.DAGScheduler: Broadcasting large task binary with size 5.9 MiB\n",
      "24/12/01 06:34:26 WARN org.apache.spark.scheduler.DAGScheduler: Broadcasting large task binary with size 4.1 MiB\n",
      "24/12/01 06:34:31 WARN org.apache.spark.scheduler.DAGScheduler: Broadcasting large task binary with size 4.1 MiB\n",
      "24/12/01 06:34:34 WARN org.apache.spark.scheduler.DAGScheduler: Broadcasting large task binary with size 4.2 MiB\n",
      "24/12/01 06:34:35 WARN org.apache.spark.scheduler.DAGScheduler: Broadcasting large task binary with size 4.2 MiB\n",
      "24/12/01 06:34:35 WARN org.apache.spark.scheduler.DAGScheduler: Broadcasting large task binary with size 4.2 MiB\n",
      "24/12/01 06:34:36 WARN org.apache.spark.scheduler.DAGScheduler: Broadcasting large task binary with size 4.2 MiB\n",
      "24/12/01 06:34:37 WARN org.apache.spark.scheduler.DAGScheduler: Broadcasting large task binary with size 4.2 MiB\n",
      "24/12/01 06:34:37 WARN org.apache.spark.scheduler.DAGScheduler: Broadcasting large task binary with size 4.2 MiB\n",
      "24/12/01 06:34:37 WARN org.apache.spark.scheduler.DAGScheduler: Broadcasting large task binary with size 4.2 MiB\n",
      "24/12/01 06:34:37 WARN org.apache.spark.scheduler.DAGScheduler: Broadcasting large task binary with size 4.2 MiB\n",
      "24/12/01 06:34:38 WARN org.apache.spark.scheduler.DAGScheduler: Broadcasting large task binary with size 4.2 MiB\n",
      "24/12/01 06:34:38 WARN org.apache.spark.scheduler.DAGScheduler: Broadcasting large task binary with size 4.2 MiB\n",
      "24/12/01 06:34:38 WARN org.apache.spark.scheduler.DAGScheduler: Broadcasting large task binary with size 4.2 MiB\n",
      "24/12/01 06:34:38 WARN org.apache.spark.scheduler.DAGScheduler: Broadcasting large task binary with size 4.2 MiB\n",
      "24/12/01 06:34:38 WARN org.apache.spark.scheduler.DAGScheduler: Broadcasting large task binary with size 4.2 MiB\n",
      "24/12/01 06:34:39 WARN org.apache.spark.scheduler.DAGScheduler: Broadcasting large task binary with size 4.2 MiB\n",
      "24/12/01 06:34:39 WARN org.apache.spark.scheduler.DAGScheduler: Broadcasting large task binary with size 4.2 MiB\n",
      "24/12/01 06:34:39 WARN org.apache.spark.scheduler.DAGScheduler: Broadcasting large task binary with size 4.2 MiB\n",
      "24/12/01 06:34:42 WARN org.apache.spark.scheduler.DAGScheduler: Broadcasting large task binary with size 4.1 MiB\n",
      "24/12/01 06:34:48 WARN org.apache.spark.scheduler.DAGScheduler: Broadcasting large task binary with size 4.1 MiB\n",
      "24/12/01 06:34:53 WARN org.apache.spark.scheduler.DAGScheduler: Broadcasting large task binary with size 4.1 MiB\n",
      "24/12/01 06:34:56 WARN org.apache.spark.scheduler.DAGScheduler: Broadcasting large task binary with size 5.9 MiB\n",
      "24/12/01 06:35:00 WARN org.apache.spark.scheduler.DAGScheduler: Broadcasting large task binary with size 4.1 MiB\n",
      "24/12/01 06:35:03 WARN org.apache.spark.scheduler.DAGScheduler: Broadcasting large task binary with size 5.9 MiB\n",
      "24/12/01 06:35:07 WARN org.apache.spark.scheduler.DAGScheduler: Broadcasting large task binary with size 4.1 MiB\n",
      "24/12/01 06:35:12 WARN org.apache.spark.scheduler.DAGScheduler: Broadcasting large task binary with size 4.1 MiB\n",
      "24/12/01 06:35:15 WARN org.apache.spark.scheduler.DAGScheduler: Broadcasting large task binary with size 4.2 MiB\n",
      "24/12/01 06:35:16 WARN org.apache.spark.scheduler.DAGScheduler: Broadcasting large task binary with size 4.2 MiB\n",
      "24/12/01 06:35:16 WARN org.apache.spark.scheduler.DAGScheduler: Broadcasting large task binary with size 4.2 MiB\n",
      "24/12/01 06:35:17 WARN org.apache.spark.scheduler.DAGScheduler: Broadcasting large task binary with size 4.2 MiB\n",
      "24/12/01 06:35:18 WARN org.apache.spark.scheduler.DAGScheduler: Broadcasting large task binary with size 4.2 MiB\n",
      "24/12/01 06:35:18 WARN org.apache.spark.scheduler.DAGScheduler: Broadcasting large task binary with size 4.2 MiB\n",
      "24/12/01 06:35:18 WARN org.apache.spark.scheduler.DAGScheduler: Broadcasting large task binary with size 4.2 MiB\n",
      "24/12/01 06:35:18 WARN org.apache.spark.scheduler.DAGScheduler: Broadcasting large task binary with size 4.2 MiB\n",
      "24/12/01 06:35:19 WARN org.apache.spark.scheduler.DAGScheduler: Broadcasting large task binary with size 4.2 MiB\n",
      "24/12/01 06:35:19 WARN org.apache.spark.scheduler.DAGScheduler: Broadcasting large task binary with size 4.2 MiB\n",
      "24/12/01 06:35:19 WARN org.apache.spark.scheduler.DAGScheduler: Broadcasting large task binary with size 4.2 MiB\n",
      "24/12/01 06:35:19 WARN org.apache.spark.scheduler.DAGScheduler: Broadcasting large task binary with size 4.2 MiB\n",
      "24/12/01 06:35:19 WARN org.apache.spark.scheduler.DAGScheduler: Broadcasting large task binary with size 4.2 MiB\n",
      "24/12/01 06:35:20 WARN org.apache.spark.scheduler.DAGScheduler: Broadcasting large task binary with size 4.2 MiB\n",
      "24/12/01 06:35:20 WARN org.apache.spark.scheduler.DAGScheduler: Broadcasting large task binary with size 4.2 MiB\n",
      "24/12/01 06:35:20 WARN org.apache.spark.scheduler.DAGScheduler: Broadcasting large task binary with size 4.2 MiB\n",
      "24/12/01 06:35:20 WARN org.apache.spark.scheduler.DAGScheduler: Broadcasting large task binary with size 4.2 MiB\n",
      "24/12/01 06:35:20 WARN org.apache.spark.scheduler.DAGScheduler: Broadcasting large task binary with size 4.2 MiB\n",
      "24/12/01 06:35:23 WARN org.apache.spark.scheduler.DAGScheduler: Broadcasting large task binary with size 4.1 MiB\n",
      "24/12/01 06:35:28 WARN org.apache.spark.scheduler.DAGScheduler: Broadcasting large task binary with size 4.1 MiB\n",
      "24/12/01 06:35:34 WARN org.apache.spark.scheduler.DAGScheduler: Broadcasting large task binary with size 4.1 MiB\n",
      "24/12/01 06:35:37 WARN org.apache.spark.scheduler.DAGScheduler: Broadcasting large task binary with size 5.9 MiB\n",
      "24/12/01 06:35:40 WARN org.apache.spark.scheduler.DAGScheduler: Broadcasting large task binary with size 4.1 MiB\n",
      "24/12/01 06:35:43 WARN org.apache.spark.scheduler.DAGScheduler: Broadcasting large task binary with size 5.9 MiB\n",
      "24/12/01 06:35:46 WARN org.apache.spark.scheduler.DAGScheduler: Broadcasting large task binary with size 4.1 MiB\n",
      "24/12/01 06:35:52 WARN org.apache.spark.scheduler.DAGScheduler: Broadcasting large task binary with size 4.1 MiB\n",
      "24/12/01 06:35:55 WARN org.apache.spark.scheduler.DAGScheduler: Broadcasting large task binary with size 4.2 MiB\n",
      "24/12/01 06:35:56 WARN org.apache.spark.scheduler.DAGScheduler: Broadcasting large task binary with size 4.2 MiB\n",
      "24/12/01 06:35:56 WARN org.apache.spark.scheduler.DAGScheduler: Broadcasting large task binary with size 4.2 MiB\n",
      "24/12/01 06:35:57 WARN org.apache.spark.scheduler.DAGScheduler: Broadcasting large task binary with size 4.2 MiB\n",
      "24/12/01 06:35:57 WARN org.apache.spark.scheduler.DAGScheduler: Broadcasting large task binary with size 4.2 MiB\n",
      "24/12/01 06:35:58 WARN org.apache.spark.scheduler.DAGScheduler: Broadcasting large task binary with size 4.2 MiB\n",
      "24/12/01 06:35:58 WARN org.apache.spark.scheduler.DAGScheduler: Broadcasting large task binary with size 4.2 MiB\n",
      "24/12/01 06:35:58 WARN org.apache.spark.scheduler.DAGScheduler: Broadcasting large task binary with size 4.2 MiB\n",
      "24/12/01 06:35:58 WARN org.apache.spark.scheduler.DAGScheduler: Broadcasting large task binary with size 4.2 MiB\n",
      "24/12/01 06:35:58 WARN org.apache.spark.scheduler.DAGScheduler: Broadcasting large task binary with size 4.2 MiB\n",
      "24/12/01 06:35:59 WARN org.apache.spark.scheduler.DAGScheduler: Broadcasting large task binary with size 4.2 MiB\n",
      "24/12/01 06:35:59 WARN org.apache.spark.scheduler.DAGScheduler: Broadcasting large task binary with size 4.2 MiB\n",
      "24/12/01 06:35:59 WARN org.apache.spark.scheduler.DAGScheduler: Broadcasting large task binary with size 4.2 MiB\n",
      "24/12/01 06:35:59 WARN org.apache.spark.scheduler.DAGScheduler: Broadcasting large task binary with size 4.2 MiB\n",
      "24/12/01 06:35:59 WARN org.apache.spark.scheduler.DAGScheduler: Broadcasting large task binary with size 4.2 MiB\n",
      "24/12/01 06:36:00 WARN org.apache.spark.scheduler.DAGScheduler: Broadcasting large task binary with size 4.2 MiB\n",
      "24/12/01 06:36:00 WARN org.apache.spark.scheduler.DAGScheduler: Broadcasting large task binary with size 4.2 MiB\n",
      "24/12/01 06:36:00 WARN org.apache.spark.scheduler.DAGScheduler: Broadcasting large task binary with size 4.2 MiB\n",
      "24/12/01 06:36:00 WARN org.apache.spark.scheduler.DAGScheduler: Broadcasting large task binary with size 4.2 MiB\n",
      "24/12/01 06:36:01 WARN org.apache.spark.scheduler.DAGScheduler: Broadcasting large task binary with size 4.2 MiB\n",
      "24/12/01 06:36:01 WARN org.apache.spark.scheduler.DAGScheduler: Broadcasting large task binary with size 4.2 MiB\n",
      "24/12/01 06:36:01 WARN org.apache.spark.scheduler.DAGScheduler: Broadcasting large task binary with size 4.2 MiB\n",
      "24/12/01 06:36:01 WARN org.apache.spark.scheduler.DAGScheduler: Broadcasting large task binary with size 4.2 MiB\n",
      "24/12/01 06:36:02 WARN org.apache.spark.scheduler.DAGScheduler: Broadcasting large task binary with size 4.2 MiB\n",
      "24/12/01 06:36:04 WARN org.apache.spark.scheduler.DAGScheduler: Broadcasting large task binary with size 4.1 MiB\n",
      "24/12/01 06:36:10 WARN org.apache.spark.scheduler.DAGScheduler: Broadcasting large task binary with size 4.1 MiB\n",
      "24/12/01 06:36:16 WARN org.apache.spark.scheduler.DAGScheduler: Broadcasting large task binary with size 4.1 MiB\n",
      "24/12/01 06:36:19 WARN org.apache.spark.scheduler.DAGScheduler: Broadcasting large task binary with size 5.9 MiB\n",
      "24/12/01 06:36:22 WARN org.apache.spark.scheduler.DAGScheduler: Broadcasting large task binary with size 4.1 MiB\n",
      "24/12/01 06:36:25 WARN org.apache.spark.scheduler.DAGScheduler: Broadcasting large task binary with size 5.9 MiB\n",
      "24/12/01 06:36:29 WARN org.apache.spark.scheduler.DAGScheduler: Broadcasting large task binary with size 4.1 MiB\n",
      "24/12/01 06:36:34 WARN org.apache.spark.scheduler.DAGScheduler: Broadcasting large task binary with size 4.1 MiB\n",
      "24/12/01 06:36:37 WARN org.apache.spark.scheduler.DAGScheduler: Broadcasting large task binary with size 4.2 MiB\n",
      "24/12/01 06:36:38 WARN org.apache.spark.scheduler.DAGScheduler: Broadcasting large task binary with size 4.2 MiB\n",
      "24/12/01 06:36:39 WARN org.apache.spark.scheduler.DAGScheduler: Broadcasting large task binary with size 4.2 MiB\n",
      "24/12/01 06:36:40 WARN org.apache.spark.scheduler.DAGScheduler: Broadcasting large task binary with size 4.2 MiB\n",
      "24/12/01 06:36:40 WARN org.apache.spark.scheduler.DAGScheduler: Broadcasting large task binary with size 4.2 MiB\n",
      "24/12/01 06:36:40 WARN org.apache.spark.scheduler.DAGScheduler: Broadcasting large task binary with size 4.2 MiB\n",
      "24/12/01 06:36:40 WARN org.apache.spark.scheduler.DAGScheduler: Broadcasting large task binary with size 4.2 MiB\n",
      "24/12/01 06:36:41 WARN org.apache.spark.scheduler.DAGScheduler: Broadcasting large task binary with size 4.2 MiB\n",
      "24/12/01 06:36:41 WARN org.apache.spark.scheduler.DAGScheduler: Broadcasting large task binary with size 4.2 MiB\n",
      "24/12/01 06:36:41 WARN org.apache.spark.scheduler.DAGScheduler: Broadcasting large task binary with size 4.2 MiB\n",
      "24/12/01 06:36:41 WARN org.apache.spark.scheduler.DAGScheduler: Broadcasting large task binary with size 4.2 MiB\n",
      "24/12/01 06:36:42 WARN org.apache.spark.scheduler.DAGScheduler: Broadcasting large task binary with size 4.2 MiB\n",
      "24/12/01 06:36:42 WARN org.apache.spark.scheduler.DAGScheduler: Broadcasting large task binary with size 4.2 MiB\n",
      "24/12/01 06:36:42 WARN org.apache.spark.scheduler.DAGScheduler: Broadcasting large task binary with size 4.2 MiB\n",
      "24/12/01 06:36:42 WARN org.apache.spark.scheduler.DAGScheduler: Broadcasting large task binary with size 4.2 MiB\n",
      "24/12/01 06:36:43 WARN org.apache.spark.scheduler.DAGScheduler: Broadcasting large task binary with size 4.2 MiB\n",
      "24/12/01 06:36:43 WARN org.apache.spark.scheduler.DAGScheduler: Broadcasting large task binary with size 4.2 MiB\n",
      "24/12/01 06:36:43 WARN org.apache.spark.scheduler.DAGScheduler: Broadcasting large task binary with size 4.2 MiB\n",
      "24/12/01 06:36:46 WARN org.apache.spark.scheduler.DAGScheduler: Broadcasting large task binary with size 4.1 MiB\n",
      "24/12/01 06:36:51 WARN org.apache.spark.scheduler.DAGScheduler: Broadcasting large task binary with size 4.1 MiB\n",
      "24/12/01 06:36:57 WARN org.apache.spark.scheduler.DAGScheduler: Broadcasting large task binary with size 4.1 MiB\n",
      "24/12/01 06:37:00 WARN org.apache.spark.scheduler.DAGScheduler: Broadcasting large task binary with size 5.9 MiB\n",
      "24/12/01 06:37:03 WARN org.apache.spark.scheduler.DAGScheduler: Broadcasting large task binary with size 4.1 MiB\n",
      "24/12/01 06:37:06 WARN org.apache.spark.scheduler.DAGScheduler: Broadcasting large task binary with size 5.9 MiB\n",
      "24/12/01 06:37:10 WARN org.apache.spark.scheduler.DAGScheduler: Broadcasting large task binary with size 4.1 MiB\n",
      "24/12/01 06:37:15 WARN org.apache.spark.scheduler.DAGScheduler: Broadcasting large task binary with size 4.1 MiB\n",
      "24/12/01 06:37:18 WARN org.apache.spark.scheduler.DAGScheduler: Broadcasting large task binary with size 4.2 MiB\n",
      "24/12/01 06:37:19 WARN org.apache.spark.scheduler.DAGScheduler: Broadcasting large task binary with size 4.2 MiB\n",
      "24/12/01 06:37:20 WARN org.apache.spark.scheduler.DAGScheduler: Broadcasting large task binary with size 4.2 MiB\n",
      "24/12/01 06:37:21 WARN org.apache.spark.scheduler.DAGScheduler: Broadcasting large task binary with size 4.2 MiB\n",
      "24/12/01 06:37:21 WARN org.apache.spark.scheduler.DAGScheduler: Broadcasting large task binary with size 4.2 MiB\n",
      "24/12/01 06:37:21 WARN org.apache.spark.scheduler.DAGScheduler: Broadcasting large task binary with size 4.2 MiB\n",
      "24/12/01 06:37:21 WARN org.apache.spark.scheduler.DAGScheduler: Broadcasting large task binary with size 4.2 MiB\n",
      "24/12/01 06:37:22 WARN org.apache.spark.scheduler.DAGScheduler: Broadcasting large task binary with size 4.2 MiB\n",
      "24/12/01 06:37:22 WARN org.apache.spark.scheduler.DAGScheduler: Broadcasting large task binary with size 4.2 MiB\n",
      "24/12/01 06:37:22 WARN org.apache.spark.scheduler.DAGScheduler: Broadcasting large task binary with size 4.2 MiB\n",
      "24/12/01 06:37:22 WARN org.apache.spark.scheduler.DAGScheduler: Broadcasting large task binary with size 4.2 MiB\n",
      "24/12/01 06:37:23 WARN org.apache.spark.scheduler.DAGScheduler: Broadcasting large task binary with size 4.2 MiB\n",
      "24/12/01 06:37:23 WARN org.apache.spark.scheduler.DAGScheduler: Broadcasting large task binary with size 4.2 MiB\n",
      "24/12/01 06:37:23 WARN org.apache.spark.scheduler.DAGScheduler: Broadcasting large task binary with size 4.2 MiB\n",
      "24/12/01 06:37:23 WARN org.apache.spark.scheduler.DAGScheduler: Broadcasting large task binary with size 4.2 MiB\n",
      "24/12/01 06:37:23 WARN org.apache.spark.scheduler.DAGScheduler: Broadcasting large task binary with size 4.2 MiB\n",
      "24/12/01 06:37:24 WARN org.apache.spark.scheduler.DAGScheduler: Broadcasting large task binary with size 4.2 MiB\n",
      "24/12/01 06:37:24 WARN org.apache.spark.scheduler.DAGScheduler: Broadcasting large task binary with size 4.2 MiB\n",
      "24/12/01 06:37:27 WARN org.apache.spark.scheduler.DAGScheduler: Broadcasting large task binary with size 4.1 MiB\n",
      "24/12/01 06:37:32 WARN org.apache.spark.scheduler.DAGScheduler: Broadcasting large task binary with size 4.1 MiB\n",
      "24/12/01 06:37:38 WARN org.apache.spark.scheduler.DAGScheduler: Broadcasting large task binary with size 4.1 MiB\n",
      "24/12/01 06:37:41 WARN org.apache.spark.scheduler.DAGScheduler: Broadcasting large task binary with size 5.9 MiB\n",
      "24/12/01 06:37:45 WARN org.apache.spark.scheduler.DAGScheduler: Broadcasting large task binary with size 4.1 MiB\n",
      "24/12/01 06:37:48 WARN org.apache.spark.scheduler.DAGScheduler: Broadcasting large task binary with size 5.9 MiB\n",
      "24/12/01 06:37:51 WARN org.apache.spark.scheduler.DAGScheduler: Broadcasting large task binary with size 4.1 MiB\n",
      "24/12/01 06:37:57 WARN org.apache.spark.scheduler.DAGScheduler: Broadcasting large task binary with size 4.1 MiB\n",
      "24/12/01 06:38:00 WARN org.apache.spark.scheduler.DAGScheduler: Broadcasting large task binary with size 4.2 MiB\n",
      "24/12/01 06:38:01 WARN org.apache.spark.scheduler.DAGScheduler: Broadcasting large task binary with size 4.2 MiB\n",
      "24/12/01 06:38:01 WARN org.apache.spark.scheduler.DAGScheduler: Broadcasting large task binary with size 4.2 MiB\n",
      "24/12/01 06:38:02 WARN org.apache.spark.scheduler.DAGScheduler: Broadcasting large task binary with size 4.2 MiB\n",
      "24/12/01 06:38:02 WARN org.apache.spark.scheduler.DAGScheduler: Broadcasting large task binary with size 4.2 MiB\n",
      "24/12/01 06:38:03 WARN org.apache.spark.scheduler.DAGScheduler: Broadcasting large task binary with size 4.2 MiB\n",
      "24/12/01 06:38:03 WARN org.apache.spark.scheduler.DAGScheduler: Broadcasting large task binary with size 4.2 MiB\n",
      "24/12/01 06:38:03 WARN org.apache.spark.scheduler.DAGScheduler: Broadcasting large task binary with size 4.2 MiB\n",
      "24/12/01 06:38:04 WARN org.apache.spark.scheduler.DAGScheduler: Broadcasting large task binary with size 4.2 MiB\n",
      "24/12/01 06:38:04 WARN org.apache.spark.scheduler.DAGScheduler: Broadcasting large task binary with size 4.2 MiB\n",
      "24/12/01 06:38:04 WARN org.apache.spark.scheduler.DAGScheduler: Broadcasting large task binary with size 4.2 MiB\n",
      "24/12/01 06:38:04 WARN org.apache.spark.scheduler.DAGScheduler: Broadcasting large task binary with size 4.2 MiB\n",
      "24/12/01 06:38:04 WARN org.apache.spark.scheduler.DAGScheduler: Broadcasting large task binary with size 4.2 MiB\n",
      "24/12/01 06:38:05 WARN org.apache.spark.scheduler.DAGScheduler: Broadcasting large task binary with size 4.2 MiB\n",
      "24/12/01 06:38:05 WARN org.apache.spark.scheduler.DAGScheduler: Broadcasting large task binary with size 4.2 MiB\n",
      "24/12/01 06:38:05 WARN org.apache.spark.scheduler.DAGScheduler: Broadcasting large task binary with size 4.2 MiB\n",
      "24/12/01 06:38:08 WARN org.apache.spark.scheduler.DAGScheduler: Broadcasting large task binary with size 4.1 MiB\n",
      "24/12/01 06:38:14 WARN org.apache.spark.scheduler.DAGScheduler: Broadcasting large task binary with size 4.1 MiB\n",
      "24/12/01 06:38:19 WARN org.apache.spark.scheduler.DAGScheduler: Broadcasting large task binary with size 4.1 MiB\n",
      "24/12/01 06:38:22 WARN org.apache.spark.scheduler.DAGScheduler: Broadcasting large task binary with size 5.9 MiB\n",
      "24/12/01 06:38:26 WARN org.apache.spark.scheduler.DAGScheduler: Broadcasting large task binary with size 4.1 MiB\n",
      "24/12/01 06:38:29 WARN org.apache.spark.scheduler.DAGScheduler: Broadcasting large task binary with size 5.9 MiB\n",
      "24/12/01 06:38:32 WARN org.apache.spark.scheduler.DAGScheduler: Broadcasting large task binary with size 4.1 MiB\n",
      "24/12/01 06:38:38 WARN org.apache.spark.scheduler.DAGScheduler: Broadcasting large task binary with size 4.1 MiB\n",
      "24/12/01 06:38:40 WARN org.apache.spark.scheduler.DAGScheduler: Broadcasting large task binary with size 4.2 MiB\n",
      "24/12/01 06:38:41 WARN org.apache.spark.scheduler.DAGScheduler: Broadcasting large task binary with size 4.2 MiB\n",
      "24/12/01 06:38:42 WARN org.apache.spark.scheduler.DAGScheduler: Broadcasting large task binary with size 4.2 MiB\n",
      "24/12/01 06:38:43 WARN org.apache.spark.scheduler.DAGScheduler: Broadcasting large task binary with size 4.2 MiB\n",
      "24/12/01 06:38:43 WARN org.apache.spark.scheduler.DAGScheduler: Broadcasting large task binary with size 4.2 MiB\n",
      "24/12/01 06:38:43 WARN org.apache.spark.scheduler.DAGScheduler: Broadcasting large task binary with size 4.2 MiB\n",
      "24/12/01 06:38:43 WARN org.apache.spark.scheduler.DAGScheduler: Broadcasting large task binary with size 4.2 MiB\n",
      "24/12/01 06:38:43 WARN org.apache.spark.scheduler.DAGScheduler: Broadcasting large task binary with size 4.2 MiB\n",
      "24/12/01 06:38:44 WARN org.apache.spark.scheduler.DAGScheduler: Broadcasting large task binary with size 4.2 MiB\n",
      "24/12/01 06:38:44 WARN org.apache.spark.scheduler.DAGScheduler: Broadcasting large task binary with size 4.2 MiB\n",
      "24/12/01 06:38:44 WARN org.apache.spark.scheduler.DAGScheduler: Broadcasting large task binary with size 4.2 MiB\n",
      "24/12/01 06:38:44 WARN org.apache.spark.scheduler.DAGScheduler: Broadcasting large task binary with size 4.2 MiB\n",
      "24/12/01 06:38:44 WARN org.apache.spark.scheduler.DAGScheduler: Broadcasting large task binary with size 4.2 MiB\n",
      "24/12/01 06:38:45 WARN org.apache.spark.scheduler.DAGScheduler: Broadcasting large task binary with size 4.2 MiB\n",
      "24/12/01 06:38:45 WARN org.apache.spark.scheduler.DAGScheduler: Broadcasting large task binary with size 4.2 MiB\n",
      "24/12/01 06:38:45 WARN org.apache.spark.scheduler.DAGScheduler: Broadcasting large task binary with size 4.2 MiB\n",
      "24/12/01 06:38:45 WARN org.apache.spark.scheduler.DAGScheduler: Broadcasting large task binary with size 4.2 MiB\n",
      "24/12/01 06:38:46 WARN org.apache.spark.scheduler.DAGScheduler: Broadcasting large task binary with size 4.2 MiB\n",
      "24/12/01 06:38:50 WARN org.apache.spark.scheduler.DAGScheduler: Broadcasting large task binary with size 4.1 MiB\n",
      "24/12/01 06:38:55 WARN org.apache.spark.scheduler.DAGScheduler: Broadcasting large task binary with size 4.1 MiB\n",
      "24/12/01 06:39:01 WARN org.apache.spark.scheduler.DAGScheduler: Broadcasting large task binary with size 4.1 MiB\n",
      "24/12/01 06:39:03 WARN org.apache.spark.scheduler.DAGScheduler: Broadcasting large task binary with size 5.9 MiB\n",
      "24/12/01 06:39:07 WARN org.apache.spark.scheduler.DAGScheduler: Broadcasting large task binary with size 4.1 MiB\n",
      "24/12/01 06:39:10 WARN org.apache.spark.scheduler.DAGScheduler: Broadcasting large task binary with size 5.9 MiB\n",
      "24/12/01 06:39:14 WARN org.apache.spark.scheduler.DAGScheduler: Broadcasting large task binary with size 4.1 MiB\n",
      "24/12/01 06:39:20 WARN org.apache.spark.scheduler.DAGScheduler: Broadcasting large task binary with size 4.1 MiB\n",
      "24/12/01 06:39:23 WARN org.apache.spark.scheduler.DAGScheduler: Broadcasting large task binary with size 4.2 MiB\n",
      "24/12/01 06:39:23 WARN org.apache.spark.scheduler.DAGScheduler: Broadcasting large task binary with size 4.2 MiB\n",
      "24/12/01 06:39:24 WARN org.apache.spark.scheduler.DAGScheduler: Broadcasting large task binary with size 4.2 MiB\n",
      "24/12/01 06:39:25 WARN org.apache.spark.scheduler.DAGScheduler: Broadcasting large task binary with size 4.2 MiB\n",
      "24/12/01 06:39:25 WARN org.apache.spark.scheduler.DAGScheduler: Broadcasting large task binary with size 4.2 MiB\n",
      "24/12/01 06:39:25 WARN org.apache.spark.scheduler.DAGScheduler: Broadcasting large task binary with size 4.2 MiB\n",
      "24/12/01 06:39:26 WARN org.apache.spark.scheduler.DAGScheduler: Broadcasting large task binary with size 4.2 MiB\n",
      "24/12/01 06:39:26 WARN org.apache.spark.scheduler.DAGScheduler: Broadcasting large task binary with size 4.2 MiB\n",
      "24/12/01 06:39:26 WARN org.apache.spark.scheduler.DAGScheduler: Broadcasting large task binary with size 4.2 MiB\n",
      "24/12/01 06:39:26 WARN org.apache.spark.scheduler.DAGScheduler: Broadcasting large task binary with size 4.2 MiB\n",
      "24/12/01 06:39:27 WARN org.apache.spark.scheduler.DAGScheduler: Broadcasting large task binary with size 4.2 MiB\n",
      "24/12/01 06:39:27 WARN org.apache.spark.scheduler.DAGScheduler: Broadcasting large task binary with size 4.2 MiB\n",
      "24/12/01 06:39:27 WARN org.apache.spark.scheduler.DAGScheduler: Broadcasting large task binary with size 4.2 MiB\n",
      "24/12/01 06:39:27 WARN org.apache.spark.scheduler.DAGScheduler: Broadcasting large task binary with size 4.2 MiB\n",
      "24/12/01 06:39:27 WARN org.apache.spark.scheduler.DAGScheduler: Broadcasting large task binary with size 4.2 MiB\n",
      "24/12/01 06:39:28 WARN org.apache.spark.scheduler.DAGScheduler: Broadcasting large task binary with size 4.2 MiB\n",
      "24/12/01 06:39:28 WARN org.apache.spark.scheduler.DAGScheduler: Broadcasting large task binary with size 4.2 MiB\n",
      "24/12/01 06:39:28 WARN org.apache.spark.scheduler.DAGScheduler: Broadcasting large task binary with size 4.2 MiB\n",
      "24/12/01 06:39:31 WARN org.apache.spark.scheduler.DAGScheduler: Broadcasting large task binary with size 4.1 MiB\n",
      "24/12/01 06:39:36 WARN org.apache.spark.scheduler.DAGScheduler: Broadcasting large task binary with size 4.1 MiB\n",
      "24/12/01 06:39:42 WARN org.apache.spark.scheduler.DAGScheduler: Broadcasting large task binary with size 4.1 MiB\n",
      "24/12/01 06:39:45 WARN org.apache.spark.scheduler.DAGScheduler: Broadcasting large task binary with size 5.9 MiB\n",
      "24/12/01 06:39:49 WARN org.apache.spark.scheduler.DAGScheduler: Broadcasting large task binary with size 4.1 MiB\n",
      "24/12/01 06:39:52 WARN org.apache.spark.scheduler.DAGScheduler: Broadcasting large task binary with size 5.9 MiB\n",
      "24/12/01 06:39:56 WARN org.apache.spark.scheduler.DAGScheduler: Broadcasting large task binary with size 4.1 MiB\n",
      "24/12/01 06:40:01 WARN org.apache.spark.scheduler.DAGScheduler: Broadcasting large task binary with size 4.1 MiB\n",
      "24/12/01 06:40:04 WARN org.apache.spark.scheduler.DAGScheduler: Broadcasting large task binary with size 4.2 MiB\n",
      "24/12/01 06:40:05 WARN org.apache.spark.scheduler.DAGScheduler: Broadcasting large task binary with size 4.2 MiB\n",
      "24/12/01 06:40:05 WARN org.apache.spark.scheduler.DAGScheduler: Broadcasting large task binary with size 4.2 MiB\n",
      "24/12/01 06:40:06 WARN org.apache.spark.scheduler.DAGScheduler: Broadcasting large task binary with size 4.2 MiB\n",
      "24/12/01 06:40:06 WARN org.apache.spark.scheduler.DAGScheduler: Broadcasting large task binary with size 4.2 MiB\n",
      "24/12/01 06:40:06 WARN org.apache.spark.scheduler.DAGScheduler: Broadcasting large task binary with size 4.2 MiB\n",
      "24/12/01 06:40:07 WARN org.apache.spark.scheduler.DAGScheduler: Broadcasting large task binary with size 4.2 MiB\n",
      "24/12/01 06:40:07 WARN org.apache.spark.scheduler.DAGScheduler: Broadcasting large task binary with size 4.2 MiB\n",
      "24/12/01 06:40:07 WARN org.apache.spark.scheduler.DAGScheduler: Broadcasting large task binary with size 4.2 MiB\n",
      "24/12/01 06:40:07 WARN org.apache.spark.scheduler.DAGScheduler: Broadcasting large task binary with size 4.2 MiB\n",
      "24/12/01 06:40:08 WARN org.apache.spark.scheduler.DAGScheduler: Broadcasting large task binary with size 4.2 MiB\n",
      "24/12/01 06:40:08 WARN org.apache.spark.scheduler.DAGScheduler: Broadcasting large task binary with size 4.2 MiB\n",
      "24/12/01 06:40:08 WARN org.apache.spark.scheduler.DAGScheduler: Broadcasting large task binary with size 4.2 MiB\n",
      "24/12/01 06:40:08 WARN org.apache.spark.scheduler.DAGScheduler: Broadcasting large task binary with size 4.2 MiB\n",
      "24/12/01 06:40:09 WARN org.apache.spark.scheduler.DAGScheduler: Broadcasting large task binary with size 4.2 MiB\n",
      "24/12/01 06:40:09 WARN org.apache.spark.scheduler.DAGScheduler: Broadcasting large task binary with size 4.2 MiB\n",
      "24/12/01 06:40:09 WARN org.apache.spark.scheduler.DAGScheduler: Broadcasting large task binary with size 4.2 MiB\n",
      "24/12/01 06:40:09 WARN org.apache.spark.scheduler.DAGScheduler: Broadcasting large task binary with size 4.2 MiB\n",
      "24/12/01 06:40:12 WARN org.apache.spark.scheduler.DAGScheduler: Broadcasting large task binary with size 4.1 MiB\n",
      "24/12/01 06:40:18 WARN org.apache.spark.scheduler.DAGScheduler: Broadcasting large task binary with size 4.1 MiB\n",
      "24/12/01 06:40:23 WARN org.apache.spark.scheduler.DAGScheduler: Broadcasting large task binary with size 4.1 MiB\n",
      "24/12/01 06:40:26 WARN org.apache.spark.scheduler.DAGScheduler: Broadcasting large task binary with size 5.9 MiB\n",
      "24/12/01 06:40:30 WARN org.apache.spark.scheduler.DAGScheduler: Broadcasting large task binary with size 4.1 MiB\n",
      "24/12/01 06:40:33 WARN org.apache.spark.scheduler.DAGScheduler: Broadcasting large task binary with size 5.9 MiB\n",
      "                                                                                \r"
     ]
    }
   ],
   "source": [
    "#Evaluate each tag and store the models/eval metrics\n",
    "eval_results = []\n",
    "for tag in top_50_tags:\n",
    "    eval_result = fit_classification_model(tag)\n",
    "    eval_results.append(eval_result)"
   ]
  },
  {
   "cell_type": "code",
   "execution_count": null,
   "id": "44e6e03e-8345-4af3-b9f8-9ea7c5e92846",
   "metadata": {},
   "outputs": [
    {
     "data": {
      "text/plain": [
       "[{'tag': 'java',\n",
       "  'Log_reg_htfidf_model': LogisticRegressionModel: uid=LogisticRegression_1480097e889f, numClasses=2, numFeatures=262144,\n",
       "  'accuracy': 0.883612721290929,\n",
       "  'f1_score': 0.873453685938679},\n",
       " {'tag': 'c#',\n",
       "  'Log_reg_htfidf_model': LogisticRegressionModel: uid=LogisticRegression_2f4e37144f6a, numClasses=2, numFeatures=262144,\n",
       "  'accuracy': 0.8682751057496475,\n",
       "  'f1_score': 0.8511188294230159},\n",
       " {'tag': 'javascript',\n",
       "  'Log_reg_htfidf_model': LogisticRegressionModel: uid=LogisticRegression_7350de5d931b, numClasses=2, numFeatures=262144,\n",
       "  'accuracy': 0.8965846780510731,\n",
       "  'f1_score': 0.8817062882941256},\n",
       " {'tag': 'php',\n",
       "  'Log_reg_htfidf_model': LogisticRegressionModel: uid=LogisticRegression_583c9c269abb, numClasses=2, numFeatures=262144,\n",
       "  'accuracy': 0.9229672567758107,\n",
       "  'f1_score': 0.9152943655644681},\n",
       " {'tag': 'c++',\n",
       "  'Log_reg_htfidf_model': LogisticRegressionModel: uid=LogisticRegression_13b32d4f96a6, numClasses=2, numFeatures=262144,\n",
       "  'accuracy': 0.9204593523320121,\n",
       "  'f1_score': 0.9059030163591125},\n",
       " {'tag': 'jquery',\n",
       "  'Log_reg_htfidf_model': LogisticRegressionModel: uid=LogisticRegression_d6fcae5d4fed, numClasses=2, numFeatures=262144,\n",
       "  'accuracy': 0.9342315525614915,\n",
       "  'f1_score': 0.9260444036093863},\n",
       " {'tag': 'html',\n",
       "  'Log_reg_htfidf_model': LogisticRegressionModel: uid=LogisticRegression_88334872d694, numClasses=2, numFeatures=262144,\n",
       "  'accuracy': 0.9328372238759204,\n",
       "  'f1_score': 0.9227061164805903},\n",
       " {'tag': 'python',\n",
       "  'Log_reg_htfidf_model': LogisticRegressionModel: uid=LogisticRegression_18b863c93cae, numClasses=2, numFeatures=262144,\n",
       "  'accuracy': 0.9472661757794141,\n",
       "  'f1_score': 0.9416879525096598},\n",
       " {'tag': 'css',\n",
       "  'Log_reg_htfidf_model': LogisticRegressionModel: uid=LogisticRegression_04bc139d3541, numClasses=2, numFeatures=262144,\n",
       "  'accuracy': 0.9628544571518095,\n",
       "  'f1_score': 0.9593307021012154},\n",
       " {'tag': 'android',\n",
       "  'Log_reg_htfidf_model': LogisticRegressionModel: uid=LogisticRegression_feff7cbe1201, numClasses=2, numFeatures=262144,\n",
       "  'accuracy': 0.965423781920727,\n",
       "  'f1_score': 0.9622272129831217},\n",
       " {'tag': 'c',\n",
       "  'Log_reg_htfidf_model': LogisticRegressionModel: uid=LogisticRegression_a17fbc26ac16, numClasses=2, numFeatures=262144,\n",
       "  'accuracy': 0.9482523617791286,\n",
       "  'f1_score': 0.9378237543486118},\n",
       " {'tag': 'sql',\n",
       "  'Log_reg_htfidf_model': LogisticRegressionModel: uid=LogisticRegression_1705329ff98b, numClasses=2, numFeatures=262144,\n",
       "  'accuracy': 0.9591414695284349,\n",
       "  'f1_score': 0.9543531518660665},\n",
       " {'tag': 'mysql',\n",
       "  'Log_reg_htfidf_model': LogisticRegressionModel: uid=LogisticRegression_4b8130b17f85, numClasses=2, numFeatures=262144,\n",
       "  'accuracy': 0.9621958670823607,\n",
       "  'f1_score': 0.9551657135307843},\n",
       " {'tag': 'arrays',\n",
       "  'Log_reg_htfidf_model': LogisticRegressionModel: uid=LogisticRegression_1642a368a757, numClasses=2, numFeatures=262144,\n",
       "  'accuracy': 0.9643897853673821,\n",
       "  'f1_score': 0.9580272325103403},\n",
       " {'tag': 'string',\n",
       "  'Log_reg_htfidf_model': LogisticRegressionModel: uid=LogisticRegression_fcc689afad1e, numClasses=2, numFeatures=262144,\n",
       "  'accuracy': 0.9628382083379028,\n",
       "  'f1_score': 0.960446622597368},\n",
       " {'tag': 'sql-server',\n",
       "  'Log_reg_htfidf_model': LogisticRegressionModel: uid=LogisticRegression_45c0cc17fa8a, numClasses=2, numFeatures=262144,\n",
       "  'accuracy': 0.9741657527808241,\n",
       "  'f1_score': 0.9686920348980156},\n",
       " {'tag': 'iphone',\n",
       "  'Log_reg_htfidf_model': LogisticRegressionModel: uid=LogisticRegression_7312b2bcfc3a, numClasses=2, numFeatures=262144,\n",
       "  'accuracy': 0.977330408898637,\n",
       "  'f1_score': 0.973027651456386},\n",
       " {'tag': 'ios',\n",
       "  'Log_reg_htfidf_model': LogisticRegressionModel: uid=LogisticRegression_031f9c24d039, numClasses=2, numFeatures=262144,\n",
       "  'accuracy': 0.9770954096819677,\n",
       "  'f1_score': 0.9731571259973866},\n",
       " {'tag': 'regex',\n",
       "  'Log_reg_htfidf_model': LogisticRegressionModel: uid=LogisticRegression_690af59ce8ee, numClasses=2, numFeatures=262144,\n",
       "  'accuracy': 0.9820457785646023,\n",
       "  'f1_score': 0.9802991740605773},\n",
       " {'tag': 'objective-c',\n",
       "  'Log_reg_htfidf_model': LogisticRegressionModel: uid=LogisticRegression_1e705f5203b4, numClasses=2, numFeatures=262144,\n",
       "  'accuracy': 0.9775180560560247,\n",
       "  'f1_score': 0.973440606616179},\n",
       " {'tag': 'algorithm',\n",
       "  'Log_reg_htfidf_model': LogisticRegressionModel: uid=LogisticRegression_9de33048adaf, numClasses=2, numFeatures=262144,\n",
       "  'accuracy': 0.9817167745068855,\n",
       "  'f1_score': 0.978636314713837},\n",
       " {'tag': 'ruby',\n",
       "  'Log_reg_htfidf_model': LogisticRegressionModel: uid=LogisticRegression_2acb597a9644, numClasses=2, numFeatures=262144,\n",
       "  'accuracy': 0.983080056399812,\n",
       "  'f1_score': 0.9814093259591943},\n",
       " {'tag': 'performance',\n",
       "  'Log_reg_htfidf_model': LogisticRegressionModel: uid=LogisticRegression_8e2aa624a023, numClasses=2, numFeatures=262144,\n",
       "  'accuracy': 0.9826411192404706,\n",
       "  'f1_score': 0.9780437677310005},\n",
       " {'tag': 'database',\n",
       "  'Log_reg_htfidf_model': LogisticRegressionModel: uid=LogisticRegression_b644c8f77e45, numClasses=2, numFeatures=262144,\n",
       "  'accuracy': 0.9836907988531859,\n",
       "  'f1_score': 0.9793330279544984},\n",
       " {'tag': 'linux',\n",
       "  'Log_reg_htfidf_model': LogisticRegressionModel: uid=LogisticRegression_22b910b7f2a3, numClasses=2, numFeatures=262144,\n",
       "  'accuracy': 0.9840043866520445,\n",
       "  'f1_score': 0.9807198401184684},\n",
       " {'tag': 'ruby-on-rails',\n",
       "  'Log_reg_htfidf_model': LogisticRegressionModel: uid=LogisticRegression_396bddb9e37d, numClasses=2, numFeatures=262144,\n",
       "  'accuracy': 0.987842707190976,\n",
       "  'f1_score': 0.986580691238468},\n",
       " {'tag': 'windows',\n",
       "  'Log_reg_htfidf_model': LogisticRegressionModel: uid=LogisticRegression_f60a66bbd16a, numClasses=2, numFeatures=262144,\n",
       "  'accuracy': 0.9848658133450312,\n",
       "  'f1_score': 0.9811819746329313},\n",
       " {'tag': 'list',\n",
       "  'Log_reg_htfidf_model': LogisticRegressionModel: uid=LogisticRegression_5d4b6eee3775, numClasses=2, numFeatures=262144,\n",
       "  'accuracy': 0.9854295920285768,\n",
       "  'f1_score': 0.9831025531467542},\n",
       " {'tag': 'multithreading',\n",
       "  'Log_reg_htfidf_model': LogisticRegressionModel: uid=LogisticRegression_9d1e922fbcf0, numClasses=2, numFeatures=262144,\n",
       "  'accuracy': 0.9891743694187686,\n",
       "  'f1_score': 0.9876407121698},\n",
       " {'tag': 'oop',\n",
       "  'Log_reg_htfidf_model': LogisticRegressionModel: uid=LogisticRegression_773202643c53, numClasses=2, numFeatures=262144,\n",
       "  'accuracy': 0.9868396315096822,\n",
       "  'f1_score': 0.9833879582413441},\n",
       " {'tag': 'bash',\n",
       "  'Log_reg_htfidf_model': LogisticRegressionModel: uid=LogisticRegression_3f00f6f69f06, numClasses=2, numFeatures=262144,\n",
       "  'accuracy': 0.9893153689487701,\n",
       "  'f1_score': 0.9880904637740308},\n",
       " {'tag': 'eclipse',\n",
       "  'Log_reg_htfidf_model': LogisticRegressionModel: uid=LogisticRegression_5a19963553f6, numClasses=2, numFeatures=262144,\n",
       "  'accuracy': 0.9904745491861067,\n",
       "  'f1_score': 0.9890086010766903},\n",
       " {'tag': 'ajax',\n",
       "  'Log_reg_htfidf_model': LogisticRegressionModel: uid=LogisticRegression_7fdd6d3530b1, numClasses=2, numFeatures=262144,\n",
       "  'accuracy': 0.988829703900987,\n",
       "  'f1_score': 0.9867908548785908},\n",
       " {'tag': 'perl',\n",
       "  'Log_reg_htfidf_model': LogisticRegressionModel: uid=LogisticRegression_efa8623923ba, numClasses=2, numFeatures=262144,\n",
       "  'accuracy': 0.9889703578366861,\n",
       "  'f1_score': 0.9877682752428009},\n",
       " {'tag': 'json',\n",
       "  'Log_reg_htfidf_model': LogisticRegressionModel: uid=LogisticRegression_e1272bc5b2a7, numClasses=2, numFeatures=262144,\n",
       "  'accuracy': 0.9907096976343412,\n",
       "  'f1_score': 0.9902959853667899},\n",
       " {'tag': 'pointers',\n",
       "  'Log_reg_htfidf_model': LogisticRegressionModel: uid=LogisticRegression_de473b7242ec, numClasses=2, numFeatures=262144,\n",
       "  'accuracy': 0.9898480338398872,\n",
       "  'f1_score': 0.9881750740367563},\n",
       " {'tag': 'visual-studio',\n",
       "  'Log_reg_htfidf_model': LogisticRegressionModel: uid=LogisticRegression_933b06f9d113, numClasses=2, numFeatures=262144,\n",
       "  'accuracy': 0.9915712293784956,\n",
       "  'f1_score': 0.9896837927286763},\n",
       " {'tag': 'xml',\n",
       "  'Log_reg_htfidf_model': LogisticRegressionModel: uid=LogisticRegression_dd274c72061b, numClasses=2, numFeatures=262144,\n",
       "  'accuracy': 0.990208212567955,\n",
       "  'f1_score': 0.990080901248565},\n",
       " {'tag': 'winforms',\n",
       "  'Log_reg_htfidf_model': LogisticRegressionModel: uid=LogisticRegression_0f8c2ae22f12, numClasses=2, numFeatures=262144,\n",
       "  'accuracy': 0.9891428660953485,\n",
       "  'f1_score': 0.98795243262305},\n",
       " {'tag': 'linq',\n",
       "  'Log_reg_htfidf_model': LogisticRegressionModel: uid=LogisticRegression_92f83ac47b0c, numClasses=2, numFeatures=262144,\n",
       "  'accuracy': 0.9903650321165596,\n",
       "  'f1_score': 0.9895422630984609},\n",
       " {'tag': 'function',\n",
       "  'Log_reg_htfidf_model': LogisticRegressionModel: uid=LogisticRegression_8ce0b5d4e157, numClasses=2, numFeatures=262144,\n",
       "  'accuracy': 0.989691367695441,\n",
       "  'f1_score': 0.9876787962107837},\n",
       " {'tag': 'class',\n",
       "  'Log_reg_htfidf_model': LogisticRegressionModel: uid=LogisticRegression_9cb55098457c, numClasses=2, numFeatures=262144,\n",
       "  'accuracy': 0.990035877109151,\n",
       "  'f1_score': 0.987365162186178},\n",
       " {'tag': 'tsql',\n",
       "  'Log_reg_htfidf_model': LogisticRegressionModel: uid=LogisticRegression_9dc4369fbe98, numClasses=2, numFeatures=262144,\n",
       "  'accuracy': 0.9910543631521228,\n",
       "  'f1_score': 0.9891570500930469},\n",
       " {'tag': 'wpf',\n",
       "  'Log_reg_htfidf_model': LogisticRegressionModel: uid=LogisticRegression_db1b5d769a09, numClasses=2, numFeatures=262144,\n",
       "  'accuracy': 0.9927305770104498,\n",
       "  'f1_score': 0.9929284146174886},\n",
       " {'tag': 'xcode',\n",
       "  'Log_reg_htfidf_model': LogisticRegressionModel: uid=LogisticRegression_ae8ca3fa087e, numClasses=2, numFeatures=262144,\n",
       "  'accuracy': 0.992856023813254,\n",
       "  'f1_score': 0.991336029903428},\n",
       " {'tag': 'language-agnostic',\n",
       "  'Log_reg_htfidf_model': LogisticRegressionModel: uid=LogisticRegression_bc1a3ff49ebf, numClasses=2, numFeatures=262144,\n",
       "  'accuracy': 0.9911637525850724,\n",
       "  'f1_score': 0.9888266426207825},\n",
       " {'tag': 'asp_dot_net',\n",
       "  'Log_reg_htfidf_model': LogisticRegressionModel: uid=LogisticRegression_281c4ed4cd9c, numClasses=2, numFeatures=262144,\n",
       "  'accuracy': 0.9703587654707818,\n",
       "  'f1_score': 0.9682422482269981},\n",
       " {'tag': 'asp_dot_net-mvc',\n",
       "  'Log_reg_htfidf_model': LogisticRegressionModel: uid=LogisticRegression_cced5e772629, numClasses=2, numFeatures=262144,\n",
       "  'accuracy': 0.9902710324298919,\n",
       "  'f1_score': 0.9886543095744603},\n",
       " {'tag': 'vb_dot_net',\n",
       "  'Log_reg_htfidf_model': LogisticRegressionModel: uid=LogisticRegression_f6196266302c, numClasses=2, numFeatures=262144,\n",
       "  'accuracy': 0.9909760300798998,\n",
       "  'f1_score': 0.9898378256283997},\n",
       " {'tag': 'dot_net',\n",
       "  'Log_reg_htfidf_model': LogisticRegressionModel: uid=LogisticRegression_7b142d49c2b7, numClasses=2, numFeatures=262144,\n",
       "  'accuracy': 0.9470451839318168,\n",
       "  'f1_score': 0.9331936302540648}]"
      ]
     },
     "execution_count": 34,
     "metadata": {},
     "output_type": "execute_result"
    }
   ],
   "source": [
    "#Logistic regression models and evaluation metrics for each of the 50 tags\n",
    "eval_results"
   ]
  },
  {
   "cell_type": "code",
   "execution_count": 35,
   "id": "4ed0535f-2fe2-4931-bdec-30a7e081fc51",
   "metadata": {},
   "outputs": [
    {
     "name": "stderr",
     "output_type": "stream",
     "text": [
      "[Stage 11074:>                                                      (0 + 1) / 1]\r"
     ]
    },
    {
     "name": "stdout",
     "output_type": "stream",
     "text": [
      "+-----------+------------------+------------------+\n",
      "|tag        |accuracy          |f1_score          |\n",
      "+-----------+------------------+------------------+\n",
      "|java       |0.883612721290929 |0.873453685938679 |\n",
      "|c#         |0.8682751057496475|0.8511188294230159|\n",
      "|javascript |0.8965846780510731|0.8817062882941256|\n",
      "|php        |0.9229672567758107|0.9152943655644681|\n",
      "|c++        |0.9204593523320121|0.9059030163591125|\n",
      "|jquery     |0.9342315525614915|0.9260444036093863|\n",
      "|html       |0.9328372238759204|0.9227061164805903|\n",
      "|python     |0.9472661757794141|0.9416879525096598|\n",
      "|css        |0.9628544571518095|0.9593307021012154|\n",
      "|android    |0.965423781920727 |0.9622272129831217|\n",
      "|c          |0.9482523617791286|0.9378237543486118|\n",
      "|sql        |0.9591414695284349|0.9543531518660665|\n",
      "|mysql      |0.9621958670823607|0.9551657135307843|\n",
      "|arrays     |0.9643897853673821|0.9580272325103403|\n",
      "|string     |0.9628382083379028|0.960446622597368 |\n",
      "|sql-server |0.9741657527808241|0.9686920348980156|\n",
      "|iphone     |0.977330408898637 |0.973027651456386 |\n",
      "|ios        |0.9770954096819677|0.9731571259973866|\n",
      "|regex      |0.9820457785646023|0.9802991740605773|\n",
      "|objective-c|0.9775180560560247|0.973440606616179 |\n",
      "+-----------+------------------+------------------+\n",
      "only showing top 20 rows\n",
      "\n"
     ]
    },
    {
     "name": "stderr",
     "output_type": "stream",
     "text": [
      "                                                                                \r"
     ]
    }
   ],
   "source": [
    "from pyspark.sql import Row\n",
    "\n",
    "#Convert results to PySpark DataFrame\n",
    "metrics_data = sc.parallelize([\n",
    "    Row(\n",
    "        tag=eval_result[\"tag\"],\n",
    "        accuracy=eval_result[\"accuracy\"],\n",
    "        f1_score=eval_result[\"f1_score\"]\n",
    "    )\n",
    "    for eval_result in eval_results\n",
    "])\n",
    "\n",
    "metrics_df = spark.createDataFrame(metrics_data)\n",
    "metrics_df.show(truncate=False)"
   ]
  },
  {
   "cell_type": "code",
   "execution_count": 49,
   "id": "d45147fa-199c-44af-8414-fd39823248c8",
   "metadata": {},
   "outputs": [
    {
     "name": "stderr",
     "output_type": "stream",
     "text": [
      "[Stage 11287:>                                                      (0 + 1) / 1]\r"
     ]
    },
    {
     "name": "stdout",
     "output_type": "stream",
     "text": [
      "+-----------------+------------------+------------------+\n",
      "|tag              |accuracy          |f1_score          |\n",
      "+-----------------+------------------+------------------+\n",
      "|java             |0.883612721290929 |0.873453685938679 |\n",
      "|c#               |0.8682751057496475|0.8511188294230159|\n",
      "|javascript       |0.8965846780510731|0.8817062882941256|\n",
      "|php              |0.9229672567758107|0.9152943655644681|\n",
      "|c++              |0.9204593523320121|0.9059030163591125|\n",
      "|jquery           |0.9342315525614915|0.9260444036093863|\n",
      "|html             |0.9328372238759204|0.9227061164805903|\n",
      "|python           |0.9472661757794141|0.9416879525096598|\n",
      "|css              |0.9628544571518095|0.9593307021012154|\n",
      "|android          |0.965423781920727 |0.9622272129831217|\n",
      "|c                |0.9482523617791286|0.9378237543486118|\n",
      "|sql              |0.9591414695284349|0.9543531518660665|\n",
      "|mysql            |0.9621958670823607|0.9551657135307843|\n",
      "|arrays           |0.9643897853673821|0.9580272325103403|\n",
      "|string           |0.9628382083379028|0.960446622597368 |\n",
      "|sql-server       |0.9741657527808241|0.9686920348980156|\n",
      "|iphone           |0.977330408898637 |0.973027651456386 |\n",
      "|ios              |0.9770954096819677|0.9731571259973866|\n",
      "|regex            |0.9820457785646023|0.9802991740605773|\n",
      "|objective-c      |0.9775180560560247|0.973440606616179 |\n",
      "|algorithm        |0.9817167745068855|0.978636314713837 |\n",
      "|ruby             |0.983080056399812 |0.9814093259591943|\n",
      "|performance      |0.9826411192404706|0.9780437677310005|\n",
      "|database         |0.9836907988531859|0.9793330279544984|\n",
      "|linux            |0.9840043866520445|0.9807198401184684|\n",
      "|ruby-on-rails    |0.987842707190976 |0.986580691238468 |\n",
      "|windows          |0.9848658133450312|0.9811819746329313|\n",
      "|list             |0.9854295920285768|0.9831025531467542|\n",
      "|multithreading   |0.9891743694187686|0.9876407121698   |\n",
      "|oop              |0.9868396315096822|0.9833879582413441|\n",
      "|bash             |0.9893153689487701|0.9880904637740308|\n",
      "|eclipse          |0.9904745491861067|0.9890086010766903|\n",
      "|ajax             |0.988829703900987 |0.9867908548785908|\n",
      "|perl             |0.9889703578366861|0.9877682752428009|\n",
      "|json             |0.9907096976343412|0.9902959853667899|\n",
      "|pointers         |0.9898480338398872|0.9881750740367563|\n",
      "|visual-studio    |0.9915712293784956|0.9896837927286763|\n",
      "|xml              |0.990208212567955 |0.990080901248565 |\n",
      "|winforms         |0.9891428660953485|0.98795243262305  |\n",
      "|linq             |0.9903650321165596|0.9895422630984609|\n",
      "|function         |0.989691367695441 |0.9876787962107837|\n",
      "|class            |0.990035877109151 |0.987365162186178 |\n",
      "|tsql             |0.9910543631521228|0.9891570500930469|\n",
      "|wpf              |0.9927305770104498|0.9929284146174886|\n",
      "|xcode            |0.992856023813254 |0.991336029903428 |\n",
      "|language-agnostic|0.9911637525850724|0.9888266426207825|\n",
      "|asp_dot_net      |0.9703587654707818|0.9682422482269981|\n",
      "|asp_dot_net-mvc  |0.9902710324298919|0.9886543095744603|\n",
      "|vb_dot_net       |0.9909760300798998|0.9898378256283997|\n",
      "|dot_net          |0.9470451839318168|0.9331936302540648|\n",
      "+-----------------+------------------+------------------+\n",
      "\n"
     ]
    },
    {
     "name": "stderr",
     "output_type": "stream",
     "text": [
      "                                                                                \r"
     ]
    }
   ],
   "source": [
    "metrics_df.show(50,truncate=False)"
   ]
  },
  {
   "cell_type": "markdown",
   "id": "2cebc3d7-946a-4c1d-b262-f2e1505bba27",
   "metadata": {},
   "source": [
    "### Save the models"
   ]
  },
  {
   "cell_type": "code",
   "execution_count": 48,
   "id": "71e7ae74-ed2e-44e1-ad50-b943b9e867f5",
   "metadata": {},
   "outputs": [
    {
     "name": "stderr",
     "output_type": "stream",
     "text": [
      "24/12/01 07:09:39 WARN org.apache.spark.scheduler.TaskSetManager: Stage 11088 contains a task of very large size (1746 KiB). The maximum recommended task size is 1000 KiB.\n",
      "                                                                                \r"
     ]
    },
    {
     "name": "stdout",
     "output_type": "stream",
     "text": [
      "java model saved to gs://msca-bdp-student-gcs/Group6/Tag_classification_models/Log_Reg_java\n"
     ]
    },
    {
     "name": "stderr",
     "output_type": "stream",
     "text": [
      "24/12/01 07:09:41 WARN org.apache.spark.scheduler.TaskSetManager: Stage 11092 contains a task of very large size (1746 KiB). The maximum recommended task size is 1000 KiB.\n",
      "                                                                                \r"
     ]
    },
    {
     "name": "stdout",
     "output_type": "stream",
     "text": [
      "c# model saved to gs://msca-bdp-student-gcs/Group6/Tag_classification_models/Log_Reg_c#\n"
     ]
    },
    {
     "name": "stderr",
     "output_type": "stream",
     "text": [
      "24/12/01 07:09:44 WARN org.apache.spark.scheduler.TaskSetManager: Stage 11096 contains a task of very large size (1746 KiB). The maximum recommended task size is 1000 KiB.\n",
      "                                                                                \r"
     ]
    },
    {
     "name": "stdout",
     "output_type": "stream",
     "text": [
      "javascript model saved to gs://msca-bdp-student-gcs/Group6/Tag_classification_models/Log_Reg_javascript\n"
     ]
    },
    {
     "name": "stderr",
     "output_type": "stream",
     "text": [
      "24/12/01 07:09:46 WARN org.apache.spark.scheduler.TaskSetManager: Stage 11100 contains a task of very large size (1746 KiB). The maximum recommended task size is 1000 KiB.\n",
      "                                                                                \r"
     ]
    },
    {
     "name": "stdout",
     "output_type": "stream",
     "text": [
      "php model saved to gs://msca-bdp-student-gcs/Group6/Tag_classification_models/Log_Reg_php\n"
     ]
    },
    {
     "name": "stderr",
     "output_type": "stream",
     "text": [
      "24/12/01 07:09:49 WARN org.apache.spark.scheduler.TaskSetManager: Stage 11104 contains a task of very large size (1746 KiB). The maximum recommended task size is 1000 KiB.\n",
      "                                                                                \r"
     ]
    },
    {
     "name": "stdout",
     "output_type": "stream",
     "text": [
      "c++ model saved to gs://msca-bdp-student-gcs/Group6/Tag_classification_models/Log_Reg_c++\n"
     ]
    },
    {
     "name": "stderr",
     "output_type": "stream",
     "text": [
      "24/12/01 07:09:51 WARN org.apache.spark.scheduler.TaskSetManager: Stage 11108 contains a task of very large size (1746 KiB). The maximum recommended task size is 1000 KiB.\n",
      "                                                                                \r"
     ]
    },
    {
     "name": "stdout",
     "output_type": "stream",
     "text": [
      "jquery model saved to gs://msca-bdp-student-gcs/Group6/Tag_classification_models/Log_Reg_jquery\n"
     ]
    },
    {
     "name": "stderr",
     "output_type": "stream",
     "text": [
      "24/12/01 07:09:54 WARN org.apache.spark.scheduler.TaskSetManager: Stage 11112 contains a task of very large size (1746 KiB). The maximum recommended task size is 1000 KiB.\n",
      "                                                                                \r"
     ]
    },
    {
     "name": "stdout",
     "output_type": "stream",
     "text": [
      "html model saved to gs://msca-bdp-student-gcs/Group6/Tag_classification_models/Log_Reg_html\n"
     ]
    },
    {
     "name": "stderr",
     "output_type": "stream",
     "text": [
      "24/12/01 07:09:57 WARN org.apache.spark.scheduler.TaskSetManager: Stage 11116 contains a task of very large size (1746 KiB). The maximum recommended task size is 1000 KiB.\n",
      "                                                                                \r"
     ]
    },
    {
     "name": "stdout",
     "output_type": "stream",
     "text": [
      "python model saved to gs://msca-bdp-student-gcs/Group6/Tag_classification_models/Log_Reg_python\n"
     ]
    },
    {
     "name": "stderr",
     "output_type": "stream",
     "text": [
      "24/12/01 07:10:00 WARN org.apache.spark.scheduler.TaskSetManager: Stage 11120 contains a task of very large size (1746 KiB). The maximum recommended task size is 1000 KiB.\n",
      "                                                                                \r"
     ]
    },
    {
     "name": "stdout",
     "output_type": "stream",
     "text": [
      "css model saved to gs://msca-bdp-student-gcs/Group6/Tag_classification_models/Log_Reg_css\n"
     ]
    },
    {
     "name": "stderr",
     "output_type": "stream",
     "text": [
      "24/12/01 07:10:02 WARN org.apache.spark.scheduler.TaskSetManager: Stage 11124 contains a task of very large size (1746 KiB). The maximum recommended task size is 1000 KiB.\n",
      "                                                                                \r"
     ]
    },
    {
     "name": "stdout",
     "output_type": "stream",
     "text": [
      "android model saved to gs://msca-bdp-student-gcs/Group6/Tag_classification_models/Log_Reg_android\n"
     ]
    },
    {
     "name": "stderr",
     "output_type": "stream",
     "text": [
      "24/12/01 07:10:05 WARN org.apache.spark.scheduler.TaskSetManager: Stage 11128 contains a task of very large size (1746 KiB). The maximum recommended task size is 1000 KiB.\n",
      "                                                                                \r"
     ]
    },
    {
     "name": "stdout",
     "output_type": "stream",
     "text": [
      "c model saved to gs://msca-bdp-student-gcs/Group6/Tag_classification_models/Log_Reg_c\n"
     ]
    },
    {
     "name": "stderr",
     "output_type": "stream",
     "text": [
      "24/12/01 07:10:08 WARN org.apache.spark.scheduler.TaskSetManager: Stage 11132 contains a task of very large size (1746 KiB). The maximum recommended task size is 1000 KiB.\n",
      "                                                                                \r"
     ]
    },
    {
     "name": "stdout",
     "output_type": "stream",
     "text": [
      "sql model saved to gs://msca-bdp-student-gcs/Group6/Tag_classification_models/Log_Reg_sql\n"
     ]
    },
    {
     "name": "stderr",
     "output_type": "stream",
     "text": [
      "24/12/01 07:10:10 WARN org.apache.spark.scheduler.TaskSetManager: Stage 11136 contains a task of very large size (1746 KiB). The maximum recommended task size is 1000 KiB.\n",
      "                                                                                \r"
     ]
    },
    {
     "name": "stdout",
     "output_type": "stream",
     "text": [
      "mysql model saved to gs://msca-bdp-student-gcs/Group6/Tag_classification_models/Log_Reg_mysql\n"
     ]
    },
    {
     "name": "stderr",
     "output_type": "stream",
     "text": [
      "24/12/01 07:10:13 WARN org.apache.spark.scheduler.TaskSetManager: Stage 11140 contains a task of very large size (1746 KiB). The maximum recommended task size is 1000 KiB.\n",
      "                                                                                \r"
     ]
    },
    {
     "name": "stdout",
     "output_type": "stream",
     "text": [
      "arrays model saved to gs://msca-bdp-student-gcs/Group6/Tag_classification_models/Log_Reg_arrays\n"
     ]
    },
    {
     "name": "stderr",
     "output_type": "stream",
     "text": [
      "24/12/01 07:10:15 WARN org.apache.spark.scheduler.TaskSetManager: Stage 11144 contains a task of very large size (1746 KiB). The maximum recommended task size is 1000 KiB.\n",
      "                                                                                \r"
     ]
    },
    {
     "name": "stdout",
     "output_type": "stream",
     "text": [
      "string model saved to gs://msca-bdp-student-gcs/Group6/Tag_classification_models/Log_Reg_string\n"
     ]
    },
    {
     "name": "stderr",
     "output_type": "stream",
     "text": [
      "24/12/01 07:10:18 WARN org.apache.spark.scheduler.TaskSetManager: Stage 11148 contains a task of very large size (1746 KiB). The maximum recommended task size is 1000 KiB.\n",
      "                                                                                \r"
     ]
    },
    {
     "name": "stdout",
     "output_type": "stream",
     "text": [
      "sql-server model saved to gs://msca-bdp-student-gcs/Group6/Tag_classification_models/Log_Reg_sql-server\n"
     ]
    },
    {
     "name": "stderr",
     "output_type": "stream",
     "text": [
      "24/12/01 07:10:20 WARN org.apache.spark.scheduler.TaskSetManager: Stage 11152 contains a task of very large size (1746 KiB). The maximum recommended task size is 1000 KiB.\n",
      "                                                                                \r"
     ]
    },
    {
     "name": "stdout",
     "output_type": "stream",
     "text": [
      "iphone model saved to gs://msca-bdp-student-gcs/Group6/Tag_classification_models/Log_Reg_iphone\n"
     ]
    },
    {
     "name": "stderr",
     "output_type": "stream",
     "text": [
      "24/12/01 07:10:23 WARN org.apache.spark.scheduler.TaskSetManager: Stage 11156 contains a task of very large size (1746 KiB). The maximum recommended task size is 1000 KiB.\n",
      "                                                                                \r"
     ]
    },
    {
     "name": "stdout",
     "output_type": "stream",
     "text": [
      "ios model saved to gs://msca-bdp-student-gcs/Group6/Tag_classification_models/Log_Reg_ios\n"
     ]
    },
    {
     "name": "stderr",
     "output_type": "stream",
     "text": [
      "24/12/01 07:10:25 WARN org.apache.spark.scheduler.TaskSetManager: Stage 11160 contains a task of very large size (1746 KiB). The maximum recommended task size is 1000 KiB.\n",
      "                                                                                \r"
     ]
    },
    {
     "name": "stdout",
     "output_type": "stream",
     "text": [
      "regex model saved to gs://msca-bdp-student-gcs/Group6/Tag_classification_models/Log_Reg_regex\n"
     ]
    },
    {
     "name": "stderr",
     "output_type": "stream",
     "text": [
      "24/12/01 07:10:28 WARN org.apache.spark.scheduler.TaskSetManager: Stage 11164 contains a task of very large size (1746 KiB). The maximum recommended task size is 1000 KiB.\n",
      "                                                                                \r"
     ]
    },
    {
     "name": "stdout",
     "output_type": "stream",
     "text": [
      "objective-c model saved to gs://msca-bdp-student-gcs/Group6/Tag_classification_models/Log_Reg_objective-c\n"
     ]
    },
    {
     "name": "stderr",
     "output_type": "stream",
     "text": [
      "24/12/01 07:10:30 WARN org.apache.spark.scheduler.TaskSetManager: Stage 11168 contains a task of very large size (1746 KiB). The maximum recommended task size is 1000 KiB.\n",
      "                                                                                \r"
     ]
    },
    {
     "name": "stdout",
     "output_type": "stream",
     "text": [
      "algorithm model saved to gs://msca-bdp-student-gcs/Group6/Tag_classification_models/Log_Reg_algorithm\n"
     ]
    },
    {
     "name": "stderr",
     "output_type": "stream",
     "text": [
      "24/12/01 07:10:33 WARN org.apache.spark.scheduler.TaskSetManager: Stage 11172 contains a task of very large size (1746 KiB). The maximum recommended task size is 1000 KiB.\n",
      "                                                                                \r"
     ]
    },
    {
     "name": "stdout",
     "output_type": "stream",
     "text": [
      "ruby model saved to gs://msca-bdp-student-gcs/Group6/Tag_classification_models/Log_Reg_ruby\n"
     ]
    },
    {
     "name": "stderr",
     "output_type": "stream",
     "text": [
      "24/12/01 07:10:35 WARN org.apache.spark.scheduler.TaskSetManager: Stage 11176 contains a task of very large size (1746 KiB). The maximum recommended task size is 1000 KiB.\n",
      "                                                                                \r"
     ]
    },
    {
     "name": "stdout",
     "output_type": "stream",
     "text": [
      "performance model saved to gs://msca-bdp-student-gcs/Group6/Tag_classification_models/Log_Reg_performance\n"
     ]
    },
    {
     "name": "stderr",
     "output_type": "stream",
     "text": [
      "24/12/01 07:10:38 WARN org.apache.spark.scheduler.TaskSetManager: Stage 11180 contains a task of very large size (1746 KiB). The maximum recommended task size is 1000 KiB.\n",
      "                                                                                \r"
     ]
    },
    {
     "name": "stdout",
     "output_type": "stream",
     "text": [
      "database model saved to gs://msca-bdp-student-gcs/Group6/Tag_classification_models/Log_Reg_database\n"
     ]
    },
    {
     "name": "stderr",
     "output_type": "stream",
     "text": [
      "24/12/01 07:10:40 WARN org.apache.spark.scheduler.TaskSetManager: Stage 11184 contains a task of very large size (1746 KiB). The maximum recommended task size is 1000 KiB.\n",
      "                                                                                \r"
     ]
    },
    {
     "name": "stdout",
     "output_type": "stream",
     "text": [
      "linux model saved to gs://msca-bdp-student-gcs/Group6/Tag_classification_models/Log_Reg_linux\n"
     ]
    },
    {
     "name": "stderr",
     "output_type": "stream",
     "text": [
      "24/12/01 07:10:43 WARN org.apache.spark.scheduler.TaskSetManager: Stage 11188 contains a task of very large size (1746 KiB). The maximum recommended task size is 1000 KiB.\n",
      "                                                                                \r"
     ]
    },
    {
     "name": "stdout",
     "output_type": "stream",
     "text": [
      "ruby-on-rails model saved to gs://msca-bdp-student-gcs/Group6/Tag_classification_models/Log_Reg_ruby-on-rails\n"
     ]
    },
    {
     "name": "stderr",
     "output_type": "stream",
     "text": [
      "24/12/01 07:10:45 WARN org.apache.spark.scheduler.TaskSetManager: Stage 11192 contains a task of very large size (1746 KiB). The maximum recommended task size is 1000 KiB.\n",
      "                                                                                \r"
     ]
    },
    {
     "name": "stdout",
     "output_type": "stream",
     "text": [
      "windows model saved to gs://msca-bdp-student-gcs/Group6/Tag_classification_models/Log_Reg_windows\n"
     ]
    },
    {
     "name": "stderr",
     "output_type": "stream",
     "text": [
      "24/12/01 07:10:48 WARN org.apache.spark.scheduler.TaskSetManager: Stage 11196 contains a task of very large size (1746 KiB). The maximum recommended task size is 1000 KiB.\n",
      "                                                                                \r"
     ]
    },
    {
     "name": "stdout",
     "output_type": "stream",
     "text": [
      "list model saved to gs://msca-bdp-student-gcs/Group6/Tag_classification_models/Log_Reg_list\n"
     ]
    },
    {
     "name": "stderr",
     "output_type": "stream",
     "text": [
      "24/12/01 07:10:50 WARN org.apache.spark.scheduler.TaskSetManager: Stage 11200 contains a task of very large size (1746 KiB). The maximum recommended task size is 1000 KiB.\n",
      "                                                                                \r"
     ]
    },
    {
     "name": "stdout",
     "output_type": "stream",
     "text": [
      "multithreading model saved to gs://msca-bdp-student-gcs/Group6/Tag_classification_models/Log_Reg_multithreading\n"
     ]
    },
    {
     "name": "stderr",
     "output_type": "stream",
     "text": [
      "24/12/01 07:10:53 WARN org.apache.spark.scheduler.TaskSetManager: Stage 11204 contains a task of very large size (1746 KiB). The maximum recommended task size is 1000 KiB.\n",
      "                                                                                \r"
     ]
    },
    {
     "name": "stdout",
     "output_type": "stream",
     "text": [
      "oop model saved to gs://msca-bdp-student-gcs/Group6/Tag_classification_models/Log_Reg_oop\n"
     ]
    },
    {
     "name": "stderr",
     "output_type": "stream",
     "text": [
      "24/12/01 07:10:56 WARN org.apache.spark.scheduler.TaskSetManager: Stage 11208 contains a task of very large size (1746 KiB). The maximum recommended task size is 1000 KiB.\n",
      "                                                                                \r"
     ]
    },
    {
     "name": "stdout",
     "output_type": "stream",
     "text": [
      "bash model saved to gs://msca-bdp-student-gcs/Group6/Tag_classification_models/Log_Reg_bash\n"
     ]
    },
    {
     "name": "stderr",
     "output_type": "stream",
     "text": [
      "24/12/01 07:10:58 WARN org.apache.spark.scheduler.TaskSetManager: Stage 11212 contains a task of very large size (1746 KiB). The maximum recommended task size is 1000 KiB.\n",
      "                                                                                \r"
     ]
    },
    {
     "name": "stdout",
     "output_type": "stream",
     "text": [
      "eclipse model saved to gs://msca-bdp-student-gcs/Group6/Tag_classification_models/Log_Reg_eclipse\n"
     ]
    },
    {
     "name": "stderr",
     "output_type": "stream",
     "text": [
      "24/12/01 07:11:00 WARN org.apache.spark.scheduler.TaskSetManager: Stage 11216 contains a task of very large size (1746 KiB). The maximum recommended task size is 1000 KiB.\n",
      "                                                                                \r"
     ]
    },
    {
     "name": "stdout",
     "output_type": "stream",
     "text": [
      "ajax model saved to gs://msca-bdp-student-gcs/Group6/Tag_classification_models/Log_Reg_ajax\n"
     ]
    },
    {
     "name": "stderr",
     "output_type": "stream",
     "text": [
      "24/12/01 07:11:03 WARN org.apache.spark.scheduler.TaskSetManager: Stage 11220 contains a task of very large size (1746 KiB). The maximum recommended task size is 1000 KiB.\n",
      "                                                                                \r"
     ]
    },
    {
     "name": "stdout",
     "output_type": "stream",
     "text": [
      "perl model saved to gs://msca-bdp-student-gcs/Group6/Tag_classification_models/Log_Reg_perl\n"
     ]
    },
    {
     "name": "stderr",
     "output_type": "stream",
     "text": [
      "24/12/01 07:11:05 WARN org.apache.spark.scheduler.TaskSetManager: Stage 11224 contains a task of very large size (1746 KiB). The maximum recommended task size is 1000 KiB.\n",
      "                                                                                \r"
     ]
    },
    {
     "name": "stdout",
     "output_type": "stream",
     "text": [
      "json model saved to gs://msca-bdp-student-gcs/Group6/Tag_classification_models/Log_Reg_json\n"
     ]
    },
    {
     "name": "stderr",
     "output_type": "stream",
     "text": [
      "24/12/01 07:11:08 WARN org.apache.spark.scheduler.TaskSetManager: Stage 11228 contains a task of very large size (1746 KiB). The maximum recommended task size is 1000 KiB.\n",
      "                                                                                \r"
     ]
    },
    {
     "name": "stdout",
     "output_type": "stream",
     "text": [
      "pointers model saved to gs://msca-bdp-student-gcs/Group6/Tag_classification_models/Log_Reg_pointers\n"
     ]
    },
    {
     "name": "stderr",
     "output_type": "stream",
     "text": [
      "24/12/01 07:11:10 WARN org.apache.spark.scheduler.TaskSetManager: Stage 11232 contains a task of very large size (1746 KiB). The maximum recommended task size is 1000 KiB.\n",
      "                                                                                \r"
     ]
    },
    {
     "name": "stdout",
     "output_type": "stream",
     "text": [
      "visual-studio model saved to gs://msca-bdp-student-gcs/Group6/Tag_classification_models/Log_Reg_visual-studio\n"
     ]
    },
    {
     "name": "stderr",
     "output_type": "stream",
     "text": [
      "24/12/01 07:11:12 WARN org.apache.spark.scheduler.TaskSetManager: Stage 11236 contains a task of very large size (1746 KiB). The maximum recommended task size is 1000 KiB.\n",
      "                                                                                \r"
     ]
    },
    {
     "name": "stdout",
     "output_type": "stream",
     "text": [
      "xml model saved to gs://msca-bdp-student-gcs/Group6/Tag_classification_models/Log_Reg_xml\n"
     ]
    },
    {
     "name": "stderr",
     "output_type": "stream",
     "text": [
      "24/12/01 07:11:15 WARN org.apache.spark.scheduler.TaskSetManager: Stage 11240 contains a task of very large size (1746 KiB). The maximum recommended task size is 1000 KiB.\n",
      "                                                                                \r"
     ]
    },
    {
     "name": "stdout",
     "output_type": "stream",
     "text": [
      "winforms model saved to gs://msca-bdp-student-gcs/Group6/Tag_classification_models/Log_Reg_winforms\n"
     ]
    },
    {
     "name": "stderr",
     "output_type": "stream",
     "text": [
      "24/12/01 07:11:17 WARN org.apache.spark.scheduler.TaskSetManager: Stage 11244 contains a task of very large size (1746 KiB). The maximum recommended task size is 1000 KiB.\n",
      "                                                                                \r"
     ]
    },
    {
     "name": "stdout",
     "output_type": "stream",
     "text": [
      "linq model saved to gs://msca-bdp-student-gcs/Group6/Tag_classification_models/Log_Reg_linq\n"
     ]
    },
    {
     "name": "stderr",
     "output_type": "stream",
     "text": [
      "24/12/01 07:11:20 WARN org.apache.spark.scheduler.TaskSetManager: Stage 11248 contains a task of very large size (1746 KiB). The maximum recommended task size is 1000 KiB.\n",
      "                                                                                \r"
     ]
    },
    {
     "name": "stdout",
     "output_type": "stream",
     "text": [
      "function model saved to gs://msca-bdp-student-gcs/Group6/Tag_classification_models/Log_Reg_function\n"
     ]
    },
    {
     "name": "stderr",
     "output_type": "stream",
     "text": [
      "24/12/01 07:11:22 WARN org.apache.spark.scheduler.TaskSetManager: Stage 11252 contains a task of very large size (1746 KiB). The maximum recommended task size is 1000 KiB.\n",
      "                                                                                \r"
     ]
    },
    {
     "name": "stdout",
     "output_type": "stream",
     "text": [
      "class model saved to gs://msca-bdp-student-gcs/Group6/Tag_classification_models/Log_Reg_class\n"
     ]
    },
    {
     "name": "stderr",
     "output_type": "stream",
     "text": [
      "24/12/01 07:11:25 WARN org.apache.spark.scheduler.TaskSetManager: Stage 11256 contains a task of very large size (1746 KiB). The maximum recommended task size is 1000 KiB.\n",
      "                                                                                \r"
     ]
    },
    {
     "name": "stdout",
     "output_type": "stream",
     "text": [
      "tsql model saved to gs://msca-bdp-student-gcs/Group6/Tag_classification_models/Log_Reg_tsql\n"
     ]
    },
    {
     "name": "stderr",
     "output_type": "stream",
     "text": [
      "24/12/01 07:11:27 WARN org.apache.spark.scheduler.TaskSetManager: Stage 11260 contains a task of very large size (1746 KiB). The maximum recommended task size is 1000 KiB.\n",
      "                                                                                \r"
     ]
    },
    {
     "name": "stdout",
     "output_type": "stream",
     "text": [
      "wpf model saved to gs://msca-bdp-student-gcs/Group6/Tag_classification_models/Log_Reg_wpf\n"
     ]
    },
    {
     "name": "stderr",
     "output_type": "stream",
     "text": [
      "24/12/01 07:11:30 WARN org.apache.spark.scheduler.TaskSetManager: Stage 11264 contains a task of very large size (1746 KiB). The maximum recommended task size is 1000 KiB.\n",
      "                                                                                \r"
     ]
    },
    {
     "name": "stdout",
     "output_type": "stream",
     "text": [
      "xcode model saved to gs://msca-bdp-student-gcs/Group6/Tag_classification_models/Log_Reg_xcode\n"
     ]
    },
    {
     "name": "stderr",
     "output_type": "stream",
     "text": [
      "24/12/01 07:11:33 WARN org.apache.spark.scheduler.TaskSetManager: Stage 11268 contains a task of very large size (1746 KiB). The maximum recommended task size is 1000 KiB.\n",
      "                                                                                \r"
     ]
    },
    {
     "name": "stdout",
     "output_type": "stream",
     "text": [
      "language-agnostic model saved to gs://msca-bdp-student-gcs/Group6/Tag_classification_models/Log_Reg_language-agnostic\n"
     ]
    },
    {
     "name": "stderr",
     "output_type": "stream",
     "text": [
      "24/12/01 07:11:35 WARN org.apache.spark.scheduler.TaskSetManager: Stage 11272 contains a task of very large size (1746 KiB). The maximum recommended task size is 1000 KiB.\n",
      "                                                                                \r"
     ]
    },
    {
     "name": "stdout",
     "output_type": "stream",
     "text": [
      "asp_dot_net model saved to gs://msca-bdp-student-gcs/Group6/Tag_classification_models/Log_Reg_asp_dot_net\n"
     ]
    },
    {
     "name": "stderr",
     "output_type": "stream",
     "text": [
      "24/12/01 07:11:44 WARN org.apache.spark.scheduler.TaskSetManager: Stage 11276 contains a task of very large size (1746 KiB). The maximum recommended task size is 1000 KiB.\n",
      "                                                                                \r"
     ]
    },
    {
     "name": "stdout",
     "output_type": "stream",
     "text": [
      "asp_dot_net-mvc model saved to gs://msca-bdp-student-gcs/Group6/Tag_classification_models/Log_Reg_asp_dot_net-mvc\n"
     ]
    },
    {
     "name": "stderr",
     "output_type": "stream",
     "text": [
      "24/12/01 07:11:47 WARN org.apache.spark.scheduler.TaskSetManager: Stage 11280 contains a task of very large size (1746 KiB). The maximum recommended task size is 1000 KiB.\n",
      "                                                                                \r"
     ]
    },
    {
     "name": "stdout",
     "output_type": "stream",
     "text": [
      "vb_dot_net model saved to gs://msca-bdp-student-gcs/Group6/Tag_classification_models/Log_Reg_vb_dot_net\n"
     ]
    },
    {
     "name": "stderr",
     "output_type": "stream",
     "text": [
      "24/12/01 07:11:49 WARN org.apache.spark.scheduler.TaskSetManager: Stage 11284 contains a task of very large size (1746 KiB). The maximum recommended task size is 1000 KiB.\n",
      "                                                                                \r"
     ]
    },
    {
     "name": "stdout",
     "output_type": "stream",
     "text": [
      "dot_net model saved to gs://msca-bdp-student-gcs/Group6/Tag_classification_models/Log_Reg_dot_net\n"
     ]
    },
    {
     "name": "stderr",
     "output_type": "stream",
     "text": [
      "24/12/01 07:13:37 ERROR org.apache.spark.scheduler.cluster.YarnScheduler: Lost executor 13 on hub-hub-msca-bdp-dphub-student-mitalivipin-sw-dp8t.c.msca-bdp-student-ap.internal: Container marked as failed: container_1733031886451_0001_01_000014 on host: hub-hub-msca-bdp-dphub-student-mitalivipin-sw-dp8t.c.msca-bdp-student-ap.internal. Exit status: -100. Diagnostics: Container released on a *lost* node.\n",
      "24/12/01 07:13:37 WARN org.apache.spark.scheduler.cluster.YarnSchedulerBackend$YarnSchedulerEndpoint: Requesting driver to remove executor 13 for reason Container marked as failed: container_1733031886451_0001_01_000014 on host: hub-hub-msca-bdp-dphub-student-mitalivipin-sw-dp8t.c.msca-bdp-student-ap.internal. Exit status: -100. Diagnostics: Container released on a *lost* node.\n"
     ]
    }
   ],
   "source": [
    "for i in range(0,50):\n",
    "    tag = eval_results[i]['tag']\n",
    "    model = eval_results[i]['Log_reg_htfidf_model']\n",
    "\n",
    "    # Path to save the model in GCS\n",
    "    gcs_model_path = f'gs://msca-bdp-student-gcs/Group6/Tag_classification_models/Log_Reg_{tag}'\n",
    "\n",
    "    # Save the trained logistic regression model\n",
    "    model.save(gcs_model_path)\n",
    "    print(f\"{tag} model saved to {gcs_model_path}\")"
   ]
  },
  {
   "cell_type": "code",
   "execution_count": null,
   "id": "68924b64-1cd9-4fea-a4f8-ef42ae6096a5",
   "metadata": {},
   "outputs": [],
   "source": []
  }
 ],
 "metadata": {
  "kernelspec": {
   "display_name": "Python 3 (ipykernel)",
   "language": "python",
   "name": "python3"
  },
  "language_info": {
   "codemirror_mode": {
    "name": "ipython",
    "version": 3
   },
   "file_extension": ".py",
   "mimetype": "text/x-python",
   "name": "python",
   "nbconvert_exporter": "python",
   "pygments_lexer": "ipython3",
   "version": "3.11.7"
  }
 },
 "nbformat": 4,
 "nbformat_minor": 5
}
